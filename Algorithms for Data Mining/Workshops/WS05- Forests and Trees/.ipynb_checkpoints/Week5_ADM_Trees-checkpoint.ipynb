{
 "cells": [
  {
   "cell_type": "markdown",
   "metadata": {
    "collapsed": true
   },
   "source": [
    "# Algorithms for Data Mining Workshop: Week 5\n",
    "\n",
    "\n",
    "This week we will learn something about trees and forests for regression and classification. We will start with regression trees. Please download all files from blackboard before starting the notebook. Also, execute each code cell in the correct order. \n",
    "\n",
    "Please read over the whole notebook. It contains several solved exercises and two (2) that you need to add some very simple statements based on the already solved exercises. If something does not run it might mean you need to alter or add a statement :)"
   ]
  },
  {
   "cell_type": "markdown",
   "metadata": {
    "collapsed": true
   },
   "source": [
    "# Regression Trees"
   ]
  },
  {
   "cell_type": "markdown",
   "metadata": {
    "collapsed": true
   },
   "source": [
    "We start with a rather simple regression task. We have to learn a continous function with a 1-dimensional input.\n"
   ]
  },
  {
   "cell_type": "markdown",
   "metadata": {
    "collapsed": true
   },
   "source": [
    "We first load the training data with the pandas data frames and plot the training points and the \n",
    "ground-truth function. The ground-truth values are stored in the test data set in order to evaluate the quality \n",
    "of our fit. "
   ]
  },
  {
   "cell_type": "code",
   "execution_count": 1,
   "metadata": {},
   "outputs": [
    {
     "name": "stderr",
     "output_type": "stream",
     "text": [
      "C:\\Program Files (x86)\\Microsoft Visual Studio\\Shared\\Anaconda3_64\\lib\\site-packages\\ipykernel_launcher.py:5: FutureWarning: from_csv is deprecated. Please use read_csv(...) instead. Note that some of the default arguments are different, so please refer to the documentation for from_csv when changing your function calls\n",
      "  \"\"\"\n",
      "C:\\Program Files (x86)\\Microsoft Visual Studio\\Shared\\Anaconda3_64\\lib\\site-packages\\ipykernel_launcher.py:6: FutureWarning: from_csv is deprecated. Please use read_csv(...) instead. Note that some of the default arguments are different, so please refer to the documentation for from_csv when changing your function calls\n",
      "  \n"
     ]
    }
   ],
   "source": [
    "import pandas as pd\n",
    "import matplotlib.pyplot\n",
    "import numpy as np\n",
    "\n",
    "data_train = pd.DataFrame.from_csv('regression_train.csv')\n",
    "data_test = pd.DataFrame.from_csv('regression_test.csv')"
   ]
  },
  {
   "cell_type": "code",
   "execution_count": 2,
   "metadata": {},
   "outputs": [
    {
     "name": "stderr",
     "output_type": "stream",
     "text": [
      "C:\\Program Files (x86)\\Microsoft Visual Studio\\Shared\\Anaconda3_64\\lib\\site-packages\\ipykernel_launcher.py:1: FutureWarning: Method .as_matrix will be removed in a future version. Use .values instead.\n",
      "  \"\"\"Entry point for launching an IPython kernel.\n",
      "C:\\Program Files (x86)\\Microsoft Visual Studio\\Shared\\Anaconda3_64\\lib\\site-packages\\ipykernel_launcher.py:2: FutureWarning: Method .as_matrix will be removed in a future version. Use .values instead.\n",
      "  \n",
      "C:\\Program Files (x86)\\Microsoft Visual Studio\\Shared\\Anaconda3_64\\lib\\site-packages\\ipykernel_launcher.py:4: FutureWarning: Method .as_matrix will be removed in a future version. Use .values instead.\n",
      "  after removing the cwd from sys.path.\n",
      "C:\\Program Files (x86)\\Microsoft Visual Studio\\Shared\\Anaconda3_64\\lib\\site-packages\\ipykernel_launcher.py:5: FutureWarning: Method .as_matrix will be removed in a future version. Use .values instead.\n",
      "  \"\"\"\n"
     ]
    },
    {
     "data": {
      "text/plain": [
       "((150, 1), (150,))"
      ]
     },
     "execution_count": 2,
     "metadata": {},
     "output_type": "execute_result"
    }
   ],
   "source": [
    "x_train = data_train['x'].as_matrix()\n",
    "y_train = data_train['y'].as_matrix()\n",
    "\n",
    "x_test = data_test['x'].as_matrix()\n",
    "y_test = data_test['y'].as_matrix()\n",
    "\n",
    "x_train = x_train.reshape(-1, 1)\n",
    "\n",
    "x_test = x_test.reshape(-1, 1)\n",
    "\n",
    "x_train.shape, y_train.shape"
   ]
  },
  {
   "cell_type": "code",
   "execution_count": 3,
   "metadata": {},
   "outputs": [
    {
     "name": "stderr",
     "output_type": "stream",
     "text": [
      "C:\\Program Files (x86)\\Microsoft Visual Studio\\Shared\\Anaconda3_64\\lib\\site-packages\\ipykernel_launcher.py:9: MatplotlibDeprecationWarning: pyplot.hold is deprecated.\n",
      "    Future behavior will be consistent with the long-time default:\n",
      "    plot commands add elements without first clearing the\n",
      "    Axes and/or Figure.\n",
      "  if __name__ == '__main__':\n",
      "C:\\Program Files (x86)\\Microsoft Visual Studio\\Shared\\Anaconda3_64\\lib\\site-packages\\matplotlib\\__init__.py:911: MatplotlibDeprecationWarning: axes.hold is deprecated. Please remove it from your matplotlibrc and/or style files.\n",
      "  mplDeprecation)\n",
      "C:\\Program Files (x86)\\Microsoft Visual Studio\\Shared\\Anaconda3_64\\lib\\site-packages\\matplotlib\\rcsetup.py:156: MatplotlibDeprecationWarning: axes.hold is deprecated, will be removed in 3.0\n",
      "  mplDeprecation)\n"
     ]
    },
    {
     "data": {
      "image/png": "[encoded data removed]",
      "text/plain": [
       "<Figure size 432x288 with 1 Axes>"
      ]
     },
     "metadata": {},
     "output_type": "display_data"
    }
   ],
   "source": [
    "## plot the data\n",
    "import matplotlib.pyplot as plt\n",
    "\n",
    "plt.figure()\n",
    "plt.clf()\n",
    "plt.plot(x_train,y_train, 'bo')\n",
    "plt.plot(x_test,y_test, 'g')\n",
    "plt.legend(('training points', 'ground truth'))\n",
    "plt.hold(True)\n",
    "plt.savefig('trainingdata.png')\n",
    "plt.show()"
   ]
  },
  {
   "cell_type": "markdown",
   "metadata": {
    "collapsed": true
   },
   "source": [
    "## Training a Regression Tree"
   ]
  },
  {
   "cell_type": "markdown",
   "metadata": {
    "collapsed": true
   },
   "source": [
    "We will use the sklearn package to train our regression trees. sklearn is a generic machine learning library \n",
    "that offers a lot of learning algorithms. A regression tree can be generated by:"
   ]
  },
  {
   "cell_type": "code",
   "execution_count": null,
   "metadata": {
    "collapsed": true
   },
   "outputs": [],
   "source": [
    "from sklearn import tree\n",
    "\n",
    "regTree = tree.DecisionTreeRegressor(min_samples_leaf=1, max_depth=None)"
   ]
  },
  {
   "cell_type": "markdown",
   "metadata": {
    "collapsed": true
   },
   "source": [
    "We can set the minimum number of samples per leaf in the tree and the maximum depth of the tree as can be seen above. \n",
    "The tree can be trained by:"
   ]
  },
  {
   "cell_type": "code",
   "execution_count": null,
   "metadata": {
    "collapsed": true
   },
   "outputs": [],
   "source": [
    "regTree = regTree.fit(x_train, y_train)"
   ]
  },
  {
   "cell_type": "markdown",
   "metadata": {
    "collapsed": true
   },
   "source": [
    "We can use the trained tree for prediction by:"
   ]
  },
  {
   "cell_type": "code",
   "execution_count": null,
   "metadata": {
    "collapsed": true
   },
   "outputs": [],
   "source": [
    "y_predict = regTree.predict(x_test)"
   ]
  },
  {
   "cell_type": "markdown",
   "metadata": {
    "collapsed": true
   },
   "source": [
    "## Training the Tree\n",
    "\n",
    "In this excercise you are supposed to train the tree for our regression task. Train a tree with \n",
    "min_samples_leaf set to 1, 5 and 10 and predict the output for *x_test* and plot the predicted\n",
    "function values. Do you see a difference in the functions? Which value of min_samples_leaf would you use? "
   ]
  },
  {
   "cell_type": "code",
   "execution_count": null,
   "metadata": {},
   "outputs": [],
   "source": [
    "from sklearn import tree\n",
    "\n",
    "regTree1 = tree.DecisionTreeRegressor(min_samples_leaf=1)\n",
    "regTree1 = regTree1.fit(x_train, y_train)\n",
    "\n",
    "y_predict1 = regTree1.predict(x_test)\n",
    "\n",
    "regTree2 = tree.DecisionTreeRegressor(min_samples_leaf=5)\n",
    "regTree2 = regTree2.fit(x_train, y_train)\n",
    "y_predict2 = regTree2.predict(x_test)\n",
    "\n",
    "regTree3 = tree.DecisionTreeRegressor(min_samples_leaf=10)\n",
    "regTree3 = regTree3.fit(x_train, y_train)\n",
    "y_predict3 = regTree3.predict(x_test)\n",
    "\n",
    "\n",
    "plt.figure()\n",
    "plt.clf()\n",
    "plt.plot(x_train,y_train, 'bo')\n",
    "plt.plot(x_test,y_test, 'g')\n",
    "plt.plot(x_test,y_predict1, 'r', linewidth=2.0)\n",
    "plt.title('min_samples = 1')\n",
    "plt.savefig('regressiontrees1.png')\n",
    "\n",
    "\n",
    "plt.figure()\n",
    "plt.clf()\n",
    "plt.plot(x_train,y_train, 'bo')\n",
    "plt.plot(x_test,y_test, 'g')\n",
    "plt.plot(x_test,y_predict2, 'r',linewidth=2.0)\n",
    "plt.title('min_samples = 5')\n",
    "plt.savefig('regressiontrees5.png')\n",
    "\n",
    "\n",
    "plt.figure()\n",
    "plt.clf()\n",
    "plt.plot(x_train,y_train, 'bo')\n",
    "plt.plot(x_test,y_test, 'g')\n",
    "plt.plot(x_test,y_predict3, 'r',  linewidth=2.0)\n",
    "plt.title('min_samples = 10')\n",
    "\n",
    "plt.savefig('regressiontrees10.png')\n",
    "plt.show()"
   ]
  },
  {
   "cell_type": "markdown",
   "metadata": {
    "collapsed": true
   },
   "source": [
    "## Evaluating the trees\n",
    "\n",
    "We can also use sklearn to evaluate the tree. There are different metrics that we can use. We will use the \n",
    "mean squared error criterion to evaluate the trees. We can compute the mse on the train data"
   ]
  },
  {
   "cell_type": "code",
   "execution_count": null,
   "metadata": {},
   "outputs": [],
   "source": [
    "import sklearn.metrics as metrics\n",
    "\n",
    "mseTrainTree1 = metrics.mean_squared_error(y_train, regTree1.predict(x_train))\n",
    "mseTrainTree2 = metrics.mean_squared_error(y_train, regTree2.predict(x_train))\n",
    "mseTrainTree3 = metrics.mean_squared_error(y_train, regTree3.predict(x_train))\n",
    "\n",
    "mseTrainTree1, mseTrainTree2, mseTrainTree3"
   ]
  },
  {
   "cell_type": "markdown",
   "metadata": {
    "collapsed": true
   },
   "source": [
    "And we can compute the mse on the test data"
   ]
  },
  {
   "cell_type": "code",
   "execution_count": null,
   "metadata": {},
   "outputs": [],
   "source": [
    "import sklearn.metrics as metrics\n",
    "\n",
    "mseTestTree1 = metrics.mean_squared_error(y_test, regTree1.predict(x_test))\n",
    "mseTestTree2 = metrics.mean_squared_error(y_test, regTree2.predict(x_test))\n",
    "mseTestTree3 = metrics.mean_squared_error(y_test, regTree3.predict(x_test))\n",
    "\n",
    "mseTestTree1, mseTestTree2, mseTestTree3"
   ]
  },
  {
   "cell_type": "markdown",
   "metadata": {
    "collapsed": true
   },
   "source": [
    "We can see that trees with min_samples = 1 have 0 error on the training set as the training set is learned by heart.\n",
    "However, the error on the test set is the one that really counts. Here, also min_samples_leaf = 1 performs the best, but \n",
    "maybe we can find better settings of min_samples_leaf?"
   ]
  },
  {
   "cell_type": "markdown",
   "metadata": {
    "collapsed": true
   },
   "source": [
    "# Decision Trees\n",
    "In contrast to regression trees, the output for a decision tree is a discrete class label not \n",
    "a continuous value. A decision tree can be used for any multi-label classification problem. We will use the \n",
    "decision trees on the iris data set, where we will only use the first two features in the training data as input\n",
    "for illustration purposes. "
   ]
  },
  {
   "cell_type": "code",
   "execution_count": null,
   "metadata": {},
   "outputs": [],
   "source": [
    "from sklearn import datasets\n",
    "from sklearn.cross_validation import train_test_split\n",
    "\n",
    "iris = datasets.load_iris()\n",
    "\n",
    "X = iris.data[:,:2]\n",
    "Y = iris.target\n",
    "\n",
    "x_min, x_max = X[:, 0].min() - .5, X[:, 0].max() + .5\n",
    "y_min, y_max = X[:, 1].min() - .5, X[:, 1].max() + .5\n",
    "\n",
    "plt.figure()\n",
    "plt.clf()\n",
    "\n",
    "# Plot the training points\n",
    "plt.scatter(X[:, 0], X[:, 1], c=Y)\n",
    "plt.xlabel('Sepal length')\n",
    "plt.ylabel('Sepal width')\n",
    "\n",
    "plt.xlim(x_min, x_max)\n",
    "plt.ylim(y_min, y_max)\n",
    "plt.xticks(())\n",
    "plt.yticks(())\n",
    "plt.savefig('classification_data.png')\n",
    "plt.show()"
   ]
  },
  {
   "cell_type": "markdown",
   "metadata": {
    "collapsed": true
   },
   "source": [
    "The iris data set contains 3 classes of iris flowers that should be classified according to their sepal width \n",
    "and sepal length.  "
   ]
  },
  {
   "cell_type": "markdown",
   "metadata": {
    "collapsed": true
   },
   "source": [
    "We split the data set into 67% training data and 33% test data. I.e., we have 100 training and 50 test points. "
   ]
  },
  {
   "cell_type": "code",
   "execution_count": null,
   "metadata": {},
   "outputs": [],
   "source": [
    "X_train, X_test, Y_train, Y_test = train_test_split(X, Y, test_size=0.33, random_state=42)\n",
    "X_train.shape, X_test.shape"
   ]
  },
  {
   "cell_type": "markdown",
   "metadata": {
    "collapsed": true
   },
   "source": [
    "## Training a Decision Tree"
   ]
  },
  {
   "cell_type": "markdown",
   "metadata": {
    "collapsed": true
   },
   "source": [
    "We will again use the sklearn package. A decision tree can be generated by:"
   ]
  },
  {
   "cell_type": "code",
   "execution_count": null,
   "metadata": {
    "collapsed": true
   },
   "outputs": [],
   "source": [
    "from sklearn import tree\n",
    "\n",
    "decTree = tree.DecisionTreeClassifier(min_samples_leaf=2, max_depth=None)"
   ]
  },
  {
   "cell_type": "markdown",
   "metadata": {
    "collapsed": true
   },
   "source": [
    "We can set the same properties as for a regression tree. Similarly, we can train the tree"
   ]
  },
  {
   "cell_type": "code",
   "execution_count": null,
   "metadata": {
    "collapsed": true
   },
   "outputs": [],
   "source": [
    "decTree = decTree.fit(X_train, Y_train)"
   ]
  },
  {
   "cell_type": "markdown",
   "metadata": {
    "collapsed": true
   },
   "source": [
    "We can use the trained tree for prediction by:"
   ]
  },
  {
   "cell_type": "code",
   "execution_count": null,
   "metadata": {
    "collapsed": true
   },
   "outputs": [],
   "source": [
    "y_predict = decTree.predict(X_test)"
   ]
  },
  {
   "cell_type": "markdown",
   "metadata": {
    "collapsed": true
   },
   "source": [
    "## Plotting the decision boundary\n",
    "In this excercise we want to train a decision tree for different values of min_samples_leaf. After training the tree,\n",
    "we will plot the decision boundary of the learned tree with the existing python code. \n",
    "\n",
    "Plot the decision boundary for different number of min_samples_leaf. Can you observe a qualitatitve difference \n",
    "between the learned classifiers?"
   ]
  },
  {
   "cell_type": "code",
   "execution_count": null,
   "metadata": {},
   "outputs": [],
   "source": [
    "import matplotlib.pyplot as plt\n",
    "from sklearn.tree import DecisionTreeClassifier\n",
    "import sklearn.metrics as metrics\n",
    "\n",
    "n_classes = 3\n",
    "plot_colors = \"bry\"\n",
    "plot_step = 0.02\n",
    "\n",
    "clf = DecisionTreeClassifier(min_samples_leaf=5)\n",
    "\n",
    "clf = clf.fit(X_train, Y_train)  \n",
    "\n",
    "# create a grid for the two input dimensions\n",
    "xx, yy = np.meshgrid(np.arange(x_min, x_max, plot_step),\n",
    "                         np.arange(y_min, y_max, plot_step))\n",
    "\n",
    "plt.figure()\n",
    "Z = clf.predict(np.c_[xx.ravel(), yy.ravel()])\n",
    "Z = Z.reshape(xx.shape)\n",
    "cs = plt.contourf(xx, yy, Z, cmap=plt.cm.Paired)\n",
    "\n",
    "plt.scatter(X_train[:, 0], X_train[:, 1], c=Y_train, cmap=plt.cm.Paired)\n",
    "\n",
    "plt.xlabel(iris.feature_names[0])\n",
    "plt.ylabel(iris.feature_names[1])\n",
    "plt.axis(\"tight\")\n",
    "plt.savefig('classification_tree.png')\n",
    "plt.show()\n"
   ]
  },
  {
   "cell_type": "markdown",
   "metadata": {
    "collapsed": true
   },
   "source": [
    "Which value of min_samples_leaf would you choose?"
   ]
  },
  {
   "cell_type": "markdown",
   "metadata": {
    "collapsed": true
   },
   "source": [
    "## Evaluating decision trees\n",
    "For evaluating the decision tree, we can compute the average number of correctly \n",
    "classified samples on the test set. This metric is called  accuracy_score in sklearn. "
   ]
  },
  {
   "cell_type": "code",
   "execution_count": null,
   "metadata": {},
   "outputs": [],
   "source": [
    "from sklearn import metrics\n",
    "\n",
    "train_accuracy = metrics.accuracy_score(Y_train, clf.predict(X_train))\n",
    "test_accuracy = metrics.accuracy_score(Y_test, clf.predict(X_test))\n",
    "\n",
    "train_accuracy, test_accuracy"
   ]
  },
  {
   "cell_type": "markdown",
   "metadata": {
    "collapsed": true
   },
   "source": [
    "## Exercise 1: Finding the best min_samples_leaf value\n",
    "\n",
    "For the values of min_samples_leaf = [1,2,3,5,7,10, 15, 20, 50], compute the accuracy_score on the train and on \n",
    "the test set. Plot both accuracy scores as a function of min_samples_leaf. "
   ]
  },
  {
   "cell_type": "code",
   "execution_count": null,
   "metadata": {},
   "outputs": [],
   "source": [
    "from sklearn.tree import DecisionTreeClassifier\n",
    "from sklearn.cross_validation import cross_val_score\n",
    "\n",
    "minSamples = [1,2,3,5,7,10, 15, 20, 50]\n",
    "train_accuracy = np.zeros((len(minSamples),1))\n",
    "test_accuracy = np.zeros((len(minSamples),1))\n",
    "\n",
    "\n",
    "for i in range(0,len(minSamples)):\n",
    "   \n",
    "    clf = # declare a decisionTreeClassifier taking as input the minSamples\n",
    "      \n",
    "    clf.fit(X_train, Y_train)\n",
    "\n",
    "    train_accuracy[i] = metrics.accuracy_score(Y_train, clf.predict(X_train))\n",
    "    test_accuracy[i] = metrics.accuracy_score(Y_test, clf.predict(X_test))\n",
    "    \n",
    "\n",
    "plt.figure()\n",
    "plt.plot(minSamples, train_accuracy, 'b')\n",
    "plt.plot(minSamples, test_accuracy, 'g')\n",
    "plt.xlabel('min_samples_per_leaf')\n",
    "plt.ylabel('accuracy')\n",
    "plt.legend(('training set', 'test set'))\n",
    "plt.savefig('classification_minSamples.png')\n",
    "plt.show()\n"
   ]
  },
  {
   "cell_type": "markdown",
   "metadata": {
    "collapsed": true
   },
   "source": [
    "We can again see effects of overfitting and underfitting. For min_samples_leaf < 10, we have a high training accuracy but the test accuracy degrades. Thats overfitting. \n",
    "For min_samples_leaf > 20, test and training performance degrades which is a sign of underfitting. "
   ]
  },
  {
   "cell_type": "markdown",
   "metadata": {
    "collapsed": true
   },
   "source": [
    "## Training a Decision Forest"
   ]
  },
  {
   "cell_type": "markdown",
   "metadata": {
    "collapsed": true
   },
   "source": [
    "We will again use the sklearn package. A decision forest can be generated by:"
   ]
  },
  {
   "cell_type": "code",
   "execution_count": null,
   "metadata": {
    "collapsed": true
   },
   "outputs": [],
   "source": [
    "from sklearn import ensemble\n",
    "\n",
    "decForest = ensemble.RandomForestClassifier(n_estimators=10, min_samples_leaf=2, max_depth=None)"
   ]
  },
  {
   "cell_type": "markdown",
   "metadata": {
    "collapsed": true
   },
   "source": [
    "We can set the same properties as for a decision forest (including number of trees by n_estimator). \n",
    "Similarly, we can train the forest"
   ]
  },
  {
   "cell_type": "code",
   "execution_count": null,
   "metadata": {
    "collapsed": true
   },
   "outputs": [],
   "source": [
    "decForest = decForest.fit(X_train, Y_train)"
   ]
  },
  {
   "cell_type": "markdown",
   "metadata": {
    "collapsed": true
   },
   "source": [
    "We can use the trained tree for prediction by:"
   ]
  },
  {
   "cell_type": "code",
   "execution_count": null,
   "metadata": {
    "collapsed": true
   },
   "outputs": [],
   "source": [
    "y_predict = decForest.predict(X_test)"
   ]
  },
  {
   "cell_type": "markdown",
   "metadata": {
    "collapsed": true
   },
   "source": [
    "## Exercise 2: Plotting the decision boundary for decision forests\n",
    "In this excercise we want to train a decision forests for different values of n_estimators. After training the forest, we will plot the decision boundary of the learned forest with the existing python code. \n",
    "\n",
    "Plot the decision boundary for different number of min_samples_leaf and use min_samples_leaf = 10. Can you observe a qualitatitve difference between the learned classifiers? Execute your code several times. \n",
    "Can you observe a difference between the executions? If yes, why?"
   ]
  },
  {
   "cell_type": "code",
   "execution_count": null,
   "metadata": {},
   "outputs": [],
   "source": [
    "import matplotlib.pyplot as plt\n",
    "from sklearn.ensemble import RandomForestClassifier\n",
    "import sklearn.metrics as metrics\n",
    "\n",
    "n_classes = 3\n",
    "plot_colors = \"bry\"\n",
    "plot_step = 0.02\n",
    "\n",
    "clf = # add your code here to run the random forests classifier with num_estimators=50 and min_samples_leaf=10\n",
    "\n",
    "clf = # fit the model you have declared above\n",
    "\n",
    "xx, yy = np.meshgrid(np.arange(x_min, x_max, plot_step),\n",
    "                         np.arange(y_min, y_max, plot_step))\n",
    "\n",
    "plt.figure()\n",
    "\n",
    "Z = clf.predict(np.c_[xx.ravel(), yy.ravel()])\n",
    "Z = Z.reshape(xx.shape)\n",
    "\n",
    "cs = plt.contourf(xx, yy, Z, cmap=plt.cm.Paired)\n",
    "\n",
    "plt.scatter(X_train[:, 0], X_train[:, 1], c=Y_train, cmap=plt.cm.Paired)\n",
    "\n",
    "plt.xlabel(iris.feature_names[0])\n",
    "plt.ylabel(iris.feature_names[1])\n",
    "plt.axis(\"tight\")\n",
    "plt.savefig('classification_forest.png')\n",
    "plt.show()"
   ]
  },
  {
   "cell_type": "code",
   "execution_count": null,
   "metadata": {},
   "outputs": [],
   "source": [
    "from sklearn.ensemble import RandomForestClassifier\n",
    "\n",
    "minSamples = [1,3,5,7,10, 15, 20, 30]\n",
    "\n",
    "numTrials = 10\n",
    "train_accuracy_single = np.zeros((len(minSamples),numTrials))\n",
    "test_accuracy_single = np.zeros((len(minSamples),numTrials))\n",
    "\n",
    "train_accuracy_mean = np.zeros((len(minSamples),1))\n",
    "test_accuracy_mean = np.zeros((len(minSamples),1))\n",
    "\n",
    "train_accuracy_std = np.zeros((len(minSamples),1))\n",
    "test_accuracy_std = np.zeros((len(minSamples),1))\n",
    "\n",
    "\n",
    "for i in range(0,len(minSamples)):\n",
    "    clf = RandomForestClassifier(n_estimators=100, min_samples_leaf=minSamples[i])\n",
    "\n",
    "    for j in range(0, numTrials):\n",
    "        clf.fit(X_train, Y_train)\n",
    "\n",
    "        train_accuracy_single[i,j] = metrics.accuracy_score(Y_train, clf.predict(X_train))\n",
    "        test_accuracy_single[i, j] = metrics.accuracy_score(Y_test, clf.predict(X_test))\n",
    "\n",
    "    train_accuracy_mean[i] = np.mean(train_accuracy_single[i,:])\n",
    "    train_accuracy_std[i] = np.std(train_accuracy_single[i,:])\n",
    "    \n",
    "    test_accuracy_mean[i] = np.mean(test_accuracy_single[i,:])\n",
    "    test_accuracy_std[i] = np.std(test_accuracy_single[i,:])\n",
    "    \n",
    "        \n",
    "plt.figure()\n",
    "plt.errorbar(minSamples, train_accuracy_mean, yerr = train_accuracy_std)\n",
    "plt.errorbar(minSamples, test_accuracy_mean, yerr = test_accuracy_std)\n",
    "plt.savefig('classification_forest_minsamples.png')\n",
    "plt.show()"
   ]
  },
  {
   "cell_type": "markdown",
   "metadata": {
    "collapsed": true
   },
   "source": [
    "## Finding the best n_estimator value\n",
    "\n",
    "Test the algorithm for a different number of trees, i.e., [1,5,10,20,40,60,100]. Repeat each experiment 10 times and average over the performance values due to the randomness. Evaluate the average accuracy on the training and aon the test set for the given number of trees (n_estimators). \n",
    "Use min_samples_leaf = 15."
   ]
  },
  {
   "cell_type": "code",
   "execution_count": null,
   "metadata": {},
   "outputs": [],
   "source": [
    "from sklearn.ensemble import RandomForestClassifier\n",
    "from sklearn.cross_validation import cross_val_score\n",
    "\n",
    "numTrees  = [1,5,10,20,40,60,100]\n",
    "\n",
    "numTrials = 10\n",
    "train_accuracy_single = np.zeros((len(numTrees),numTrials))\n",
    "test_accuracy_single = np.zeros((len(numTrees),numTrials))\n",
    "\n",
    "train_accuracy_mean = np.zeros((len(numTrees),1))\n",
    "test_accuracy_mean = np.zeros((len(numTrees),1))\n",
    "\n",
    "train_accuracy_std = np.zeros((len(numTrees),1))\n",
    "test_accuracy_std = np.zeros((len(numTrees),1))\n",
    "\n",
    "for i in range(0,len(numTrees)):\n",
    "    clf = RandomForestClassifier(n_estimators=numTrees[i], min_samples_leaf=15)\n",
    "    \n",
    "    for j in range(0, numTrials):\n",
    "        clf.fit(X_train, Y_train)\n",
    "\n",
    "        train_accuracy_single[i,j] = metrics.accuracy_score(Y_train, clf.predict(X_train))\n",
    "        test_accuracy_single[i, j] = metrics.accuracy_score(Y_test, clf.predict(X_test))\n",
    "\n",
    "    train_accuracy_mean[i] = np.mean(train_accuracy_single[i,:])\n",
    "    train_accuracy_std[i] = np.std(train_accuracy_single[i,:])\n",
    "    \n",
    "    test_accuracy_mean[i] = np.mean(test_accuracy_single[i,:])\n",
    "    test_accuracy_std[i] = np.std(test_accuracy_single[i,:])\n",
    "    \n",
    "        \n",
    "plt.figure()\n",
    "plt.plot(numTrees, train_accuracy_mean)\n",
    "plt.plot(numTrees, test_accuracy_mean)\n",
    "\n",
    "plt.savefig('classification_forest_numtrees.png')\n",
    "plt.show()"
   ]
  },
  {
   "cell_type": "code",
   "execution_count": null,
   "metadata": {
    "collapsed": true
   },
   "outputs": [],
   "source": []
  }
 ],
 "metadata": {
  "kernelspec": {
   "display_name": "Python 3",
   "language": "python",
   "name": "python3"
  },
  "language_info": {
   "codemirror_mode": {
    "name": "ipython",
    "version": 3
   },
   "file_extension": ".py",
   "mimetype": "text/x-python",
   "name": "python",
   "nbconvert_exporter": "python",
   "pygments_lexer": "ipython3",
   "version": "3.6.5"
  }
 },
 "nbformat": 4,
 "nbformat_minor": 2
}
