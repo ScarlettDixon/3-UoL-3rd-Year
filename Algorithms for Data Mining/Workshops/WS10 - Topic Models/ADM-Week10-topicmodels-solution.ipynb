{
 "cells": [
  {
   "cell_type": "code",
   "execution_count": 1,
   "metadata": {
    "collapsed": true
   },
   "outputs": [],
   "source": [
    "%matplotlib inline"
   ]
  },
  {
   "cell_type": "markdown",
   "metadata": {},
   "source": [
    "# Algorithms for Data Mining Workshop Week 10 - Topic Models\n",
    "\n",
    "The goal of this workshop is to extract topic models out of a corpus of 20 newsgroups. The corpus contains over 11000 documents. We will test Non-negative Matrix Factorization and Latent Dirichlet Allocation on this corpus with different pre-processing steps. \n",
    "\n",
    "In order to make the notebook work, you first have to install the textblob library. This can be simply be done by:\n",
    "- change to comand line and change in the anaconda2/bin directory\n",
    "- type: \"./pip install -U textblob\"\n",
    "- type: \"./python -m textblob.download_corpora\"\n",
    "\n",
    "or simply\n",
    "- !pip install textblob\n",
    "- !python -m textblob.download_corpora\n",
    "\n",
    "\n",
    "# Topic extraction with Non-negative Matrix Factorization and Latent Dirichlet Allocation\n",
    "\n",
    "\n",
    "The default parameters (n_samples / n_features / n_topics) should make\n",
    "the example runnable in a couple of tens of seconds. You can try to\n",
    "increase the dimensions of the problem, but be aware that the time\n",
    "complexity is polynomial in NMF. In LDA, the time complexity is\n",
    "proportional to (n_samples * iterations).\n"
   ]
  },
  {
   "cell_type": "code",
   "execution_count": 1,
   "metadata": {
    "collapsed": true
   },
   "outputs": [],
   "source": [
    "# To install textblob\n",
    "#!pip install textblob\n",
    "#!python -m textblob.download_corpora"
   ]
  },
  {
   "cell_type": "code",
   "execution_count": null,
   "metadata": {},
   "outputs": [],
   "source": [
    "from __future__ import print_function\n",
    "from time import time\n",
    "\n",
    "from sklearn.feature_extraction.text import TfidfVectorizer, CountVectorizer\n",
    "from sklearn.decomposition import NMF, LatentDirichletAllocation\n",
    "from textblob import TextBlob\n",
    "from sklearn.datasets import fetch_20newsgroups\n",
    "\n",
    "n_samples = 2000\n",
    "n_topics = 20\n",
    "n_top_words = 20"
   ]
  },
  {
   "cell_type": "code",
   "execution_count": null,
   "metadata": {},
   "outputs": [],
   "source": [
    "# Load the 20 newsgroups dataset and vectorize it. We use a few heuristics\n",
    "# to filter out useless terms early on: the posts are stripped of headers,\n",
    "# footers and quoted replies, and common English words, words occurring in\n",
    "# only one document or in at least 95% of the documents are removed.\n",
    "\n",
    "print(\"Loading dataset...\")\n",
    "t0 = time()\n",
    "dataset = fetch_20newsgroups(shuffle=True, random_state=1,\n",
    "                             remove=('headers', 'footers', 'quotes'))\n",
    "data_samples = dataset.data[:n_samples]\n",
    "print(\"done in %0.3fs.\" % (time() - t0))\n",
    "\n",
    "# type of data_samples\n",
    "print(type(data_samples))\n",
    "# Look at the first entry\n",
    "print(data_samples[0])\n",
    "# How many documents do we have?\n",
    "len(data_samples)"
   ]
  },
  {
   "cell_type": "markdown",
   "metadata": {},
   "source": [
    "## Excercise 1: Data Preprocessing"
   ]
  },
  {
   "cell_type": "markdown",
   "metadata": {},
   "source": [
    "Our first step is data-preproccing. Write the function split_into_tokens that splits the documents into its single words. Subsequently, use the class CountVectorizer to transform the documents in the bag of words representation. How big is your resulting dictionary?\n"
   ]
  },
  {
   "cell_type": "code",
   "execution_count": 9,
   "metadata": {},
   "outputs": [
    {
     "data": {
      "text/plain": [
       "WordList([u'well', u'i', u\"'m\", u'not', u'sure', u'about', u'the', u'story', u'nad', u'it', u'did', u'seem', u'biased', u'what', u'i', u'disagree', u'with', u'is', u'your', u'statement', u'that', u'the', u'u.s', u'media', u'is', u'out', u'to', u'ruin', u'israels', u'reputation', u'that', u'is', u'rediculous', u'the', u'u.s', u'media', u'is', u'the', u'most', u'pro-israeli', u'media', u'in', u'the', u'world', u'having', u'lived', u'in', u'europe', u'i', u'realize', u'that', u'incidences', u'such', u'as', u'the', u'one', u'described', u'in', u'the', u'letter', u'have', u'occured', u'the', u'u.s', u'media', u'as', u'a', u'whole', u'seem', u'to', u'try', u'to', u'ignore', u'them', u'the', u'u.s', u'is', u'subsidizing', u'israels', u'existance', u'and', u'the', u'europeans', u'are', u'not', u'at', u'least', u'not', u'to', u'the', u'same', u'degree', u'so', u'i', u'think', u'that', u'might', u'be', u'a', u'reason', u'they', u'report', u'more', u'clearly', u'on', u'the', u'atrocities', u'what', u'is', u'a', u'shame', u'is', u'that', u'in', u'austria', u'daily', u'reports', u'of', u'the', u'inhuman', u'acts', u'commited', u'by', u'israeli', u'soldiers', u'and', u'the', u'blessing', u'received', u'from', u'the', u'government', u'makes', u'some', u'of', u'the', u'holocaust', u'guilt', u'go', u'away', u'after', u'all', u'look', u'how', u'the', u'jews', u'are', u'treating', u'other', u'races', u'when', u'they', u'got', u'power', u'it', u'is', u'unfortunate'])"
      ]
     },
     "execution_count": 9,
     "metadata": {},
     "output_type": "execute_result"
    }
   ],
   "source": [
    "def split_into_tokens(message):\n",
    "    message = message.lower()  # convert bytes into proper unicode\n",
    "    return TextBlob(message).words\n",
    "\n",
    "# How does the first element look like?\n",
    "split_into_tokens(data_samples[0])"
   ]
  },
  {
   "cell_type": "code",
   "execution_count": 10,
   "metadata": {},
   "outputs": [
    {
     "name": "stdout",
     "output_type": "stream",
     "text": [
      "38884\n"
     ]
    }
   ],
   "source": [
    "bow_transformer = CountVectorizer(analyzer=split_into_tokens)\n",
    "bow_transformer.fit(data_samples)\n",
    "data_bow = bow_transformer.transform(data_samples)\n",
    "\n",
    "print(len(bow_transformer.vocabulary_))"
   ]
  },
  {
   "cell_type": "markdown",
   "metadata": {},
   "source": [
    "Your dictionary is probably pretty huge! We can restrict the number of words by using the min_df and the max_df parameters of the Countvectorizer class. min_df says we want to use words that occur in at least the given percentage of documents. max_df says we do not want to use documents that occur in more then max_df % of the documents as these are uninformative. Use min_df = 0.001 and max_df = 0.3 and retrain the CountVectorizer. Is your vocabulary smaller now?"
   ]
  },
  {
   "cell_type": "code",
   "execution_count": 49,
   "metadata": {},
   "outputs": [
    {
     "name": "stdout",
     "output_type": "stream",
     "text": [
      "12337\n",
      "[u\"'30\", u\"'67\", u\"'70s\", u\"'72\", u\"'8\", u\"'80s\", u\"'83\", u\"'84\", u\"'85\", u\"'86\", u\"'87\", u\"'89\", u\"'90\", u\"'92\", u\"'93\", u\"'a\", u\"'am\", u\"'b\", u\"'bout\", u\"'c\", u\"'cause\", u\"'center\", u\"'cos\", u\"'d\", u\"'em\", u\"'enosis\", u\"'expected\", u\"'great\", u\"'h\", u\"'it\", u\"'ll\", u\"'m\", u\"'next\", u\"'nother\", u\"'ok\", u\"'ole\", u\"'phone\", u\"'re\", u\"'respected\", u\"'right\", u\"'safeguards\", u\"'t\", u\"'the\", u\"'turkish\", u\"'ve\", u'0', u'0-60', u'0.0', u'0.08', u'0.1', u'0.4', u'0.5', u'0.60', u'0.8', u'00', u'000', u'02', u'040', u'0500', u'06', u'0826', u'0863', u'09', u'0:14', u'0:18', u'0:31', u'0:32', u'0:40', u'0:54', u'0c', u'0i', u'1', u'1,000', u'1,000,000', u'1-0', u'1-2', u'1-3', u'1-800', u'1-9', u'1.0', u'1.1', u'1.11', u'1.2', u'1.21', u'1.2mb', u'1.3', u'1.4', u'1.44', u'1.5', u'1.6', u'1.7', u'1.8', u'1.9', u'1/2', u'1/3', u'1/4', u'1/6', u'1/8', u'10', u'10,000', u'10.00', u'10.2', u'10.5', u'100', u'100,000', u'100.00', u'1000', u'100mhz', u'101', u'1010', u'102', u'1020', u'1024', u'1024x768', u'103', u'1030', u'104', u'105', u'106', u'1069', u'107', u'108', u'109', u'10:00', u'10:06', u'10:37', u'10:43', u'10:44', u'10:51', u'10k', u'10mb/s', u'10th', u'10w', u'10w40', u'11', u'11.0', u'110', u'111', u'112', u'113', u'1138', u'114', u'115', u'1150', u'116', u'117', u'1179', u'118', u'119', u'11:09', u'11:15', u'11:26', u'11:27', u'11:30', u'11:58', u'12', u'12-story', u'120', u'1200', u'1200-1300', u'120v', u'121', u'122', u'123', u'124', u'125', u'126', u'127', u'128', u'128-bit', u'128.102.18.3', u'1280', u'1280x1024', u'129', u'12:27', u'12am', u'12v', u'13', u'13-14', u'13.9', u'130', u'130,000', u'130.216.1.5', u'1300', u'1304', u'131', u'132', u'133', u'135', u'136', u'137', u'1372', u'138', u'139', u'13:10', u'13:22', u'13:23:01', u'13:45', u'13th', u'14', u'14.4k', u'14.5', u'140', u'1400', u'141', u'142', u'143', u'144', u'145', u'1453', u'147', u'148', u'149', u'14:02', u'14:35', u'14:54', u'14ms', u'15', u'15,000', u'15-20mb/s', u'15.00', u'150', u'1500', u'151', u'155', u'156', u'157', u'1571', u'15h', u'15th', u'16', u'16-bit', u'16.7', u'160', u'162', u'163', u'165', u'16:16', u'16:57', u'16mb', u'16th', u'17', u'17.6', u'170', u'170mb', u'172', u'174', u'175', u'176', u'179', u'17:16', u'17:34', u'17:37', u'17th', u'18', u'18.1', u'18.172.1.27', u'18.5', u'180', u'18084tm', u'182', u'184', u'185', u'186', u'188', u'189', u'1890', u'1897', u'18:40', u'18:47', u'18:56', u'18th', u'19', u'19.4', u'19.6', u'190', u'1900', u'191', u'1914', u'1915', u'1916', u'1918', u'1919', u'192', u'192.35.246.17', u'1920', u'1928', u'1930', u'1934', u'1938', u'1940', u'1941', u'1943', u'1948', u'195', u'1950', u'1958', u'196', u'1960', u'1960s', u'1963', u'1964', u'1965', u'1966', u'1967', u'1968', u'1969', u'1970', u'1970s', u'1971', u'1972', u'1972-73', u'1973', u'1974', u'1974-75', u'1975-76', u'1976', u'1977', u'1978', u'1979', u'1979-80', u'198', u'1980', u'1981', u'1981-82', u'1982', u'1983', u'1983-84', u'1983-84,84-85', u'1984', u'1985', u'1985-86', u'1985-86,86-87', u'1986', u'1987', u'1988', u'1989', u'199', u'1990', u'1991', u'1992', u'1992-93', u'1993', u'1994', u'1995', u'1997', u'1999', u'19:05', u'19:11', u'19:38', u'19:42', u'19:48', u'19th', u'1:00', u'1:1', u'1:23', u'1:24', u'1:29', u'1:39', u'1b', u'1i', u'1k', u'1m', u'1mb', u'1r', u'1st', u'2', u'2,000', u'2,500', u'2-1', u'2-3', u'2-5', u'2-d', u'2.0', u'2.01', u'2.0b', u'2.1', u'2.1a', u'2.2', u'2.4', u'2.5', u'2.6', u'2.7', u'2.8', u'2.9', u'2.95d', u'2.x', u'2/3', u'20', u'20.00', u'200', u'200,000', u'2000', u'2001', u'2003', u'2004', u'20084-5000', u'2010', u'202', u'203', u'2048', u'205', u'208', u'209', u'20mb', u'20mb/s', u'20th', u'20w50', u'21', u'21.1', u'21.2', u'21.3', u'210', u'21000', u'2109', u'211', u'212', u'213', u'214', u'215', u'216', u'218', u'219', u'21st', u'22', u'22.0', u'22.1', u'220', u'221', u'222', u'223', u'224', u'225', u'23', u'23-54-7', u'23.0', u'23.8', u'23.9', u'230', u'231', u'238', u'24', u'24.3', u'240', u'2400', u'24060', u'243', u'246', u'248', u'249', u'24bit', u'24th', u'25', u'25-26', u'25.00', u'25.8', u'250', u'250.00', u'251', u'253', u'255', u'256', u'256k', u'257', u'258', u'25mhz', u'25th', u'26', u'260', u'2600', u'267', u'269', u'27', u'27.6', u'270', u'275', u'278', u'27th', u'28', u'28.3', u'280', u'2800', u'282', u'284', u'286', u'28th', u'29', u'29th', u'2:08', u'2:15', u'2^80', u'2a', u'2a3', u'2a42dubinski.vms.csd.mu.edu', u'2b', u'2d', u'2k', u'2mb', u'2nd', u'2p', u'2w', u'2x', u'3', u'3-4', u'3-d', u'3.0', u'3.1', u'3.2', u'3.3', u'3.5', u'3.6', u'3.7', u'3.8', u'3.x', u'30', u'30.00', u'300', u'3000', u'3000ux', u'300zx', u'301', u'303', u'305', u'30k', u'31', u'312', u'313', u'32', u'32-bit', u'32-bit/wide', u'32.3', u'320', u'325', u'327/278', u'328', u'329', u'32k', u'33', u'330', u'336-9591', u'33mhz', u'34', u'34.7', u'34f', u'35', u'35.0', u'350', u'358', u'36', u'36.9', u'360', u'360k', u'362', u'368', u'37', u'37-36-11', u'38', u'38.3', u'38.7', u'382', u'386', u'386/25', u'386bsd', u'386sx', u'39', u'39.6', u'3959', u'3:16', u'3:37', u'3:42', u'3b2', u'3c', u'3d', u'3do', u'3ds', u'3k', u'3rd', u'3v', u'3x', u'4', u'4,000', u'4-0', u'4-1', u'4-10', u'4-2', u'4-3', u'4-6', u'4-6mb/s', u'4-pin', u'4.0', u'4.00', u'4.1', u'4.1.1', u'4.2', u'4.3', u'4.7', u'4/15', u'4/16/93', u'4/17/93', u'4/21', u'4/23', u'40', u'40,000', u'40-bit', u'400', u'4000', u'4004', u'403', u'404', u'408', u'40mb/s', u'40mhz', u'40mph', u'41', u'412', u'413', u'415', u'416', u'4173', u'42', u'42.0', u'42.4', u'429', u'429-1200', u'43', u'430', u'433', u'44', u'440mhz', u'441', u'44135', u'45', u'45.2', u'458', u'46', u'462-0666', u'47', u'471', u'479', u'48', u'48.0', u'48.8', u'48.9', u'4800', u'486', u'486-33', u'486dx-33', u'49', u'495', u'4:42', u'4d', u'4mb', u'4th', u'4wd', u'4x', u'5', u'5-1', u'5-10', u'5-2', u'5-4', u'5-6', u'5-8', u'5-year', u'5.0', u'5.1', u'5.2', u'5.25', u'5.4', u'5.46', u'5.6', u'5.9', u'50', u'50,000', u'500', u'500,000', u'500.00', u'5000', u'5000/240', u'501', u'503', u'505', u'507', u'508', u'50mhz', u'51', u'510', u'512', u'512k', u'513', u'514', u'515', u'516', u'517-355-2178', u'52', u'52.6', u'53', u'54', u'54.4', u'545', u'55', u'55.1', u'550', u'5500e', u'552-4381', u'56', u'56.3', u'57', u'58', u'58.1', u'580', u'59', u'59.2', u'590.9', u'5:24', u'5:25', u'5:26', u'5:28', u'5:40', u'5k', u'5p', u'5th', u'5v', u'5w', u'6', u'6-1', u'6-2', u'6-5', u'6-6', u'6-8', u'6.0', u'6.2', u'6.3', u'6.5', u'60', u'60,000', u'60.4', u'600', u'600,000', u'6000', u'604-222-1047', u'604-222-1074', u'60k', u'60mph', u'60s', u'61', u'610', u'613', u'617', u'62', u'63', u'64', u'64-bit', u'649', u'64k', u'64kb', u'64x64', u'65', u'65.3', u'65.4', u'650', u'66', u'663', u'666', u'66mhz', u'67', u'68', u'68.6', u'68000', u'68030', u'68040', u'68060', u'68070', u'680x0', u'68h', u'69', u'69.1', u'6:17', u'6:44', u'6:57', u'6th', u'6v', u'7', u'7.0', u'7.1', u'7.3', u'7.6', u'70', u'70.00', u'700', u'7000', u'703', u'707', u'708', u'71', u'713', u'72', u'72.6', u'727', u'73', u'73.8', u'74', u'75', u'75.00', u'750', u'750-3511', u'7500', u'76', u'763-2626', u'77', u'78', u'78.4', u'78.9', u'782', u'79', u'7:48', u'7th', u'8', u'8-12mb/s', u'8-bit', u'8.0', u'8.00', u'8.1', u'8.4', u'8/230/cd', u'80', u'80,000', u'80-90', u'80-bit', u'800', u'800k', u'800x600', u'801', u'804', u'805', u'80mb', u'80ns', u'81', u'814', u'818', u'82', u'83', u'834', u'84', u'84-85', u'84602', u'85', u'850', u'86', u'86.5', u'87', u'88', u'880', u'884', u'89', u'890', u'8900c', u'894', u'8959', u'8983', u'8:00', u'8:39', u'8bit', u'8k', u'8m', u'8th', u'9', u'9-10', u'9.1', u'9.7', u'90', u'90-91', u'900', u'9000', u'91', u'91-92', u'914', u'92', u'921', u'924', u'93', u'93/04/01', u'930', u'937', u'939', u'94', u'940', u'949', u'95', u'950', u'95060', u'96', u'97', u'977', u'98', u'99', u'995', u'9:14', u'9:26', u'9:43', u'9b', u'9k', u'9mm', u'9th', u'9v', u'a.a', u'a.d', u'a.j', u'a.lizard', u'a.m', u'a/c', u'a/ux', u'a2', u'a2000', u'a5', u'a6', u'a9', u'aa', u'aaa', u'aardvark.ucs.uoknor.edu', u'aaron', u'ab', u'abandon', u'abandoned', u'abbreviation', u'abc', u'abide', u'abiding', u'abilities', u'ability', u'able', u'aboard', u'abolish', u'abolished', u'abomination', u'abominations', u'abortion', u'about', u'above', u'abraham', u'abroad', u'abruptly', u'abs', u'absence', u'absolute', u'absolutely', u'absolutes', u'absorb', u'absorbing', u'abstract', u'abstracts', u'absurd', u'absurdity', u'abundant', u'abuse', u'abused', u'abuses', u'abusive', u'ac', u'ac/dc', u'acad', u'acad3.alaska.edu', u'academic', u'academy', u'accel', u'accelerated', u'accelerating', u'acceleration', u'accelerator', u'accept', u'acceptable', u'acceptance', u'accepted', u'accepting', u'accepts', u'access', u'access.digex.com', u'accessed', u'accesses', u'accessible', u'accessing', u'accessories', u'accessory', u'accident', u'accidental', u'accidentally', u'accidents', u'accommodate', u'accompanied', u'accomplish', u'accomplished', u'accord', u'according', u'account', u'accounting', u'accounts', u'accross', u'accuracy', u'accurate', u'accurately', u'accusation', u'accusations', u'accuse', u'accused', u'accusing', u'ace', u'achieve', u'achieved', u'acid', u'acknowledge', u'acknowledged', u'acknowledgement', u'aclu', u'acm', u'acorn', u'acquire', u'acquired', u'acquiring', u'acquisition', u'acquitted', u'across', u'acsu.buffalo.edu', u'act', u'acted', u'acting', u'action', u'actions', u'activated', u'active', u'actively', u'activists', u'activities', u'activity', u'acton', u'acts', u'actual', u'actually', u'actuator', u'acura', u'acute', u'ad', u'adam', u'adams', u'adapt', u'adaptec', u'adapted', u'adapter', u'adapters', u'adaptor', u'adb', u'add', u'added', u'addict', u'addicted', u'addiction', u'addictive', u'adding', u'addition', u'additional', u'additionally', u'additions', u'additives', u'address', u'addressed', u'addresses', u'addressing', u'addrs', u'adds', u'adept', u'adequate', u'adequately', u'adg', u'adjacent', u'adjust', u'adjustable', u'adjusted', u'adjusting', u'adjustment', u'admin', u'administer', u'administration', u'administrative', u'administrator', u'admit', u'admits', u'admitted', u'admittedly', u'adobe', u'adolescent', u'adolf', u'adopt', u'adopted', u'adrian', u'ads', u'adult', u'adults', u'advance', u'advanced', u'advancement', u'advances', u'advantage', u'advantages', u'adverse', u'advertise', u'advertised', u'advertising', u'advice', u'advise', u'advised', u'advisory', u'advocate', u'advocated', u'advocates', u'advocating', u'ae', u'aerial', u'aero-engine', u'aeronautics', u'aerospace', u'aerostich', u'af', u'affair', u'affairs', u'affect', u'affected', u'affecting', u'affects', u'affiliated', u'affiliation', u'affiliations', u'affirmative', u'afford', u'affordable', u'aforementioned', u'afraid', u'africa', u'african', u'after', u'afternoon', u'afternoons', u'afterward', u'afterwards', u'again', u'against', u'agate.berkeley.edu', u'agdam', u'age', u'aged', u'agencies', u'agency', u'agenda', u'agent', u'agents', u'ages', u'aggravated', u'aggression', u'aggressive', u'aggressively', u'agnostic', u'ago', u'agree', u'agreed', u'agreeing', u'agreement', u'agreements', u'agrees', u'agressive', u'agressively', u'agricultural', u'agriculture', u'ah', u'ahead', u'ahh', u'ahl', u'ahve', u'ai', u'aid', u'aided', u'aids', u'aim', u'aimed', u'aiming', u'aint', u'air', u'airbag', u'aircraft', u'airliners', u'airlines', u'airplane', u'airplanes', u'airport', u'airwaves', u'aix', u'aj', u'ajs', u'ajteel', u'ak', u'aka', u'akron', u'al', u'alan', u'alarm', u'alarms', u'alas', u'alaska', u'albeit', u'albert', u'alberta', u'alchemy', u'alcohol', u'alex', u'alexander', u'alexandria', u'alexia.lis.uiuc.edu', u'alfa', u'algebraic', u'algorithm', u'algorithms', u'algrithm', u'alias', u'aliases', u'alice', u'alien', u'alignment', u'alike', u'alive', u'all', u'all-star', u'all-time', u'allah', u'allegations', u'alleged', u'allegedly', u'allegheny', u'allegory', u'allen', u'allergic', u'allergy', u'alleviate', u'alley', u'alliance', u'allied', u'allies', u'allocate', u'allow', u'allowed', u'allowing', u'allows', u'alloy', u'allready', u'almanac', u'almost', u'alone', u'along', u'alongside', u'alot', u'alpha', u'alphabetical', u'alpine', u'already', u'alright', u'also', u'alt.atheism', u'alt.parents-teens', u'altar', u'alter', u'altered', u'alternate', u'alternative', u'alternatively', u'alternatives', u'although', u'altitude', u'altogether', u'aluminum', u'always', u'am', u'am/fm', u'ama', u'amateur', u'amateurs', u'amazed', u'amazing', u'amazingly', u'ambiguous', u'ambitious', u'ambulance', u'ameliorate', u'amend', u'amended', u'amendment', u'amendments', u'america', u'american', u'americans', u'amerika', u'ames', u'ames.arc.nasa.gov', u'ami', u'amiga', u'amino', u'ammo', u'ammunition', u'ammunitions', u'among', u'amorc', u'amount', u'amounts', u'amp', u'amplifier', u'amps', u'amsterdam', u'amusing', u'analog', u'analogies', u'analogous', u'analogy', u'analyses', u'analysis', u'analytical', u'anas', u'anasha', u'anatolia', u'ancestors', u'anchor', u'ancient', u'and/or', u'anderson', u'andersson', u'andre', u'andreas', u'andresen', u'andrew', u'andrew.cmu.edu', u'andreychuk', u'andy', u'angel', u'angeles', u'angels', u'anger', u'angered', u'angle', u'angles', u'anglican', u'angry', u'animal', u'animals', u'animation', u'animations', u'ankara', u'ankle', u'ann', u'annexing', u'annihilation', u'announce', u'announced', u'announcement', u'announcements', u'announcing', u'annoyed', u'annoying', u'annual', u'anonymous', u'another', u'ansi', u'answer', u'answered', u'answering', u'answers', u'antenna', u'antennas', u'anthony', u'anti', u'anti-armenian', u'anti-gun', u'anti-israel', u'anti-jewish', u'anti-semitism', u'anti-soviet', u'anti-tank', u'anti-trust', u'antibiotic', u'antibiotics', u'anticipating', u'antioxidant', u'antique', u'ants', u'anxiety', u'any', u'anybody', u'anymore', u'anyone', u'anything', u'anytime', u'anyway', u'anyways', u'anywhere', u'aol.com', u'ap', u'apart', u'apartment', u'apartments', u'api', u'apiece', u'apollo', u'apologetic', u'apologies', u'apologists', u'apologize', u'apologized', u'apology', u'apostle', u'apostles', u'app', u'appalled', u'apparantly', u'apparent', u'apparently', u'appeal', u'appealing', u'appeals', u'appear', u'appearance', u'appearances', u'appeared', u'appearing', u'appears', u'appetite', u'applause', u'apple', u'apples', u'appletalk', u'applicable', u'application', u'applications', u'applied', u'applies', u'apply', u'applying', u'appointed', u'appointee', u'appreciate', u'appreciated', u'approach', u'approached', u'approaches', u'approaching', u'appropriate', u'appropriately', u'appropriateness', u'approval', u'approve', u'approved', u'approving', u'approx', u'approximate', u'approximately', u'apps', u'apr', u'apr-16-93', u'april', u'apriori', u'aprox', u'apt', u'aptly', u'aqua', u'ar', u'arab', u'arabia', u'arabs', u'arbitrarily', u'arbitrary', u'arc', u'archaic', u'arches', u'archie', u'architect', u'architecture', u'architectures', u'archive', u'archive-name', u'archive-server', u'archived', u'archives', u'archiving', u'arctic', u'area', u'areas', u\"aren't\", u'arena', u'argc', u'argic', u'argue', u'argued', u'arguing', u'argument', u'arguments', u'argv', u'ariel', u'arise', u'arises', u'aristide', u'arithmetic', u'arizona', u'arlington', u'arm', u'armed', u'armenia', u'armenian', u'armenians', u'armor', u'armored', u'armory', u'arms', u'army', u'arnold', u'around', u'arranged', u'arrangement', u'arrangements', u'array', u'arrays', u'arrest', u'arrested', u'arrival', u'arrive', u'arrived', u'arriving', u'arrogance', u'arrogant', u'arromdee', u'arrow', u'art', u'arthur', u'article', u'articles', u'artificial', u'artillery', u'artin', u'artist', u'arts', u'aryan', u'asala/sdpa/arf', u'ascension', u'ascii', u'ash', u'ashamed', u'ashes', u'ashton', u'asia', u'asian', u'aside', u'ask', u'asked', u'asking', u'asks', u'aspartame', u'aspect', u'aspects', u'ass', u'assault', u'assaults', u'assembled', u'assembler', u'assembly', u'assert', u'assertion', u'asserts', u'assessment', u'asset', u'asshole', u'assigned', u'assimilated', u'assist', u'assistance', u'assisted', u'assists', u'associate', u'associated', u'associates', u'association', u'assualt', u'assume', u'assumed', u'assumes', u'assuming', u'assumption', u'assumptions', u'assurance', u'assured', u'assuring', u'asterix.inescn.pt', u'asteroid', u'asteroids', u'astonishing', u'astray', u'astronomical', u'astronomy', u'astrophysical', u'astros', u'asynchronous', u'atari', u'ate', u'atf', u'atheism', u'atheist', u'atheists', u'athena', u'athletes', u'athletic', u'ati', u'atlanta', u'atlantic', u'atm', u'atmosphere', u'atmospheric', u'atomic', u'atoms', u'atone', u'atrocities', u'att', u'attach', u'attached', u'attachment', u'attachments', u'attack', u'attacked', u'attacker', u'attacking', u'attacks', u'attain', u'attempt', u'attempted', u'attempting', u'attempts', u'attend', u'attendance', u'attended', u'attendees', u'attending', u'attention', u'attest', u'attitude', u'attitudes', u'attorney', u'attracted', u'attraction', u'attractions', u'attractive', u'attribute', u'attributed', u'au', u'auction', u'audi', u'audible', u'audience', u'audio', u'aug', u'august', u'augustine', u'aunt', u'auroral', u'austin', u'australia', u'australian', u'austria', u'auteur', u'authentication', u'authenticators', u'authenticity', u'author', u'authored', u'authorities', u'authority', u'authorization', u'authorized', u'authors', u'authur', u'auto', u'autocad', u'automated', u'automatic', u'automatically', u'automating', u'automation', u'automobile', u'automobiles', u'automotive', u'autonomy', u'av', u'availability', u'available', u'avalon', u'avatar', u'ave', u'avenge', u'avenger', u'avenue', u'avenues', u'average', u'aviation', u'aviv', u'avoid', u'avoided', u'avoiding', u'aw', u'awaiting', u'award', u'awards', u'aware', u'awareness', u'away', u'awesome', u'awful', u'awfully', u'axe', u'axes', u'axis', u'axle', u'ay', u'aye', u'ayoub', u'azerbadjan', u'azerbaijan', u'azerbaijani', u'azerbaijanis', u'azeri', u'azeris', u'b', u'b+9', u'b-2', u'b.c', u'b.o', u'b1', u'b2', u'b30', u'b8', u'b9', u'ba', u'babbling', u'babe', u'baby', u'babych', u'babylon', u'babylonian', u'bach', u'back', u'backed', u'background', u'backhand', u'backing', u'backs', u'backup', u'backwards', u'bacon', u'bad', u'badly', u'baerga', u'bag', u'baggage', u'bags', u'bait', u'bake', u'baker', u'baku', u'balance', u'balanced', u'balancing', u'balconies', u'balcony', u'balding', u'ball', u'ballistic', u'balls', u'baltimore', u'ban', u'band', u'banding', u'bands', u'bandwagon', u'bandwith', u'bang', u'banging', u'bank', u'banking', u'bankrupt', u'banks', u'banned', u'banning', u'bans', u'baptist', u'bar', u'barbara', u'barbaric', u'barbecue', u'barber', u'bare', u'barely', u'barn', u'barnaby', u'barrasso', u'barrel', u'barrett', u'barrier', u'barring', u'barry', u'bars', u'base', u'baseball', u'based', u'baseline', u'baseman', u'basement', u'bases', u'bash', u'bashing', u'basic', u'basically', u'basics', u'basin', u'basing', u'basis', u'basketball', u'bassen', u'bastard', u'bat', u'batavia', u'batch', u'bates', u'batf', u'bath', u'bathroom', u'bats', u'batteries', u'batters', u'battery', u'batting', u'battle', u'battling', u'baud', u'baumgartner', u'bay', u'bb', u'bbs', u'bc', u'bd', u'bdi', u'beach', u'beamers', u'beans', u'bear', u'bearing', u'bears', u'beast', u'beasts', u'beat', u'beaten', u'beating', u'beats', u'beatty', u'beauchaine', u'beautiful', u'became', u'because', u'beck', u'become', u'becomes', u'becoming', u'becuase', u'bed', u'bedroom', u'beds', u'beemer', u'been', u'beeps', u'beer', u'beers', u'before', u'beforehand', u'beg', u'began', u'begging', u'begin', u'beginning', u'begins', u'begun', u'behalf', u'behave', u'behaved', u'behaving', u'behavior', u'behaviors', u'behaviour', u'behavoir', u'behind', u'being', u'beings', u'beleive', u'belfour', u'belief', u'beliefs', u'believable', u'believe', u'believed', u'believers', u'believes', u'believing', u'belive', u'bell', u'bell-northern', u'belong', u'belongs', u'below', u'belt', u'belts', u'bench', u'benchmark', u'benchmarks', u'bend', u'beneficial', u'benefit', u'benefits', u'benign', u'bent', u'bentsen', u'beranek', u\"beranek-brind'amour-dineen\", u'bergevin', u'bergland', u'berkeley', u'berlin', u'bernie', u'bernoulli', u'bernstein', u'berube', u'beside', u'besides', u'besieged', u'best', u'bet', u'beta', u'bethesda', u'bethlehem', u'betrothed', u'better', u'between', u'beware', u'beyond', u'bg', u'bi', u'bias', u'biased', u'biases', u'bible', u'bibles', u'biblical', u'bibliography', u'bicycle', u'bidding', u'bids', u'big', u'bigger', u'biggest', u'bigot', u'bigotry', u'bigots', u'bike', u'biker', u'bikers', u'bikes', u'bill', u'billboards', u'billion', u'billions', u'bills', u'billy', u'bin', u'binaries', u'binary', u'binding', u'bingo', u'biography', u'biological', u'bios', u'biotechnology', u'bird', u'birds', u'birth', u'birthday', u'births', u'bisexuals', u'bishop', u'bishops', u'bit', u'bites', u'bitmap', u'bitmapped', u'bitnet', u'bits', u'bizarre', u'black', u'blackhawks', u'blacks', u'blacksburg', u'blade', u'blame', u'blamed', u'blaming', u'blank', u'blanket', u'blasphemy', u'blast', u'blasted', u'blasting', u'blatant', u'blatantly', u'blathering', u'blaze', u'blazer', u'blazes', u'bleacher', u'bled', u'bleeding', u'bleeds', u'bless', u'blessed', u'blew', u'blind', u'blindly', u'blindness', u'blinker', u'block', u'blocked', u'blocking', u'blocks', u'blood', u'bloodshed', u'bloody', u'blow', u'blowing', u'blown', u'blows', u'blue', u'blues', u'blunt', u'bm', u'bmp', u'bmw', u'bnc', u'bnr.ca', u'bo', u'board', u'boarding', u'boards', u'boast', u'boat', u'bob', u'bobbe', u'bobby', u'bodies', u'bodily', u'body', u'boeing', u'boggs', u'bogus', u'boiler', u'boilers', u'boiling', u'boils', u'bold', u'bolt', u'bomb', u'bombed', u'bomber', u'bombers', u'bombing', u'bombs', u'bon', u'bonds', u'bones', u'bonner', u'bonus', u'booby', u'book', u'books', u'bookstore', u'bookstores', u'boom', u'boost', u'booster', u'boot', u'booted', u'booth', u'boots', u'bootup', u'border', u'borders', u'bored', u'boring', u'borland', u'born', u'born-again', u'borrow', u'borrowed', u'bos', u'bosnia', u'boss', u'boston', u'both', u'bother', u'bothered', u'bothers', u'bottle', u'bottleneck', u'bottles', u'bottom', u'bought', u'boulder', u'bounce', u'bounces', u'bound', u'boundaries', u'bounds', u'bourke', u'bow', u'bowen', u'bowl', u'box', u'boxes', u'boy', u'boys', u'brad', u'bradley', u'brady', u'brahms.udel.edu', u'brain', u'brains', u'brainwashed', u'brake', u'brakes', u'braking', u'branch', u'brand', u'brands', u'braun', u'brave', u'braves', u'bread', u'break', u'breakable', u'breaker', u'breakfast', u'breaking', u'breaks', u'breakthrough', u'breakthroughs', u'breakup', u'breast', u'breasts', u'breath', u'breathing', u'breeding', u'brendan', u'brent', u'bret', u'brethren', u'brett', u'brevity', u'brian', u'bribe', u'brick', u'bridge', u'bridgehead', u'brief', u'briefly', u'brigham', u'bright', u'brighter', u'brightness', u'brilliant', u\"brind'amour\", u'bring', u'bringing', u'brings', u'bristol', u'britain', u'british', u'broad', u'broadcast', u'broadcasts', u'broke', u'broken', u'bronx', u'brookpark', u'brooks', u'brother', u'brothers', u'brought', u'browbeat', u'brown', u'bruce', u'bruins', u'brutal', u'brutally', u'brute', u'brute-force', u'bryant', u'bs', u'bt', u'btw', u'bu', u'bubblejet', u'bubbles', u'buck', u'bucks', u'buddha', u'buddhism', u'buddhists', u'buddy', u'budget', u'budgets', u'buf', u'buffalo', u'buffer', u'bug', u'bugger', u'bugs', u'buick', u'build', u'builders', u'building', u'buildings', u'built', u'built-in', u'bulb', u'bulbs', u'bulge', u'bulk', u'bull', u'bullet', u'bulletin', u'bullets', u'bullpen', u'bullshit', u'bump', u'bumper', u'bunch', u'bundled', u'burden', u'bure', u'bureau', u'bureaucrats', u'buried', u'burke', u'burn', u'burned', u'burning', u'burns', u'burr', u'burst', u'bursting', u'bursts', u'burton', u'bury', u'bus', u'buses', u'bush', u'business', u'businesses', u'businessmen', u'busses', u'busy', u'butcher', u'butler', u'butt', u'button', u'buttons', u'buy', u'buyer', u'buyers', u'buying', u'by', u'bye', u'bypass', u'bypassing', u'byte', u'bytes', u'bz', u'bzzt', u'c', u\"c'mon\", u\"c't\", u'c+d', u'c-ya', u'c.o.egalon', u'c/c', u'c/o', u'c/s', u'c2', u'c650', u'c9', u'ca', u'cab', u'cabin', u'cable', u'cables', u'cabling', u'cache', u'caches', u'cad', u'caddy', u'cadillac', u'cadre.dsl.pitt.edu', u'cage', u'cagers', u'cal', u'calculate', u'calculated', u'calculation', u'calculations', u'calculator', u'calculators', u'calendar', u'calgary', u'caliber', u'calif', u'california', u'call', u'callable', u'called', u'caller', u'calling', u'callisto', u'callously', u'calls', u'callsign', u'calm', u'calmed', u'calmer', u'calmly', u'caltrans', u'cam', u'camaro', u'cambridge', u'camden', u'came', u'camel', u'camera', u'cameramen', u'cameras', u'camp', u'campaign', u'campanella', u'campbell', u'camping', u'camps', u'campus', u\"can't\", u'canada', u'canadian', u'canadians', u'cancelled', u'cancer', u'candidate', u'candidates', u'cannon', u'canon', u'canseco', u'cant', u'canucks', u'canyon', u'cap', u'capabilities', u'capability', u'capable', u'capacitor', u'capacitors', u'capacity', u'cape', u'capital', u'capitalism', u'capitalist', u'capitals', u'capitol', u'caps', u'capsule', u'captain', u'captive', u'captives', u'capture', u'captured', u'car', u'caratzas', u'carbon', u'carbonneau', u'card', u'carderock', u'cards', u'care', u'cared', u'career', u'careful', u'carefully', u'cares', u'cargo', u'caring', u'carkner', u'carl', u'carnegie', u'carney', u'carolina', u'carriage', u'carried', u'carriers', u'carries', u'carrot', u'carry', u'carrying', u'cars', u'carson', u'cart', u'carter', u'cartridge', u'cartridges', u'case', u'cases', u'cash', u'casio', u'cassette', u'cast', u'casting', u'casual', u'casualties', u'casualty', u'cat', u'catalog', u'catalogue', u'catch', u'catcher', u'catching', u'category', u'cathedral', u'catholic', u'catholicism', u'catholics', u'cathy', u'cats', u'caucasian', u'caucasus', u'caucus', u'caught', u'cause', u'caused', u'causes', u'causing', u'caution', u'cautious', u'cb', u'cbc', u'cbr', u'cc', u'ccd', u'ccs', u'ccu1.aukland.ac.nz', u'ccw', u'ccwf.cc.utexas.edu', u'cd', u'cd-rom', u'cdc', u'ce', u'cease', u'ceased', u'ceiling', u'celebrated', u'celebration', u'celestial', u'cell', u'cellar', u'cells', u'cellular', u'cemetery', u'census', u'cent', u'centaur', u'center', u'centers', u'central', u'centrally', u'centre', u'centris', u'cents', u'centuries', u'century', u'ceramic', u'cereals', u'ceremonial', u'ceremonies', u'ceremony', u'cern', u'certain', u'certainly', u'certainty', u'certification', u'certified', u'cf', u'cfl', u'cg', u'cga', u'cgm', u'ch', u'chain', u'chair', u'chairman', u'chairs', u'challenge', u'challenged', u'challenger', u'chamber', u'chambers', u'champaign', u'champaign-urbana', u'champion', u'champions', u'championship', u'championships', u'champs', u'chance', u'chances', u'chancy', u'change', u'changed', u'changes', u'changing', u'channel', u'channels', u'chaos', u'chapel', u'chapter', u'chapters', u'char', u'character', u'characteristic', u'characteristics', u'characterization', u'characterize', u'characterized', u'characters', u'charge', u'charged', u'charger', u'charges', u'charging', u'charismatic', u'charity', u'charles', u'charm', u'charon', u'chart', u'charter', u'chase', u'chased', u'chasing', u'chastity', u'cheap', u'cheaper', u'cheapest', u'cheat', u'check', u'checked', u'checker', u'checking', u'checks', u'cheer', u'cheerful', u'cheers', u'cheese', u'chelios', u'chemical', u'chemicals', u'chemistry', u'chen', u'cherry', u'chest', u'chevy', u'chew', u'chewing', u'chi', u'chiasson', u'chicago', u'chicken', u'chief', u'child', u'childhood', u'childish', u'children', u'chin', u'china', u'chinese', u'chip', u'chips', u'chipset', u'choice', u'choices', u'choke', u'choose', u'chooses', u'choosing', u'chop', u'chorus', u'chose', u'chosen', u'chow', u'chris', u'christ', u'christi', u'christian', u'christianity', u'christians', u'christmas', u'christopher', u'christy', u'chrome', u'chronic', u'chronicles', u'chrysler', u'chuck', u'church', u'churches', u'ci', u'cia', u'cica', u'ciccarelli', u'cigarette', u'cigarettes', u'cimarron', u'cincinnati', u'cipher', u'circa', u'circle', u'circles', u'circuit', u'circuitry', u'circuits', u'circulated', u'circulating', u'circulation', u'circumference', u'circumstance', u'circumstances', u'circumvent', u'cis', u'cis.ohio-state.edu', u'cisc', u'citation', u'citations', u'cite', u'cited', u'citibank', u'cities', u'citizen', u'citizenry', u'citizens', u'citr.uq.oz.au', u'city', u'civic', u'civil', u'civilian', u'civilians', u'civilization', u'cl', u'claim', u'claimed', u'claiming', u'claims', u'clamp', u'clarification', u'clarified', u'clarify', u'clark', u'clarke', u'class', u'classes', u'classic', u'classical', u'classification', u'classified', u'clause', u'clay', u'clayton', u'clean', u'cleaned', u'cleaner', u'cleaning', u'cleanse', u'cleansing', u'clear', u'clearer', u'clearly', u'clemens', u'clement', u'clemente', u'clementine', u'cleveland', u'clh', u'click', u'clicked', u'clicks', u'client', u'clients', u'climate', u'climbed', u'clinched', u'clinic', u'clinical', u'clinton', u'clintons', u'clip', u'clipper', u'clipping', u'clips', u'clock', u'clocks', u'clockwise', u'clog', u'clone', u'close', u'close-up', u'closed', u'closely', u'closer', u'closest', u'closet', u'closure', u'cloth', u'clothes', u'clothing', u'cloud', u'clouds', u'club', u'clubmac', u'clubs', u'clue', u'clues', u'clutch', u'clutter', u'clyde', u'cmos', u'cmptrc.lonestar.org', u'cmu', u'cnn', u'co', u'coach', u'coaches', u'coaching', u'coal', u'coalition', u'coast', u'coastline', u'coat', u'coax', u'cobb', u'cocaine', u'cocktail', u'cocoa', u'cod', u'code', u'codecs', u'coded', u'codes', u'coffee', u'coffey', u'cogently', u'coherent', u'coils', u'coin', u'coins', u'cold', u'cole', u'coleman', u'colin', u'colitis', u'collapse', u'colleague', u'colleagues', u'collect', u'collected', u'collecting', u'collection', u'collector', u'collectors', u'college', u'collided', u'collins', u'collision', u'colonial', u'colonies', u'color', u'colorado', u'colormap', u'colormaps', u'colors', u'colour', u'colt', u'columbia', u'columbus', u'column', u'coma', u'combination', u'combinations', u'combine', u'combined', u'combining', u'come', u'comes', u'comet', u'comets', u'comfort', u'comfortable', u'comic', u'comics', u'coming', u'command', u'commanded', u'commander', u'commanding', u'commandments', u'commands', u'comment', u'commented', u'comments', u'commerce', u'commercial', u'commercially', u'commerical', u'commission', u'commissioned', u'commit', u'commited', u'commitment', u'committed', u'committee', u'committees', u'committing', u'commodore', u'common', u'commonly', u'commonwealth', u'comms', u'communicate', u'communication', u'communications', u'communion', u'communist', u'communities', u'community', u'comp.answers', u'comp.graphics', u'comp.windows.x', u'compact', u'companies', u'companion', u'company', u'company/owner', u'comparable', u'comparative', u'compare', u'compared', u'compares', u'comparing', u'comparision', u'comparison', u'comparisons', u'compartment', u'compassion', u'compatable', u'compatibility', u'compatible', u'compdyn.questor.org', u'compelling', u'compete', u'competence', u'competent', u'competing', u'competition', u'competitive', u'competitiveness', u'competitor', u'competitors', u'compilation', u'compile', u'compiled', u'compiler', u'compilers', u'complain', u'complaining', u'complains', u'complaint', u'complaints', u'complete', u'completed', u'completely', u'completion', u'complex', u'compliance', u'complicated', u'comply', u'component', u'components', u'composed', u'composition', u'compound', u'compounds', u'comprehend', u'comprehensive', u'compress', u'compressed', u'compresses', u'compression', u'comprise', u'compromise', u'compromised', u'compromises', u'compromising', u'compuserve', u'compuserve.com', u'computation', u'computational', u'compute', u'computed', u'computer', u'computers', u'computes', u'computing', u'computrac-richardson', u'con', u'concealed', u'conceivable', u'conceivably', u'conceived', u'concentrate', u'concentration', u'concept', u'conception', u'concepts', u'concern', u'concerned', u'concerning', u'concerns', u'concessions', u'concise', u'conclude', u'concluded', u'concludes', u'conclusion', u'conclusions', u'concrete', u'concur', u'condemnation', u'condemned', u'condition', u'conditioning', u'conditions', u'conduct', u'conducted', u'conducting', u'conference', u'conferences', u'confidence', u'confident', u'confidential', u'config.sys', u'configurable', u'configuration', u'configurations', u'configure', u'configured', u'confirm', u'confirmed', u'confirms', u'conflict', u'conflicting', u'conflicts', u'confront', u'confrontation', u'confuse', u'confused', u'confuses', u'confusing', u'confusion', u'congestion', u'congregation', u'congress', u'congressional', u'congressman', u'conjunction', u'connect', u'connected', u'connecting', u'connection', u'connections', u'connector', u'connectors', u'conquer', u'conquered', u'conscience', u'conscious', u'consciousness', u'consecrated', u'consecration', u'consecutive', u'consensus', u'consensys', u'consent', u'consequence', u'consequences', u'conservation', u'conservative', u'conservatives', u'consider', u'considerable', u'considerably', u'consideration', u'considerations', u'considered', u'considering', u'consisted', u'consistency', u'consistent', u'consistently', u'consisting', u'consists', u'console', u'consortium', u'conspiracy', u'constant', u'constantly', u'constitute', u'constituted', u'constitutes', u'constitution', u'constitutional', u'constrained', u'constraints', u'construct', u'constructing', u'construction', u'constructive', u'consultant', u'consultants', u'consultation', u'consulted', u'consulting', u'consumables', u'consumed', u'consumer', u'consumers', u'consuming', u'consumption', u'contact', u'contacting', u'contacts', u'contain', u'contained', u'containing', u'contains', u'contaminating', u'contemplate', u'contend', u'contenders', u'content', u'contention', u'contents', u'contest', u'context', u'contiguous', u'continent', u'continental', u'contingent', u'continually', u'continue', u'continued', u'continues', u'continuing', u'continuous', u'continuously', u'contour', u'contraceptive', u'contract', u'contracted', u'contradict', u'contradicting', u'contradiction', u'contradictions', u'contradictory', u'contradicts', u'contrary', u'contrast', u'contrib', u'contribute', u'contributed', u'contributing', u'contribution', u'contributions', u'contributors', u'control', u'controler', u'controlled', u'controller', u'controllers', u'controlling', u'controls', u'controversial', u'controversy', u'convenience', u'convenient', u'conveniently', u'convention', u'conventional', u'conventions', u'conversation', u'conversations', u'conversion', u'convert', u'converted', u'converter', u'convertible', u'convertibles', u'converting', u'converts', u'convex', u'conveyance', u'convict', u'convicted', u'conviction', u'convictions', u'convince', u'convinced', u'convincing', u'cook', u'cooking', u'cool', u'cooler', u'cooling', u'cools', u'cooper', u'cooperation', u'coordinate', u'coordinated', u'coordinates', u'cop', u'copied', u'copies', u'copious', u'copper', u'coprocessor', u'cops', u'copy', u'copying', u'copyright', u'copyrighted', u'copyrights', u'cordially', u'cordless', u'cords', u'core', u'corel', u'coreldraw', u'corinthians', u'corner', u'corners', u'corp', u'corporate', u'corporation', u'corporations', u'corps', u'corpse', u'corpses', u'corpus', u'correct', u'corrected', u'correction', u'corrections', u'correctly', u'correctness', u'correspond', u'correspondents', u'corresponding', u'corrupt', u'corrupted', u'corrupting', u'corruption', u'cosmic', u'cost', u'cost-effective', u'costello', u'costly', u'costs', u'could', u\"couldn't\", u'council', u'counsel', u'counselor', u'count', u'counted', u'counter', u'counterclockwise', u'counterparts', u'countersteering', u'counting', u'countless', u'countries', u'country', u'counts', u'county', u'coup', u'couple', u'coupled', u'courage', u'courageous', u'course', u'courses', u'court', u'courtesy', u'courtnall', u'courts', u'courtyard', u'cousinetc.|1982', u'covenant', u'cover', u'coverage', u'covered', u'covering', u'covers', u'covington', u'cowardice', u'cows', u'cox', u'coy', u'cp', u'cpsr', u'cpu', u'cpus', u'cr', u'crack', u'cracked', u'cracking', u'cracks', u'craft', u'craft.camp.clarkson.edu', u'craig', u'cramer', u'cranial', u'crap', u'crash', u'crashed', u'crashes', u'crashing', u'crate', u'crater', u'craven', u'crawl', u'cray', u'crazy', u'create', u'created', u'creates', u'creating', u'creation', u'creationist', u'creative', u'creator', u'creatures', u'credence', u'credibility', u'credible', u'credit', u'credits', u'creed', u'creeping', u'creighton', u'crew', u'crews', u'cries', u'crime', u'crimes', u'criminal', u'criminally', u'criminals', u'crimson', u'cripple', u'crippled', u'crisis', u'criteria', u'critical', u'criticism', u'criticize', u'crohn', u'crop', u'cross', u'crossed', u'crossing', u'crossposted', u'crossposting', u'crowd', u'crowds', u'crowley', u'crucial', u'crucifixion', u'cruel', u'cruise', u'crunch', u'crush', u'crushed', u'cruz', u'crx', u'cry', u'crying', u'crypt', u'cryptanalysis', u'crypto', u'cryptographic', u'cryptographically', u'cryptography', u'cryptologic', u'cryptology', u'cryptosystem', u'crystal', u'crystals', u'cs', u'cs.brown.edu', u'cs.uiuc.edu', u'cs.utexas.edu', u'cs1442au', u'csg', u'csh', u'ct', u'cubic', u'cubs', u'cult', u'cultural', u'culturally', u'culture', u'cup', u'cup.portal.com', u'cups', u'curing', u'curiosity', u'curious', u'currency', u'current', u'currently', u'currents', u'cursed', u'cursor', u'curtains', u'curtis', u'curve', u'curves', u'custom', u'customer', u'customers', u'customs', u'cut', u'cute', u'cuts', u'cutting', u'cv', u'cw', u'cy', u'cycle', u'cycles', u'cycling', u'cyl', u'cylinder', u'cylinders', u'cylindrical', u'cynical', u'cypriot', u'cypriots', u'cyprus', u'cyrix', u'd', u'd.c', u'd.h', u'd1', u'da', u'dahlen', u'daigle', u'daily', u'dale', u'dallas', u'damage', u'damaged', u'damages', u'damaging', u'damn', u'damned', u'damp', u'dan', u'dance', u'danger', u'dangerous', u'daniel', u'dare', u'daring', u'darius', u'dark', u'darman', u'darn', u'darryl', u'darth', u'dashboard', u'dashes', u'dastardly', u'dat', u'data', u'database', u'databases', u'date', u'dated', u'dates', u'dating', u'datum', u'daughter', u'dave', u'david', u'davidian', u'davidians', u'davidson', u'davies', u'davis', u'davydov', u'dawn', u'dawson', u'day', u'day-to-day', u'dayna', u'days', u'daystar', u'dayton', u'daytona', u'db', u'db-15', u'db-9', u'dc', u'dc-1', u'dc-x', u'dd', u'dds', u'de', u'dead', u'deadline', u'deadly', u'deal', u'dealer', u'dealers', u'dealership', u'dealing', u'deals', u'dealt', u'dean', u'dear', u'death', u'deaths', u'debatable', u'debate', u'debater', u'debating', u'deborah', u'debris', u'debt', u'debunk', u'dec', u'decade', u'decades', u'decay', u'december', u'decent', u'decide', u'decided', u'decides', u'decision', u'decisions', u'deck', u'declaration', u'declare', u'declared', u'declining', u'decnet', u'decode', u'decoder', u'decompose', u'decreased', u'decreases', u'decrypt', u'decrypted', u'decrypting', u'decryption', u'decstation', u'decster.uta.edu', u'decwindows', u'dedicated', u'deduced', u'deduction', u'deed', u'deeds', u'deemed', u'deep', u'deep-space', u'deeper', u'deeply', u'deeptht.armory.com', u'deer', u'def', u'default', u'defaults', u'defeat', u'defect', u'defence', u'defend', u'defendant', u'defenders', u'defending', u'defense', u'defenseless', u'defenseman', u'defensemen', u'defenses', u'defensive', u'deficit', u'deficits', u'definately', u'define', u'defined', u'defines', u'defining', u'definite', u'definitely', u'definition', u'definitions', u'definitive', u'defy', u'degree', u'degrees', u'dehydrator', u'deir', u'deity', u'delaunay', u'delaware', u'delay', u'delayed', u'delays', u'delegated', u'delete', u'deleted', u'deleting', u'deletion', u'deliberate', u'deliberately', u'deliver', u'deliverance', u'delivered', u'delivering', u'delivery', u'delphi.com', u'delta', u'delusional', u'deluxe', u'demand', u'demanded', u'demanding', u'demands', u'demo', u'democracy', u'democratic', u'democrats', u'demonstrate', u'demonstrated', u'demonstrates', u'demonstration', u'demos', u'dendrite.cs.colorado.edu', u'denial', u'denials', u'denied', u'denies', u'denis', u'denning', u'dennis', u'denomination', u'denominations', u'dense', u'densities', u'density', u'dent', u'dented', u'dentist', u'denver', u'deny', u'denying', u'department', u'departments', u'depend', u'dependable', u'depended', u'dependent', u'depending', u'depends', u'depletion', u'deployed', u'deported', u'deposit', u'deposition', u'depraved', u'depressed', u'depressing', u'depression', u'deprive', u'deprived', u'dept', u'depth', u'deputy', u'derek', u'derivative', u'derive', u'derived', u'derose', u'des', u'descendant', u'descended', u'descent', u'describe', u'described', u'describes', u'describing', u'description', u'descriptions', u'desert', u'deserve', u'deserved', u'deserves', u'deserving', u'design', u'designate', u'designated', u'designed', u'designer', u'designers', u'designing', u'designs', u'desintegrated', u'desire', u'desired', u'desires', u'desiring', u'desk', u'deskjet', u'desktop', u'desoto', u'desperate', u'desperately', u'despite', u'desqview/x', u'destination', u'destined', u'destiny', u'destroy', u'destroyed', u'destroying', u'destruction', u'destructive', u'det', u'detail', u'detailed', u'details', u'detect', u'detected', u'detecting', u'detector', u'detectors', u'detects', u'determinations', u'determine', u'determined', u'determines', u'determining', u'deterrent', u'deterring', u'detonate', u'detrimental', u'detroit', u'deuteronomy', u'devastating', u'develop', u'develope', u'developed', u'developement', u'developer', u'developers', u'developing', u'development', u'developments', u'device', u'devices', u'devil', u'devils', u'devote', u'devoted', u'dgree', u'dh', u'diagnose', u'diagnosed', u'diagnosis', u'diagnostic', u'diagnostics', u'diagram', u'dial', u'dialing', u'dialog', u'dialogue', u'diameter', u'diamond', u'diane', u'diary', u'dick', u'dickens', u'dickey', u'dictate', u'dictator', u'dictatorship', u'dictionary', u'did', u\"didn't\", u'diduck', u'die', u'died', u'dies', u'diesel', u'diet', u'diff', u'differ', u'difference', u'differences', u'different', u'differential', u'differently', u'differing', u'differs', u'difficult', u'difficulties', u'difficulty', u'diffie', u'diffie-hellman', u'dig', u'digest', u'digit', u'digital', u'digitized', u'digitizing', u'digits', u'dignity', u'dillon', u'dim', u'dime', u'dimensions', u'dimitri', u'dineen', u'dinner', u'dione', u'dip', u'dipl.-inform', u'diplomatic', u'dir', u'direct', u'directed', u'direction', u'directional', u'directions', u'directive', u'directly', u'director', u'directories', u'directory', u'dirk', u'dirt', u'dirty', u'dis', u'disable', u'disabled', u'disabling', u'disadvantage', u'disadvantages', u'disagree', u'disagreement', u'disagrees', u'disappear', u'disappeared', u'disappoint', u'disappointed', u'disappointing', u'disappointment', u'disarmed', u'disarming', u'disaster', u'disasters', u'disbelieve', u'disc', u'discarded', u'disciple', u'disciples', u'discipline', u'disclaimer', u'disclosure', u'discordant', u'discount', u'discourage', u'discouraged', u'discourse', u'discovered', u'discoveries', u'discovering', u'discovery', u'discredit', u'discredited', u'discriminated', u'discrimination', u'discuss', u'discussed', u'discusses', u'discussing', u'discussion', u'discussions', u'disease', u'diseases', u'disgusted', u'disgusting', u'disheartened', u'dishonest', u'disingeneous', u'disk', u'diskette', u'disks', u'dislike', u'dismantling', u'dismiss', u'dismissed', u'disobedience', u'disobey', u'disorder', u'dispensation', u'dispense', u'displacing', u'display', u'displayed', u'displaying', u'displays', u'disproportionately', u'disprove', u'dispute', u'disregard', u'disrespectful', u'dissipate', u'dissolved', u'distance', u'distances', u'distant', u'distinction', u'distinctions', u'distinguish', u'distinguished', u'distorted', u'distortion', u'distracted', u'distraction', u'distribute', u'distributed', u'distribution', u'distributor', u'district', u'districts', u'disturbances', u'disturbing', u'dithering', u'div', u'dive', u'diverge', u'diverse', u'diversity', u'divert', u'diverted', u'diverting', u'divide', u'divided', u'divine', u'divinity', u'division', u'divisional', u'divisions', u'divorce', u'divorced', u'diy', u'dj', u'djgpp', u'dk', u'dl', u'dm', u'dma', u'dn', u'dna', u'dobb', u'doc', u'dock', u'docked', u'docking', u'docs', u'doctor', u'doctors', u'doctrine', u'doctrines', u'document', u'documentary', u'documentation', u'documented', u'documents', u'dod', u'dod0.001', u'dodge', u'dodger', u'dodgers', u'doe', u'does', u\"doesn't\", u'doesnt', u'dog', u'dogma', u'dogs', u'doing', u'dolby', u'dole', u'dollar', u'dollars', u'domain', u'domestic', u'dominance', u'dominant', u'dominate', u'dominated', u'dominates', u'domineering', u'don', u\"don't\", u'donald', u'donate', u'donations', u'done', u'donnelly', u'donot', u'dont', u'doom', u'door', u'doors', u'doorway', u'dope', u'dormitory', u'dorothy', u'dortmund', u'dos', u'dos/windows', u'dos6', u'dose', u'doses', u'dot', u'double', u'double-major', u'doublespace', u'doubt', u'doubtful', u'doubts', u'doug', u'douglas', u'down', u'download', u'downloaded', u'downshift', u'downtown', u'doyle', u'dozen', u'dozens', u'dp', u'dpi', u'dpy', u'dq', u'dr', u'draft', u'drafted', u'drag', u'dragged', u'dragging', u'dragon', u'dragons', u'drake', u'dram', u'dramatic', u'dramatically', u'drank', u'drastically', u'draw', u'drawbacks', u'drawer', u'drawing', u'drawn', u'draws', u'dream', u'dreams', u'dress', u'dressed', u'dressing', u'drew', u'dried', u'drift', u'drifted', u'drink', u'drinking', u'drinks', u'drive', u'driven', u'driver', u'drivers', u'drives', u'driveway', u'driving', u'drop', u'dropped', u'dropping', u'drops', u'drove', u'drug', u'drugs', u'drum', u'drunk', u'drunken', u'drv', u'dry', u'ds', u'dsp', u'du', u'dual', u'duane', u'dubinski', u'ducati', u'duck', u'dude', u'due', u'duh', u'duke', u'dull', u'dumb', u'dump', u'dumped', u'dunno', u'duo', u'duplicate', u'durham', u'during', u'dusseldorf', u'dust', u'dutch', u'duties', u'duty', u'dv/x', u'dwell', u'dwelling', u'dx', u'dx2', u'dxf', u'dyer', u'dying', u'dynamic', u'dynamics', u'dynamite', u'dynasty', u'e', u'e-mail', u'e.g', u'each', u'eager', u'eagle', u'earl', u'earlier', u'earliest', u'early', u'earn', u'earned', u'earnest', u'ears', u'earth', u'ease', u'easier', u'easiest', u'easily', u'east', u'easter', u'eastern', u'eastwood', u'easy', u'eat', u'eaten', u'eater', u'eating', u'eats', u'eavesdropper', u'eavesdropping', u'eb', u'ec', u'ecf.toronto.edu', u'echl', u'echo', u'eclipse', u'ecliptic', u'ecole', u'economic', u'economical', u'economically', u'economics', u'economies', u'economy', u'ecstatic', u'ed', u'eden', u'edgar', u'edge', u'edges', u'edit', u'edited', u'editing', u'edition', u'editor', u'edm', u'edmonton', u'edt', u'educate', u'educated', u'education', u'educational', u'educators', u'edward', u'ee', u'eec', u'eff', u'effect', u'effective', u'effectively', u'effectiveness', u'effects', u'efficacy', u'efficiency', u'efficient', u'efficiently', u'effort', u'efforts', u'eg', u'ega', u'eggs', u'egypt', u'egyptian', u'egyptians', u'eh', u'ei', u'eicn.etna.ch', u'eight', u'eighteenth', u'eighth', u'einstein', u'eisa', u'either', u'ej', u'ejected', u'eklund', u'ekr', u'el', u'elaborate', u'elan', u'elapsed', u'elderly', u'elect', u'elected', u'election', u'electric', u'electrical', u'electricity', u'electromagnetic', u'electron', u'electronic', u'electronics', u'element', u'elementary', u'elements', u'eleven', u'eli', u'elias', u'eligible', u'eliminate', u'eliminated', u'eliminating', u'elimination', u'else', u'elsewhere', u'elv', u'em', u'emacs', u'email', u'emailed', u'embarassing', u'embarrassed', u'embarrassing', u'embassy', u'embedded', u'emerge', u'emergency', u'emerging', u'emerson', u'emf', u'eminence', u'emissions', u'emm386', u'emotional', u'emotionally', u'emotions', u'emperor', u'emphasis', u'emphasize', u'emphasizes', u'empire', u'empirical', u'employ', u'employed', u'employee', u'employees', u'employer', u'employing', u'employment', u'empty', u'emulation', u'emulator', u'en', u'enable', u'enabled', u'enact', u'enacted', u'enceladus', u'encoded', u'encoding', u'encompass', u'encounter', u'encountered', u'encourage', u'encouraged', u'encourages', u'encouraging', u'encrypt', u'encrypted', u'encrypting', u'encryption', u'encryptions', u'encyclopedia', u'end', u'endangered', u'endeavour', u'ended', u'endemic', u'endif', u'ending', u'endowed', u'endpoints', u'ends', u'enemy', u'energetic', u'energy', u'enforce', u'enforcement', u'enforcing', u'engage', u'engaged', u'engagement', u'engaging', u'engine', u'engineer', u'engineered', u'engineering', u'engineers', u'engines', u'england', u'english', u'enhance', u'enhanced', u'enhancement', u'enhancements', u'enjoy', u'enjoyed', u'enlighten', u'enormous', u'enormously', u'enough', u'ensure', u'ensuring', u'entail', u'enter', u'entered', u'entering', u'enterprises', u'entertain', u'entertained', u'entertaining', u'entertainment', u'enthusiasts', u'entire', u'entirely', u'entities', u'entitled', u'entrance', u'entreaty', u'entries', u'entropy', u'entrusted', u'entry', u'entryway', u'enuff', u'envelope', u'envelopes', u'environment', u'environmental', u'environments', u'envy', u'enzo', u'ep', u'epa', u'epilepsy', u'episode', u'episodes', u'eq', u'equal', u'equalizer', u'equally', u'equals', u'equated', u'equation', u'equations', u'equipment', u'equipped', u'equivalence', u'equivalent', u'equivalents', u'er', u'era', u'erase', u'eric', u'erich.triumf.ca', u'erik', u'ermeni', u'ernie', u'erosion', u'erotic', u'errant', u'errey', u'error', u'errors', u'es', u'esa', u'esc', u'escape', u'escaped', u'escaping', u'escort', u'escorts', u'escrow', u'escrowed', u'escrowing', u'esdi', u'esp', u'especially', u'espionage', u'espn', u'essence', u'essential', u'essentially', u'est', u'establish', u'established', u'establishes', u'establishing', u'establishment', u'estate', u'esther', u'estimate', u'estimated', u'estimates', u'estimating', u'estimation', u'et', u'et4000', u'etc', u'eternal', u'eternally', u'ethernet', u'ethical', u'ethics', u'ethnic', u'eucharist', u'eugene', u'europa', u'europe', u'european', u'europeans', u'ev', u'evading', u'evaluate', u'evaluated', u'evaluation', u'evangelical', u'evangelist', u'evangelists', u'evans', u'evasion', u'evasive', u'eve', u'even', u'evening', u'event', u'events', u'eventual', u'eventually', u'ever', u'every', u'everybody', u'everyday', u'everyone', u'everyones', u'everything', u'everywhere', u'evidence', u'evidenced', u'evident', u'evidently', u'evil', u'evils', u'evolution', u'evolve', u'evolved', u'ex', u'exact', u'exactly', u'examination', u'examine', u'examined', u'examining', u'example', u'examples', u'excavating', u'exceed', u'exceeds', u'excel', u'excelled', u'excellent', u'except', u'excepted', u'exception', u'exceptions', u'excerpted', u'excerpts', u'excess', u'excesses', u'excessive', u'exchange', u'exchanged', u'exchanges', u'excited', u'exciting', u'exclude', u'excludes', u'exclusion', u'exclusive', u'excommunicated', u'excuse', u'excuses', u'exe', u'executable', u'executables', u'execute', u'executed', u'executive', u'exercise', u'exert', u'exhaust', u'exhibit', u'exhibited', u'exhibition', u'exist', u'existance', u'existed', u'existence', u'existent', u'existing', u'exists', u'exit', u'exodus', u'exotic', u'expand', u'expanded', u'expanding', u'expansion', u'expect', u'expectation', u'expectations', u'expected', u'expecting', u'expects', u'expedition', u'expenditures', u'expense', u'expenses', u'expensive', u'experience', u'experienced', u'experiences', u'experiencing', u'experiment', u'experimental', u'experimentation', u'experiments', u'expert', u'expertise', u'experts', u'expiration', u'explain', u'explained', u'explaining', u'explains', u'explanation', u'explanations', u'explanatory', u'explicit', u'explicitly', u'explode', u'exploration', u'explore', u'explorer', u'explorers', u'exploring', u'explosion', u'explosive', u'explosives', u'expo.lcs.mit.edu', u'export', u'export.lcs.mit.edu', u'exported', u'exporting', u'exports', u'expose', u'exposed', u'exposes', u'exposure', u'expounds', u'express', u'expressed', u'expression', u'expressly', u'ext', u'extend', u'extended', u'extension', u'extensions', u'extensive', u'extensively', u'extent', u'exterior', u'exterminate', u'exterminated', u'extermination', u'external', u'externally', u'extortion', u'extra', u'extract', u'extracted', u'extrapolate', u'extras', u'extreme', u'extremely', u'extremes', u'extremists', u'eye', u'eyes', u'eyewitness', u'f', u'f.2d', u'f1', u'f2', u'f3', u'faa', u'face', u'faces', u'facet', u'facilitate', u'facilities', u'facility', u'facing', u'facist', u'fact', u'factor', u'factoring', u'factorization', u'factors', u'factory', u'facts', u'faculty', u'fade', u'faded', u'fail', u'failed', u'failing', u'fails', u'failure', u'failures', u'faint', u'fair', u'fairing', u'fairly', u'faith', u'faithful', u'faiths', u'fake', u'fall', u'fallacy', u'fallen', u'falling', u'falls', u'false', u'falsely', u'falsified', u'fame', u'familiar', u'families', u'family', u'famine', u'famous', u'fan', u'fanatic', u'fanatics', u'fancy', u'fans', u'fantasies', u'fantastic', u'fantasy', u'faq', u'faqs', u'far', u'farm', u'farmer', u'farther', u'fascia', u'fascinating', u'fascist', u'fascists', u'fashion', u'fast', u'faster', u'fastest', u'fat', u'fatal', u'fatally', u'fate', u'father', u\"father's\", u'fathers', u'fatigue', u'fault', u'faulty', u'faust', u'favor', u'favorable', u'favorite', u'favour', u'fax', u'faxes', u'fb', u'fbi', u'fcc', u'fd', u'fda', u'feal', u'fear', u'feared', u'fears', u'feasibility', u'feasible', u'feat', u'feature', u'features', u'feb', u'february', u'fed', u'federal', u'federalist', u'feds', u'fedyk', u'fee', u'feed', u'feedback', u'feeder', u'feeding', u'feel', u'feeling', u'feelings', u'feels', u'fees', u'feet', u'felix', u'fell', u'fellow', u'fellowship', u'felony', u'felsner', u'felt', u'female', u'females', u'ferguson', u'fermentation', u'fernando', u'ferocious', u'fertile', u'fervour', u'fet', u'fetch', u'fever', u'few', u'fewer', u'feynman', u'ff', u'fg', u'fi', u'fiamms', u'fiasco', u'fiberglass', u'fiction', u'fiddle', u'fidonet', u'field', u'fielder', u'fields', u'fife', u'fifteen', u'fifth', u'fifty', u'figaro', u'fight', u'fighters', u'fighting', u'figure', u'figured', u'figures', u'figuring', u'file', u'filed', u'files', u'fill', u'filled', u'filling', u'fills', u'film', u'films', u'filter', u'fin', u'final', u'finally', u'finals', u'finance', u'financially', u'find', u'finding', u'findings', u'finds', u'fine', u'finger', u'fingerprints', u'fingers', u'finish', u'finished', u'finite', u'finland', u'finnish', u'finns', u'fire', u'firearm', u'firearms', u'firebomb', u'fired', u'fireworks', u'firing', u'firm', u'firmly', u'firmware', u'first', u'first-year', u'fiscal', u'fish', u'fisher', u'fishing', u'fisk', u'fit', u'fits', u'fitted', u'fitting', u'five', u'fix', u'fixed', u'fixes', u'fixing', u'flag', u'flags', u'flame', u'flamed', u'flames', u'flaming', u'flash', u'flashed', u'flashing', u'flat', u'flavor', u'flaw', u'flawed', u'fled', u'flesh', u'flew', u'flexible', u'fli', u'flick', u'flicker', u'flies', u'flight', u'flights', u'flimsy', u'flip', u'flipped', u'flipping', u'floating', u'flockhart', u'floor', u'floors', u'floppies', u'floppy', u'florida', u'flow', u'flowers', u'flown', u'fluid', u'fluke', u'fluorescent', u'fly', u'flyback', u'flyby', u'flybys', u'flyer', u'flyers', u'flying', u'fm', u'fo', u'foam', u'focus', u'focused', u'focusing', u'foe', u'foil', u'folder', u'folding', u'folk', u'folks', u'follow', u'followed', u'followers', u'following', u'follows', u'followup', u'followups', u'fond', u'font', u'fonts', u'foo', u'food', u'foods', u'fool', u'fooled', u'fooling', u'foolish', u'fools', u'foot', u'football', u'footnote', u'footnotes', u'forbid', u'forbidding', u'force', u'forced', u'forces', u'forcing', u'ford', u'foreground', u'forehead', u'foreign', u'foremost', u'forever', u'forfeiture', u'forget', u'forgetting', u'forgive', u'forgiveness', u'forgot', u'forgotten', u'fork', u'form', u'formal', u'format', u'format/mount/partition', u'formation', u'formats', u'formatted', u'formatting', u'formed', u'former', u'formerly', u'forming', u'forms', u'formula', u'forsale', u'forsee', u'fort', u'forth', u'fortran', u'fortunately', u'fortune', u'forum', u'forums', u'forward', u'forwarded', u'forwards', u'fossil', u'foster', u'fought', u'found', u'foundation', u'foundations', u'founded', u'founders', u'founding', u'four', u'fourteen', u'fourth', u'fpu', u'fr', u'fractal', u'fractals', u'fractint', u'fragments', u'frame', u'frames', u'framework', u'france', u'francisco', u'frank', u'franklin', u'frankly', u'franz', u'fraud', u'freak', u'fred', u'free', u'freedom', u'freedoms', u'freely', u'freenet.carleton.ca', u'freer', u'freeway', u'freeways', u'freeze', u'freezes', u'freezing', u'french', u'frequencies', u'frequency', u'frequent', u'frequently', u'fresh', u'fri', u'frictionless', u'friday', u'fried', u'friend', u'friendly', u'friends', u'friendship', u'fringe', u'front', u'front-end', u'fronts', u'froze', u'fruit', u'frustrate', u'frustrating', u'fry', u'frying', u'ft', u'ftp', u'ftp.cica.indiana.edu', u'ftp/mac/architec', u'fuck', u'fucking', u'fuel', u'fueled', u'fuhr', u'fulfil', u'fulfill', u'fulfilled', u'fulfillment', u'full', u'full-time', u'fully', u'fun', u'function', u'functional', u'functionality', u'functioning', u'functions', u'fund', u'fundamental', u'fundamentalist', u'fundamentalists', u'fundamentally', u'fundamentals', u'funded', u'funding', u'funds', u'funny', u'furnished', u'further', u'furthermore', u'fury', u'fuselage', u'fuss', u'future', u'fuzzy', u'fwd', u'fwiw', u'g', u'ga', u'gadget', u'gag', u'gagner', u'gain', u'gained', u'gainey', u'gaining', u'gains', u'galactic', u'galaxy', u'galileo', u'gallagher', u'gallant', u'galley', u'game', u'games', u'gandalf.rutgers.edu', u'gang', u'ganymede', u'gap', u'garage', u'garaged', u'garbage', u'garbo.uwasa.fi', u'garden', u'garpenlov', u'garrett', u'garry', u'gary', u'gas', u'gases', u'gasoline', u'gasp', u'gate', u'gates', u'gateway', u'gateways', u'gather', u'gathered', u'gaudreau', u'gave', u'gay', u'gays', u'gaza', u'gb', u'gc', u'gcc', u'gd', u'ge', u'gear', u'geared', u'gearing', u'gears', u'geb', u'gee', u'geez', u'gel', u'gelatin', u'gem', u'gemini', u'gems', u'gender', u'gene', u'general', u'generally', u'generate', u'generated', u'generates', u'generating', u'generation', u'generations', u'generator', u'generators', u'generic', u'genes', u'genesis', u'genetic', u'genetics', u'genocide', u'gentile', u'gentiles', u'gentle', u'gentler', u'gently', u'genuine', u'genuinely', u'geo', u'geographical', u'geological', u'geometric', u'geometrical', u'geometry', u'george', u'georgia', u'german', u'germans', u'germany', u'germs', u'gerry', u'get', u'gets', u'getting', u'gg', u'ghia', u'ghost', u'gi', u'giant', u'giants', u'gibson', u'gideon', u'gif', u'gifs', u'gift', u'gifts', u'gigantic', u'gilhen', u'gilmour', u'girl', u'girlfriend', u'girls', u'gist', u'give', u'given', u'gives', u'giving', u'gl', u'glad', u'gladly', u'glance', u'gland', u'glands', u'glass', u'gld', u'glenn', u'glitch', u'global', u'globe', u'glocks', u'glory', u'glove', u'gloves', u'glow', u'glowing', u'glucose', u'glued', u'gm', u'gmt', u'gn', u'gnd', u'gnp', u'gnu', u'gnv.ifas.ufl.edu', u'go', u'go32', u'goal', u'goalie', u'goalies', u'goals', u'goaltending', u'goats', u'god', u\"god's\", u'god-shaped', u'goddard', u'gods', u'goes', u'going', u'golan', u'gold', u'goldberg', u'golden', u'goldin', u'goldstar', u'golf', u'gon', u'gone', u'gonzalez', u'good', u'goodies', u'goodness', u'goods', u'goodyear', u'goovernment', u'gordon', u'gore', u'gosh', u'gospel', u'gospels', u'got', u'gotten', u'goucher', u'gov', u\"gov't\", u'goverment', u'governing', u'government', u'governments', u'governor', u'govt', u'gpo', u'gps', u'gr', u'grab', u'grabbed', u'grabs', u'grace', u'grad', u'grade', u'graded', u'gradient', u'gradual', u'gradually', u'graduate', u'graduated', u'graduation', u'graf', u'graham', u'grail', u'grain', u'grains', u'granato', u'grand', u'grandfather', u'grandfathers', u'grandiose', u'grant', u'granted', u'grantees', u'grants', u'grapes', u'graphic', u'graphical', u'graphics', u'graphs', u'grapple', u'grasp', u'grass', u'grateful', u'grating', u'grave', u'graves', u'gravity', u'gray', u'grayscale', u'great', u'greater', u'greatest', u'greatly', u'greece', u'greek', u'greeks', u'green', u'greenberg', u'greene', u'greetings', u'greg', u'gregory', u'grenade', u'grenades', u'gretchen', u'gretzky', u'grew', u'grey', u'greyhound', u'grid', u'gridlock', u'grief', u'griffey', u'griffin', u'grin', u'grind', u'grip', u'groceries', u'gross', u'groucho', u'ground', u'grounded', u'grounds', u'group', u'groups', u'grove', u'grow', u'growing', u'grown', u'grows', u'growth', u'gs', u'gt', u'guarantee', u'guaranteed', u'guarantees', u'guard', u'guardians', u'guarding', u'guards', u'guerillas', u'guess', u'guesses', u'guessing', u'guidance', u'guide', u'guidelines', u'guides', u'guiding', u'guilt', u'guilty', u'guise', u'guitar', u'gulf', u'gum', u'gun', u'gunpoint', u'guns', u'guru', u'guy', u'guys', u'gxxor', u'h', u'h4p', u'ha', u'habit', u'habitation', u'habits', u'habs', u'hacker', u'had', u\"hadn't\", u'haggling', u'hagoromo', u'haines', u'hair', u'hakan', u'hal9k.ann-arbor.mi.us', u'half', u'hall', u'ham', u'hamas', u'hamilton', u'hammer', u'hampshire', u'hamrlik', u'hand', u'hand-bent', u'hand-held', u'handbook', u'handed', u'handful', u'handgun', u'handguns', u'handheld', u'handheld.com', u'handing', u'handle', u'handlebars', u'handled', u'handler', u'handles', u'handling', u'hands', u'handshaking', u'handwriting', u'handy', u'hang', u'hanging', u'hangs', u'hank', u'hannibal', u'happen', u'happened', u'happening', u'happens', u'happily', u'happiness', u'happy', u'har', u'harbour', u'hard', u'harder', u'hardest', u'hardly', u'hardware', u'hardy', u'harley', u'harleys', u'harlots', u'harm', u'harmful', u'harmony', u'harold', u'harping', u'harrassed', u'harris', u'harry', u'harsh', u'hart', u'hartford', u'harvard', u'harvey', u'has', u'hasan', u'hash', u'hasler.ascom.ch', u\"hasn't\", u'hassan', u'hassle', u'hasty', u'hat', u'hate', u'hates', u'hating', u'hatred', u'hausmann', u'hav', u\"haven't\", u'having', u'hawaii', u'hawerchuk', u'hawgood', u'hawk', u'hawks', u'hayes', u'hazard', u'hazards', u'hb9nby', u'hc', u'hci', u'hd', u'he', u\"he's\", u'he/she', u'head', u'headache', u'headaches', u'headed', u'header', u'headers', u'heading', u'heads', u'healed', u'healing', u'health', u'healthy', u'heaps', u'hear', u'heard', u'hearing', u'heart', u'hearted', u'hearts', u'heat', u'heated', u'heater', u'heating', u'heats', u'heaven', u'heavens', u'heavier', u'heavily', u'heavy', u'hebert', u'hebrew', u'hebrews', u'heck', u'hedican', u'hee', u'hefty', u'heh', u'hehehe', u'height', u'heights', u'heinous', u'held', u'helicopter', u'hell', u'hellman', u'hello', u'helmet', u'helmeted', u'helmets', u'help', u'helped', u'helper', u'helpful', u'helpfull', u'helping', u'helps', u'helsinki', u'hence', u'henderson', u'hendricks', u'henrik', u'henry', u'hepatic', u'her', u'here', u'hereby', u'heresies', u'heresy', u'heretic', u'hereto', u'herman', u'heroic', u'herring', u'hers', u'herself', u'hesitate', u'het', u'heterosexuals', u'hewlett-packard', u'hex', u'hey', u'hg', u'hh', u'hi', u'hid', u'hidden', u'hide', u'hideout', u'hiding', u'hierarchical', u'hierarchy', u'high', u'high-end', u'high-performance', u'high-quality', u'high-speed', u'high-tech', u'higher', u'highest', u'highlight', u'highlighted', u'highlights', u'highly', u'highway', u'highways', u'hill', u'hillary', u'him', u'him/her', u'himself', u'hinges', u'hint', u'hinted', u'hints', u'hire', u'hired', u'his', u'his/her', u'historians', u'historic', u'historical', u'historically', u'histories', u'history', u'hit', u'hiten', u'hitler', u'hits', u'hitter', u'hitters', u'hitting', u'hiv', u'hizbollah', u'hj', u'hk', u'hm', u'hmm', u'hmmm', u'hmmmm', u'hn', u'hoax', u'hobby', u'hoc', u'hockey', u'hof', u'hold', u'holder', u'holders', u'holding', u'holds', u'hole', u'holes', u'holger', u'holiday', u'holiness', u'holland', u'hollywood', u'holocaust', u'holy', u'home', u'homeland', u'homeless', u'homer', u'homers', u'homes', u'homework', u'homicide', u'homicides', u'homosexual', u'homosexuality', u'homosexuals', u'honda', u'honest', u'honestly', u'honk', u'honor', u'honorable', u'honoring', u'honour', u'honouring', u'honours', u'hood', u'hook', u'hook-up', u'hooked', u'hooking', u'hoover', u'hop', u'hope', u'hoped', u'hopeful', u'hopefully', u'hopes', u'hoping', u'hopkins', u'hopper.acs.virginia.edu', u'horizon', u'horizontal', u'horizontally', u'horn', u'horrible', u'horribly', u'horrifying', u'horror', u'horse', u'horses', u'hose', u'hosed', u'hospital', u'hospitality', u'host', u'hostage', u'hostile', u'hostility', u'hosts', u'hot', u'hotel', u'hotels', u'hoth', u'hotline', u'hotter', u'hour', u'hourglass', u'hours', u'house', u'houses', u'housing', u'houston', u'how', u'howard', u'howdy', u'howe', u'however', u'howling', u'hp', u'hp-ux', u'hq', u'hr', u'hrs', u'hrudey', u'hst', u'ht', u'hubble', u'hubert', u'hudson', u'huge', u'hughes', u'hugs', u'huh', u'hulk', u'hull', u'human', u'humanitarian', u'humanity', u'humans', u'humble', u'humbly', u'humor', u'humour', u'hundred', u'hundreds', u'hung', u'hungry', u'hunt', u'hunter', u'hunters', u'hunting', u'huntsville', u'hurricane', u'hurry', u'hurt', u'hurting', u'hurts', u'husband', u'husbands', u'husky', u'hussein', u'hv', u'hw', u'hydraulic', u'hydrocarbons', u'hymn', u'hype', u'hypocrite', u'hypoglycemia', u'hypothesis', u'hypothetical', u'hyundai', u'hz', u\"i'd\", u\"i'm\", u\"i've\", u'i.e', u'i/o', u'i2c', u'i8', u'ia', u'iapetus', u'ibm', u'ibm-pc', u'ibm.cl.msu.edu', u'icbm', u'ice', u'ico', u'icon', u'iconic', u'icons', u'id', u'ida', u'idacom', u'idacom.hp.com', u'idaho', u'ide', u'idea', u'ideal', u'ideally', u'ideals', u'ideas', u'identical', u'identification', u'identified', u'identify', u'identity', u'ideological', u'ideology', u'idiot', u'idiotic', u'idiots', u'idle', u'idol', u'ids', u'ie', u'ieee', u'iff', u'ignite', u'ignition', u'ignorance', u'ignorant', u'ignore', u'ignored', u'ignores', u'ignoring', u'ii', u\"ii's\", u'iii', u'iisi', u'iivx', u'ik', u'il', u'ile', u'ill', u'illegal', u'illegitimate', u'illinois', u'illness', u'illnesses', u'illuminating', u'illumination', u'illusion', u'illustrate', u'illustrated', u'illustrious', u'im', u'image', u'imagery', u'images', u'imaginary', u'imagination', u'imagine', u'imagined', u'imaging', u'imakefile', u'imam', u'imho', u'immaculate', u'immature', u'immediate', u'immediately', u'immense', u'immigrants', u'immoral', u'immunity', u'immunization', u'immunized', u'imo', u'impact', u'impair', u'impending', u'imperfect', u'imperialist', u'implement', u'implementation', u'implementations', u'implemented', u'implementing', u'implements', u'implication', u'implications', u'implicit', u'implicitly', u'implied', u'implies', u'imply', u'import', u'importance', u'important', u'importantly', u'importing', u'impose', u'imposed', u'imposing', u'impossible', u'impractical', u'impress', u'impressed', u'impression', u'impressions', u'impressive', u'improve', u'improved', u'improvement', u'improvements', u'improving', u'impulse', u'impulses', u'impunity', u'inability', u'inaccurate', u'inadequate', u'inappropriate', u'inappropriately', u'inc', u'incandescent', u'incarnate', u'incentive', u'incentives', u'inch', u'inches', u'incidences', u'incident', u'incidentally', u'incidents', u'inclination', u'inclined', u'include', u'included', u'includes', u'including', u'inclusion', u'income', u'incoming', u'incompatibilities', u'incompatible', u'incompetent', u'incomplete', u'inconsequential', u'inconsistent', u'incorporated', u'incorrect', u'incorrectly', u'increase', u'increased', u'increases', u'increasing', u'increasingly', u'incredible', u'incredibly', u'incriminating', u'indeed', u'independant', u'independence', u'independent', u'independently', u'index', u'india', u'indian', u'indians', u'indicate', u'indicated', u'indicates', u'indicating', u'indication', u'indicative', u'indictment', u'indigo', u'indiscriminate', u'indiscriminately', u'individual', u'individually', u'individuals', u'indo-european', u'induction', u'industrial', u'industrial/military', u'industries', u'industry', u'inept', u'inequities', u'inevitable', u'inevitably', u'inexpensive', u'infact', u'infallible', u'infamous', u'infant', u'infants', u'infected', u'infection', u'infections', u'infectious', u'infer', u'inference', u'inferior', u'infield', u'infinite', u'infinity', u'inflammation', u'inflatable', u'inflated', u'inflation', u'inflicted', u'influence', u'influenced', u'info', u'inform', u'informal', u'information', u'informative', u'informed', u'informing', u'informix.com', u'infrastructure', u'infringement', u'ingredients', u'ingres.com', u'inhabitants', u'inherent', u'inherently', u'inherit', u'inherited', u'inhuman', u'initial', u'initialize', u'initially', u'initiated', u'initiating', u'initiation', u'initiative', u'injected', u'injecting', u'injection', u'injured', u'injuries', u'injury', u'ink', u'inkjet', u'inn', u'innards', u'innate', u'inner', u'inning', u'innings', u'innocent', u'innovation', u'input', u'inputs', u'inquire', u'inquiries', u'inquiry', u'insane', u'inscrutable', u'insecure', u'insert', u'inserted', u'inserting', u'inside', u'insight', u'insignificant', u'insist', u'insisted', u'insisting', u'insists', u'inspected', u'inspection', u'inspectors', u'inspiration', u'inspire', u'inspired', u'install', u'installation', u'installations', u'installed', u'installing', u'instance', u'instances', u'instant', u'instantaneous', u'instantly', u'instead', u'institute', u'instituted', u'institution', u'institutions', u'instruct', u'instruction', u'instructions', u'instructor', u'instrument', u'instruments', u'insufficient', u'insulin', u'insult', u'insulting', u'insults', u'insurance', u'insure', u'insured', u'int', u'intact', u'integer', u'integers', u'integra', u'integral', u'integrated', u'integration', u'integrity', u'intel', u'intel-based', u'intellect', u'intellectual', u'intellectually', u'intelligence', u'intelligent', u'intelligently', u'intend', u'intended', u'intends', u'intense', u'intensity', u'intensive', u'intent', u'intention', u'intentionally', u'intentions', u'interact', u'interactive', u'interactively', u'intercept', u'intercepted', u'interception', u'intercourse', u'interest', u'interested', u'interesting', u'interestingly', u'interests', u'interface', u'interfaces', u'interfacing', u'interfered', u'interference', u'interferes', u'interfering', u'intergraph', u'interior', u'intermediate', u'intermittent', u'internal', u'internals', u'international', u'internet', u'interplanetary', u'interpolation', u'interpret', u'interpretation', u'interpretations', u'interpreted', u'interpreter', u'interpreting', u'interprets', u'interruption', u'interrupts', u'intersection', u'interstate', u'interval', u'intervals', u'intervene', u'intervened', u'intervention', u'interview', u'interviewed', u'interviews', u'intimate', u'into', u'intolerable', u'intolerance', u'intolerant', u'intrinsically', u'intrisics', u'intro', u'introduce', u'introduced', u'introducing', u'introduction', u'introductory', u'intrusive', u'intuitive', u'invade', u'invalid', u'invalidated', u'invaluable', u'invariably', u'invasion', u'invent', u'invented', u'inverness|live', u'inverse', u'invest', u'investigate', u'investigated', u'investigation', u'investigations', u'investigator', u'investigators', u'investing', u'investment', u'investments', u'investor', u'invitation', u'invited', u'invoice', u'involve', u'involved', u'involvement', u'involves', u'involving', u'io', u'ions', u'iowa', u'ip', u'ipc', u'ipser', u'iq', u'ir', u'ira', u'iran', u'iranian', u'iranians', u'iraq', u'iraqi', u'irgun', u'iris', u'irit', u'iron', u'ironic', u'ironically', u'irrational', u'irregular', u'irrelevant', u'irresponsible', u'irritating', u'irs', u'irvine', u'irving', u'irwin', u'isa', u'isaac', u'isareli', u'isas', u'isbn', u'islam', u'islamic', u'island', u'islanders', u'isles', u\"isn't\", u'isolated', u'israel', u'israeli', u'israelis', u'israelites', u'issuance', u'issue', u'issued', u'issues', u'istanbul', u\"it's\", u'italian', u'italy', u'item', u'items', u'iteration', u'ites', u'its', u'itself', u'iu', u'iv', u'ivy', u'ix', u'izmir', u'j', u'j1', u'j2', u'j3', u'jablonski', u'jack', u'jacket', u'jackets', u'jackson', u'jacob', u'jacobs', u'jaguar', u'jaha', u'jail', u'jam', u'james', u'jamie', u'jammer', u'jan', u'jane', u'janet', u'january', u'jap', u'japan', u'japanese', u'jargon', u'jari', u'jason', u'jaw', u'jay', u'jays', u'jayson', u'jc', u'jd', u'jealous', u'jean', u'jeans', u'jeep', u'jeeze', u'jef', u'jeff', u'jefferson', u'jeffrey', u'jem', u'jeopardy', u'jerk', u'jerks', u'jerry', u'jersey', u'jerseys', u'jerusalem', u'jesse', u'jesus', u'jet', u'jets', u'jew', u'jewish', u'jews', u'jh', u'jim', u'jimmy', u'jj', u'jjb', u'jmd', u'job', u'jobs', u'jody', u'joe', u'joel', u'john', u'johnh', u'johnny', u'johns', u'johnson', u'join', u'joined', u'joining', u'joint', u'jointly', u'joints', u'joke', u'jokerit', u'jokes', u'jolt', u'jon', u'jonas', u'jonathan', u'jones', u'jordan', u'jose', u'joseph', u'josh', u'joshua', u'journal', u'journalists', u'journey', u'jovi', u'jovian', u'joy', u'joy-filled', u'joystick', u'joysticks', u'jpeg', u'jpg', u'jpl', u'jpl-devvax.jpl.nasa.gov', u'jr', u'jrm', u'jsh', u'juan', u'judaism', u'judge', u'judgement', u'judgemental', u'judges', u'judging', u'judgment', u'judgmental', u'judiciary', u'juha', u'jul', u'julien', u'july', u'jump', u'jumped', u'jumper', u'jumpers', u'jumping', u'jumps', u'june', u'junior', u'junk', u'jupiter', u'jurisdiction', u'jury', u'just', u'justice', u'justifiable', u'justification', u'justifications', u'justified', u'justify', u'justifying', u'k', u'k75', u'ka', u'kafan', u'kaiser', u'kan', u'kane', u'karabag', u'karabagh', u'karabakh', u'kariya', u'karma', u'kawasaki', u'kb', u'keenan', u'keep', u'keeping', u'keeps', u'keith', u'keller', u'kelly', u'ken', u'kendigism', u'kennedy', u'kenneth', u'kent', u'kentucky', u'kept', u'kermit', u'kernel', u'kerr', u'kerry', u'ketterer', u'kevin', u'kevinh', u'key', u'keyboard', u'keycode', u'keying', u'keymap', u'keynes', u'keys', u'keystrokes', u'keyword', u'keywords', u'kg', u'kgb', u'khaki', u'khojali', u'khomeini', u'khoros', u'khz', u'kick', u'kicked', u'kicker', u'kicking', u'kicks', u'kid', u'kidding', u'kids', u'kill', u'killed', u'killer', u'killing', u'killings', u'kills', u'kim', u'kind', u'kinda', u'kinder', u'kindly', u'kinds', u'kinetic', u'king', u'kingdom', u'kingman', u'kingpost', u'kings', u'kingston', u'kinsey', u'kirby', u'kisio', u'kit', u'kitchen', u'kits', u'kk', u'kkeller', u'km', u'kmail', u'knee', u'knees', u'knew', u'knife', u'knight', u'knives', u'knock', u'knocked', u'knocking', u'know', u'knowing', u'knowingly', u'knowledge', u'knowledgeable', u'known', u'knows', u'kodak.com', u'kong', u'koresh', u'kosher', u'kotrb', u'koufax.cv.hp.com', u'kratz', u'krypton', u'kt', u'kurdish', u'kurds', u'kurri', u'kuwait', u'kw', u'l', u'l.a', u'l/r', u'l3', u'la', u'lab', u'label', u'labels', u'labor', u'laboratories', u'laboratory', u'labs', u'lack', u'lacked', u'lacking', u'lacks', u'ladies', u'lady', u'lafontaine', u'lagging', u'lai', u'laid', u'lak', u'lake', u'lakes', u'lamb', u'lambert', u'lamp', u'lamps', u'lan', u'land', u'landed', u'landing', u'landings', u'lands', u'landscape', u'landscapes', u'lane', u'lanes', u'language', u'languages', u'lantern', u'lap', u'larc.nasa.gov', u'large', u'largely', u'larger', u'largest', u'larkin', u'larry', u'laser', u'laserjet', u'laserwriter', u'last', u'last-modified', u'lasting', u'lastly', u'late', u'late-night', u'lately', u'later', u'latest', u'latex', u'latin', u'latter', u'lau', u'laugh', u'laughed', u'laughing', u'laughs', u'laughter', u'launch', u'launched', u'launcher', u'launches', u'launching', u'law', u'law-abiding', u'lawful', u'lawn', u'lawnmower', u'lawrence', u'laws', u'lawyer', u'lawyers', u'lay', u'layer', u'layers', u'laying', u'layout', u'layouts', u'lazarus', u'lazy', u'lb', u'lbs', u'lc', u'lciii', u'le', u'leach', u'lead', u'leader', u'leaders', u'leadership', u'leading', u'leads', u'leaf', u'leafs', u'league', u'leagues', u'leak', u'leakage', u'leaking', u'leaks', u'lean', u'leaned', u'leaning', u'leap', u'learn', u'learned', u'learning', u'lease', u'leasing', u'least', u'leather', u'leathers', u'leave', u'leaves', u'leaving', u'lebanese', u'lebanon', u'lecture', u'led', u'ledyard', u'lee', u'lefebvre', u'left', u'leftist', u'lefty', u'leg', u'legacy', u'legal', u'legalistic', u'legality', u'legally', u'legend', u'legislation', u'legislative', u'legit', u'legitimate', u'legitimize', u'legs', u'leila', u'lemieux', u'lemon', u'len', u'lend', u'length', u'lenin', u'lenny', u'lens', u'lenses', u'lenstra', u'lent', u'leo', u'lesbian', u'lesions', u'less', u'lesser', u'lesson', u'lessons', u'lest', u'let', u'lethal', u'lets', u'letter', u'letters', u'letting', u'lev', u'level', u'levelled', u'levels', u'leverage', u'leviticus', u'lew', u'lewis', u'lexus', u'lf', u'lh', u'liability', u'liars', u'lib', u'libel', u'liberal', u'liberals', u'libertarian', u'libertarianism', u'libertarians', u'liberties', u'liberty', u'libraries', u'library', u'libs', u'licence', u'license', u'licensed', u'licensees', u'licenses', u'licensing', u'lid', u'lidstrom', u'lie', u'lied', u'lies', u'life', u'life-threatening', u'lifestyle', u'lifetime', u'lift', u'lifted', u'lifting', u'liftoff', u'light', u'lighter', u'lighting', u'lightly', u'lightning', u'lights', u'like', u'liked', u'likelihood', u'likely', u'likes', u'likewise', u'limbaugh', u'limit', u'limitation', u'limitations', u'limited', u'limiter', u'limiting', u'limits', u'lincoln', u'lindbergh', u'linden', u'lindros', u'line', u'linear', u'lined', u'liner', u'lines', u'lineup', u'link', u'links', u'linux', u'lips', u'liquid', u'lisa', u'lisp', u'list', u'listed', u'listen', u'listened', u'listening', u'listing', u'listings', u'lists', u'listserv', u'liter', u'literal', u'literally', u'literature', u'little', u'liturgical', u'liturgy', u'live', u'lived', u'livelihood', u'liver', u'liverpool', u'lives', u'livestock', u'living', u'll', u'lloyd', u'load', u'loaded', u'loading', u'loads', u'loaned', u'lobby', u'loc', u'local', u'locally', u'locate', u'located', u'location', u'locations', u'lock', u'locked', u'locker', u'locks', u'lockup', u'log', u'logic', u'logical', u'login', u'logistical', u'logistics', u'logitech', u'logjam', u'logo', u'logos', u'lomakin', u'lomakin-butsayev-conroy', u'london', u'lone', u'long', u'long-term', u'longer', u'look', u'looked', u'looking', u'looks', u'loop', u'loops', u'loose', u'loosing', u'lord', u'lords', u'los', u'lose', u'losers', u'loses', u'losing', u'loss', u'lossless', u'lost', u'lot', u'lots', u'lotsa', u'lotus', u'lou', u'loud', u'loudly', u'louis', u'lousy', u'love', u'loved', u'lovely', u'loves', u'loving', u'low', u'lower', u'lowest', u'lowly', u'lox', u'loyalties', u'lp', u'ls', u'lsd', u'lt', u'ltd', u'lucifer', u'luck', u'luckily', u'lucky', u'ludicrous', u'ludwig', u'luke', u'lulling', u'lumme', u'lunar', u'lunatic', u'lunch', u'lung', u'lutheran', u'luxury', u'lx', u'lying', u'lyle', u'lynn', u'm', u\"m'lud\", u'm.d', u'm/s', u'm1', u'ma', u'maas', u'mac', u'mach', u'machine', u'machines', u'macinnis', u'macintosh', u'mack', u'macliesh', u'macquarie', u'macro', u'macs', u'mad', u'maddi', u'made', u'madhaus', u'madman', u'madness', u'madonna', u'mag', u'magazine', u'magazines', u'magellan', u'magic', u'magical', u'magician', u'magnavox', u'magnetic', u'magnetometer', u'magnetosphere', u'magnets', u'magnificent', u'magnitude', u'magnum', u'mags', u'mail', u'mail-server', u'mail.sas.upenn.edu', u'mailed', u'mailer', u'mailing', u'main', u'maine', u'mainframe', u'mainland', u'mainly', u'maintain', u'maintained', u'maintaining', u'maintains', u'maintenance', u'major', u'majority', u'makarios', u'make', u'maker', u'makers', u'makes', u'making', u'malaria', u'malcolm', u'male', u'malfunction', u'mall', u'mallove', u'malls', u'maltais', u'mamedov', u'mamma', u'man', u'manage', u'managed', u'management', u'manager', u'managers', u'managing', u'mandate', u'mandates', u'mandatory', u'maneuver', u'mangled', u'manhattan', u'manipulate', u'manipulating', u'manipulation', u'manipulative', u'mankind', u'manned', u'manner', u'manual', u'manually', u'manuals', u'manufactuers', u'manufacture', u'manufacturer', u'manufacturers', u'manufactures', u'manufacturing', u'manuver', u'many', u'map', u'maple', u'mapped', u'mapping', u'maps', u'mar', u'marc', u'march', u'margin', u'marginally', u'maria', u'marijuana', u'mariner', u'mario', u'mark', u'marked', u'market', u'marketed', u'marketing', u'markets', u'marks', u'markus', u'marlins', u'marquette', u'marriage', u'marriages', u'married', u'marry', u'mars', u'martian', u'martin', u'marty', u'martyr', u'martyrs', u'mary', u'maryland', u'mas', u'mask', u'masks', u'mass', u'massachusetts', u'massacre', u'massacred', u'massacres', u'masses', u'massive', u'massively', u'master', u'masters', u'mat', u'match', u'matches', u'matching', u'mate', u'material', u'materials', u'maternity', u'math', u'mathematica', u'mathematical', u'mathematics', u'matikainen', u'matloff', u'matrix', u'matt', u'matteau', u'matter', u'matters', u'matthew', u'mattingly', u'mattress', u'mature', u'maturity', u'max', u'maxima', u'maximize', u'maximum', u'may', u'maybe', u'mayne', u'mayor', u'mazda', u'mb', u'mb/s', u'mbeck', u'mc', u'mcb', u'mcconkie', u'mcdonald', u'mcdonnell', u'mcdowell', u'mcgill', u'mcnall', u'mcphee', u'mcwilliams', u'md', u'md5', u'me', u'meal', u'mean', u'meaning', u'meaningful', u'meaningless', u'meanings', u'means', u'meant', u'meantime', u'meanwhile', u'measure', u'measured', u'measurement', u'measurements', u'measures', u'measuring', u'meat', u'mechanic', u'mechanical', u'mechanics', u'mechanism', u'mechanisms', u'mechanized', u'media', u'media.mit.edu', u'median', u'medical', u'medicare', u'medication', u'medicine', u'mediocre', u'meditating', u'meditation', u'mediterranean', u'medium', u'meet', u'meeting', u'meetings', u'meg', u'megabyte', u'megabytes', u'megs', u'mein', u'mel', u'mellon', u'mem', u'member', u'members', u'membership', u'memorable', u'memorial', u'memory', u'men', u'menace', u'menschen', u'mental', u'mentality', u'mentally', u'mention', u'mentioned', u'mentioning', u'mentions', u'ments', u'menu', u'menus', u'merchants', u'mercury', u'mercy', u'mere', u'merely', u'merge', u'merging', u'merit', u'merits', u'mesh', u'meson', u'mess', u'message', u'message-id', u'messages', u'messiah', u'messier', u'met', u'metabolic', u'metabolize', u'metal', u'metals', u'metaphor', u'meter', u'meters', u'methanol', u'methinks', u'method', u'methodology', u'methods', u'metric', u'metro', u'mets', u'metzenbaum', u'metzger', u'mexico', u'mf', u'mfm', u'mg', u'mgr', u'mhz', u'mi', u'mia', u'miami', u'mice', u'michael', u'michelin', u'michigan', u'mickey', u'micro', u'microcircuit', u'microcircuits', u'microcomputer', u'microcontroller', u'microdistrict', u'microgravity', u'microphone', u'microprocessor', u'microsoft', u'microsystems', u'mid', u'middle', u'midi', u'midnight', u'midst', u'midway.uchicago.edu', u'mif', u'might', u'mighty', u'mikael', u'mike', u'mil', u'milano', u'mildly', u'mile', u'mile-long', u'mileage', u'miles', u'militarily', u'military', u'militia', u'militiamen', u'militias', u'mill', u'millen', u'millennium', u'miller', u'million', u'millions', u'milton', u'milwaukee', u'mimas', u'min', u'mind', u'minded', u'minds', u'mine', u'miner', u'minerals', u'minh', u'mini', u'minimal', u'minimizes', u'minimum', u'mining', u'miniscule', u'minister', u'ministers', u'ministry', u'minnesota', u'minor', u'minorities', u'minority', u'minors', u'mins', u'mint', u'minus', u'minute', u'minutes', u'mips', u'mir', u'miracle', u'miranda', u'mironov', u'mirror', u'mirrored', u'mirrors', u'misc', u'miscalculated', u'miscellaneous', u'misconception', u'misconceptions', u'misdemeanor', u'miserable', u'misery', u'misfortune', u'misguided', u'misinformation', u'misleading', u'misnomer', u'misrepresent', u'miss', u'missed', u'missile', u'missiles', u'missing', u'mission', u'missions', u'missouri', u'mistake', u'mistaken', u'mistakenly', u'mistakes', u'misunderstanding', u'misunderstood', u'mit', u'mitchell', u'mitsubishi', u'mix', u'mixed', u'mixture', u'mk', u'mlb', u'mm', u'mma', u'mn', u'mnemonics', u'mo', u'moa', u'mob', u'mobile', u'mock', u'mockery', u'mod', u'mode', u'model', u'modeling', u'models', u'modem', u'modems', u'moderate', u'moderately', u'moderates', u'moderator', u'modern', u'modern-day', u'modes', u'modest', u'modification', u'modified', u'modify', u'modifying', u'mods', u'modula-2', u'modulation', u'module', u'modules', u'mog', u'mogilny', u'molecular', u'mom', u'moment', u'moments', u'mon', u'moncton', u'monday', u'monetary', u'money', u'monitor', u'monitored', u'monitoring', u'monitors', u'monkey', u'mono', u'monolithic', u'monopoly', u'monster', u'mont', u'month', u'monthly', u'months', u'montreal', u'mood', u'moon', u'moonroof', u'moons', u'moore', u'moral', u'morality', u'morally', u'morals', u'more', u'moreover', u'morgan', u'morganti', u'mormon', u'mormons', u'morning', u'morphing', u'morris', u'mortgage', u'mos', u'moscow', u'moses', u'moslem', u'moslems', u'most', u'mostly', u'mother', u'motherboard', u'motherboards', u'motherly', u'mothers', u'motif', u'motion', u'motions', u'motivated', u'motivation', u'motivations', u'motives', u'motor', u'motorcycle', u'motorcycles', u'motorcycling', u'motorola', u'motors', u'motos', u'motto', u'mount', u'mountain', u'mountains', u'mounted', u'mouse', u'mouth', u'mouths', u'move', u'moved', u'movement', u'movements', u'moves', u'movie', u'movies', u'moving', u'mozumder', u'mp', u'mpce', u'mpce.mq.edu.au', u'mpeg', u'mpg', u'mph', u'mpw', u'mr', u'mr2', u'mrder', u'mrs', u'ms', u'ms-dos', u'ms-windows', u'msdos', u'msf', u'msg', u'msrp', u'mst', u'mt', u'mtu.edu', u'mtv', u'mu', u'much', u'mucking', u'mueller', u'muffler', u'muir', u'mujahid', u'mule', u'multi', u'multi-ethnic', u'multi-processor', u'multi-religious', u'multi-user', u'multimedia', u'multiple', u'multiply', u'munich', u'murat', u'murder', u'murdered', u'murderer', u'murdering', u'murderous', u'murders', u'murphy', u'murray', u'muscle', u'museum', u'mush', u'music', u'musil', u'muslim', u'muslims', u'mussina', u'must', u'mustang', u'mutated', u'mute', u'mutilated', u'mutilation', u'mutual', u'mvd', u'mvp', u'mvt', u'mw', u'mwm', u'my', u'mydisplay', u'myers', u'mylar', u'myriad', u'myself', u'mystery', u'mystical', u'myth', u'myths', u'n', u'n-body', u'n.j', u'n.y', u'n3jxp', u'na', u'nab', u'nada.kth.se', u'nagorno', u'nagorno-karabakh', u'naive', u'naked', u'name', u'name-calling', u'named', u'namely', u'names', u'nanao', u'nancy', u'napalm', u'narrow', u'narrowed', u'nasa', u'nasda', u'nasty', u'nate', u'nathan', u'nation', u'national', u'nationalities', u'nationals', u'nations', u'nationwide', u'native', u'natural', u'naturally', u'nature', u'natures', u'naughty', u'naval', u'navigation', u'navy', u'nazi', u'nazis', u'nazism', u'nb', u'nc', u'ncaa', u'ncd', u'ncga', u'ncsa.uiuc.edu', u'ndis', u'ne', u'neal', u'near', u'nearby', u'nearest', u'nearly', u'neat', u'neatly', u'nec', u'neccessary', u'necessarily', u'necessary', u'necessity', u'nedved', u'need', u'needed', u'needle', u'needless', u'needs', u'negative', u'neglect', u'neglecting', u'negligent', u'negligible', u'negotiable', u'negotiated', u'negotiations', u'neighbor', u'neighborhood', u'neighboring', u'neighbors', u'neighbouring', u'neighbours', u'neil', u'neither', u'nelson', u'nepean', u'neptune', u'nerve', u'nerves', u'nervous', u'net', u'netcom.com', u'netland', u'nets', u'netters', u'network', u'networked', u'networking', u'networks', u'neural', u'neutral', u'neutron', u'neutrons', u'never', u'nevertheless', u'new', u'newer', u'newest', u'newly', u'news', u'news.answers', u'newsgroup', u'newsgroups', u'newsletter', u'newspaper', u'newspapers', u'newsweek', u'next', u'nfl', u'nh', u'nhl', u'ni', u'nic.funet.fi', u'nice', u'nicely', u'nicholas', u'nick', u'nickname', u'nickolas', u'nicosia', u'nieuwendyk', u'nifty', u'nigel', u'night', u'nighthawk', u'nightmare', u'nights', u'nihilo', u'nil', u'nilsson', u'nine', u'nineteenth', u'ninja', u'nissan', u'nist', u'nitrogen', u'nixon', u'nj', u'nl', u'nm', u'nn', u'nne', u'no', u'no-one', u'noaa', u'noam', u'noble', u'nobody', u'nodes', u'noems', u'noise', u'noises', u'noisy', u'nolan', u'nominal', u'non', u'non-americans', u'non-believers', u'non-british', u'non-christians', u'non-existence', u'non-existent', u'non-government', u'non-jews', u'non-linear', u'non-military', u'non-profit', u'non-smoking', u'non-stop', u'non-traditional', u'none', u'nonetheless', u'nonlinear', u'nonprofit', u'nonsense', u'nontheless', u'noon', u'noone', u'nope', u'nor', u'nordiques', u'norm', u'normal', u'normally', u'norris', u'north', u'northeast', u'northern', u'norton', u'norway', u'nose', u'notable', u'notably', u'notation', u'note', u'notebook', u'notebooks', u'noted', u'notes', u'nothing', u'noticable', u'notice', u'noticeable', u'noticeably', u'noticed', u'notices', u'notification', u'notify', u'noting', u'notion', u'notions', u'notorious', u'notoriously', u'notwithstanding', u'nov', u'nova', u'novel', u'novell', u'november', u'novice', u'novitskey', u'now', u'nowhere', u'nr', u'nra', u'nren', u'ns', u'nsa', u'nt', u'nth', u'ntsc', u'nu', u'nubus', u'nuclear', u'nucleus', u'null', u'number', u'numbers', u'numerical', u'numerically', u'numerous', u'numminen', u'nurse', u'nut', u'nutcase', u'nuts', u'ny', u'nyc', u'nyi', u'nylon', u'nyr', u'nz', u'o', u\"o'clock\", u\"o'reilly\", u'oak', u'oak.oakland.edu', u'oakland', u'oasys.dt.navy.mil', u'oath', u'ob', u'oba', u'obedience', u'oberg', u'obesity', u'obey', u'obeyed', u'obeying', u'object', u'objected', u'objection', u'objections', u'objective', u'objectives', u'objectivity', u'objects', u'obligated', u'obligatory', u'obliged', u'obnoxious', u'obo', u'obp', u'obscure', u'observation', u'observations', u'observatory', u'observe', u'observed', u'observer', u'observers', u'observing', u'obsolete', u'obtain', u'obtained', u'obtaining', u'obvious', u'obviously', u'occasion', u'occasional', u'occasionally', u'occasions', u'occult', u'occupants', u'occupation', u'occupied', u'occupying', u'occur', u'occured', u'occuring', u'occurred', u'occurs', u'ocean', u'oct', u'octane', u'october', u'octopus', u'odd', u'oddity', u'oddly', u'odds', u'odgers', u'odi', u'odometer', u'odyssey', u'oe', u'oem', u'off', u'off-earth', u'off-hand', u'off-line', u'offended', u'offending', u'offense', u'offensive', u'offensively', u'offer', u'offered', u'offering', u'offers', u'office', u'officer', u'officers', u'offices', u'official', u'officially', u'officials', u'officiating', u'offset', u'offshoots', u'often', u'ogrodnick', u'oh', u'ohio', u'ohm', u'oil', u'oilers', u'oils', u'ok', u'okay', u'oklahoma', u'ol', u'olausson', u'old', u'old-fashioned', u'older', u'oldest', u'olson', u'olwm', u'ominous', u'omitted', u'omniscience', u'on-board', u'on-hook', u'on-line', u'onboard', u'once', u'one', u\"one's\", u'one-day', u'one-man', u'one-third', u'ones', u'oneself', u'ongoing', u'online', u'only', u'onslaught', u'ontario', u'onto', u'onwards', u'oo', u'oops', u'op', u'open', u'opened', u'opener', u'opening', u'openlook', u'openly', u'opens', u'openwindows', u'operate', u'operated', u'operates', u'operating', u'operation', u'operational', u'operations', u'operator', u'operators', u'opinion', u'opinions', u'opponent', u'opponents', u'opportunistic', u'opportunites', u'opportunities', u'opportunity', u'oppose', u'opposed', u'opposes', u'opposing', u'opposite', u'opposition', u'oppression', u'opt', u'optical', u'optically', u'optilink', u'optimal', u'optimize', u'option', u'optional', u'options', u'opus', u'orange', u'oranges', u'orbit', u'orbital', u'orbiter', u'orbiters', u'orbiting', u'orbits', u'orchid', u'order', u'ordered', u'ordering', u'orders', u'ordinance', u'ordinary', u'ore', u'oregon', u'organ-surrogates', u'organization', u'organizations', u'organized', u'organizer', u'organs', u'orginal', u'oriental', u'orientation', u'oriented', u'origin', u'original', u'originally', u'originate', u'originated', u'origins', u'oriole', u'orioles', u'orion', u'orr', u'orthodox', u'orthodoxy', u'os', u'os/2', u'oscar', u'oscillator', u'oscilloscope', u'ot', u'otc', u'other', u'others', u'otherwise', u'ott', u'ottawa', u'otto', u'ottoman', u'ouch', u'ought', u'ounces', u'our', u'ours', u'ourselves', u'out', u'outcome', u'outdoor', u'outdoors', u'outer', u'outlaws', u'outlays', u'outlet', u'output', u'outputs', u'outrage', u'outrageous', u'outright', u'outs', u'outside', u'outskirts', u'outta', u'oven', u'ovens', u'over', u'overacker', u'overall', u'overcome', u'overcomes', u'overdrive', u'overflowing', u'overhaul', u'overhead', u'overkill', u'overlook', u'overlooked', u'overly', u'overnight', u'overpass', u'overpopulation', u'overrated', u'overseas', u'oversized', u'overthrow', u'overtime', u'overturn', u'overuse', u'overview', u'overwhelming', u'overwhelmingly', u'overworked', u'ow', u'owens', u'own', u'owned', u'owner', u'owners', u'ownership', u'owning', u'owns', u'ox', u'oxford', u'oxygen', u'oz', u'ozone', u'ozzie', u'p', u'p.m', u'p.o', u'p.s', u'p4', u'p5', u'pa', u\"pa'il\", u'pace', u'pacific', u'pack', u'package', u'packages', u'packed', u'packet', u'packets', u'pad', u'padded', u'padding', u'pads', u'page', u'pagemaker', u'pages', u'paid', u'pain', u'painful', u'painfully', u'painless', u'pains', u'paint', u'painted', u'pair', u'paired', u'pairs', u'palace', u'palastenians', u'palestine', u'palestineans', u'palestinian', u'palestinians', u'palm', u'palmer', u'palo', u'pals', u'pampered', u'panasonic', u'panel', u'panels', u'panic', u'panix.com', u'panthers', u'pants', u'paolo', u'papa', u'papal', u'paper', u'paperback', u'papers', u'paperwork', u'parabolic', u'parachute', u'parachutes', u'parade', u'paradigm', u'paradise', u'paradox', u'paragraph', u'paragraphs', u'parallel', u'parameter', u'parameters', u'parametric', u'paranoia', u'paranoid', u'paraphrase', u'parasites', u'pardon', u'parent', u'parents', u'paris', u'parity', u'park', u'parked', u'parking', u'parliament', u'parole', u'parsing', u'part', u'partial', u'partially', u'participants', u'participate', u'participated', u'participating', u'participation', u'particle', u'particles', u'particular', u'particularly', u'particulars', u'parties', u'partisan', u'partition', u'partly', u'partner', u'partners', u'partnership', u'parts', u'party', u'pasadena', u'pascal', u'paslawski', u'pass', u'passage', u'passages', u'passed', u'passenger', u'passes', u'passing', u'passion', u'passive', u'passover', u'passports', u'password', u'past', u'pat', u'patch', u'patches', u'patently', u'path', u'pathetic', u'paths', u'patience', u'patient', u'patients', u'patrick', u'patrol', u'patrols', u'pattern', u'patterns', u'patterson', u'paul', u'paula', u'pavement', u'pay', u'payable', u'paying', u'payload', u'payloads', u'payment', u'pays', u'pb', u'pc', u'pc-dos', u'pc/at', u'pcs', u'pcx', u'pd', u'pdbourke', u'pdt', u'peace', u'peaceful', u'peaked', u'peaks', u'peculiar', u'pedal', u'pediatric', u'peeing', u'peer', u'pelle', u'pen', u'penalties', u'penalty', u'pending', u'penguin', u'penguins', u'pennsylvania', u'penny', u'penobscot', u'pens', u'pentagon', u'pentium', u'people', u'peoples', u'pep', u'pepper', u'per', u'perceive', u'perceived', u'percent', u'percentage', u'percentages', u'perception', u'perfect', u'perfectly', u'perform', u'performance', u'performed', u'performing', u'performs', u'perhaps', u'perihelion', u'period', u'periodic', u'periodically', u'periodicals', u'peripheral', u'permanent', u'permanently', u'permission', u'permit', u'permits', u'permitted', u'pernicious', u'perpetual', u'perret', u'perry', u'persecuted', u'persecution', u'persia', u'persians', u'persistent', u'persisting', u'person', u'personal', u'personality', u'personally', u'personnel', u'persons', u'perspective', u'perspectives', u'persuade', u'persuaded', u'persuading', u'pertain', u'pertaining', u'pertinent', u'perturbations', u'pet', u'pete', u'peter', u'petri', u'petrol', u'petroleum', u'petty', u'pex', u'pg', u'pgh', u'pgp', u'ph', u'pharisees', u'phase', u'phd', u'phenomenon', u'phenylalanine', u'phew', u'phi', u'phigs', u'phil', u'philadelphia', u'philip', u'philips', u'phill', u'phillies', u'phillips', u'philly', u'philosophical', u'philosophy', u'philosopy', u'phils', u'phoenix', u'phoenix.princeton.edu', u'phone', u'phones', u'phong', u'phosphor', u'photo', u'photographic', u'photographs', u'photography', u'phrase', u'phrased', u'phrases', u'physical', u'physically', u'physician', u'physicians', u'physics', u'pi', u'pick', u'pick-up', u'picked', u'picking', u'picks', u'pickup', u'picture', u'pictures', u'pie', u'piece', u'pieces', u'pierre', u'pig', u'pilate', u'pile', u'pilot', u'pin', u'pinch', u'pins', u'pioneer', u'pipe', u'pipes', u'pirate', u'pirates', u'piss', u'pissed', u'pistol', u'piston', u'pit', u'pitch', u'pitched', u'pitcher', u'pitchers', u'pitching', u'pitiful', u'pitt', u'pittsburgh', u'pituitary', u'pixel', u'pixels', u'pixmap', u'pkg', u'pkp', u'pku', u'pl', u'place', u'placebo', u'placed', u'placement', u'places', u'placing', u'plague', u'plain', u'plainly', u'plaintext', u'plan', u'plane', u'planes', u'planet', u'planetary', u'planets', u'planned', u'planning', u'plans', u'plant', u'plants', u'plaque', u'plasma', u'plastic', u'plate', u'plates', u'platform', u'platforms', u'plato', u'platoon', u'plausible', u'play', u'play-by-play', u'playback', u'played', u'player', u'players', u'playing', u'playoff', u'playoffs', u'plays', u'plea', u'pleading', u'pleasant', u'please', u'pleased', u'pleasing', u'pleasure', u'plenty', u'pli', u'plo', u'plot', u'plots', u'plug', u'plugged', u'plugs', u'plus', u'pluto', u'pm', u'pmetzger', u'pn', u'pneumonia', u'po', u'po.cwru.edu', u'pocket', u'pockets', u'poetry', u'pogroms', u'point', u'point-and-click', u'pointed', u'pointer', u'pointers', u'pointing', u'pointless', u'points', u'polar', u'pole', u'poles', u'police', u'policemen', u'policies', u'policing', u'policy', u'polish', u'polite', u'political', u'politically', u'politician', u'politicians', u'politics', u'poll', u'polls', u'pollution', u'poly', u'polygon', u'polygons', u'polynomial', u'pond', u'ponder', u'pontiac', u'pool', u'pools', u'poor', u'poorly', u'pop', u'pop-up', u'pope', u'popes', u'popped', u'popping', u'pops', u'populace', u'popular', u'popularity', u'populated', u'population', u'populations', u'populist', u'popup', u'popups', u'pornography', u'porsche', u'port', u'portable', u'ported', u'porting', u'portion', u'portions', u'portland', u'portray', u'portrayed', u'ports', u'portugese', u'pose', u'posed', u'posit', u'position', u'positioned', u'positioning', u'positions', u'positive', u'positively', u'possess', u'possessed', u'possessing', u'possession', u'possibilities', u'possibility', u'possible', u'possibly', u'post', u'postage', u'postal', u'postcript', u'posted', u'poster', u'posters', u'postfach', u'posting', u'postings', u'postmaster', u'posts', u'postscript', u'postulate', u'pot', u'potential', u'potentially', u'pots', u'potter', u'potvin', u'poulin', u'pound', u'pounds', u'pour', u'pov', u'poverty', u'powder', u'power', u'powerbook', u'powered', u'powerful', u'powering', u'powerless', u'powers', u'pp', u'ppm', u'pq', u'pr', u'practical', u'practically', u'practice', u'practiced', u'practices', u'practicing', u'practitioner', u'pray', u'prayer', u'prayers', u'praying', u'pre', u'pre-registration', u'preach', u'preached', u'preachers', u'preaching', u'precaution', u'precautions', u'preceded', u'precedent', u'precise', u'precisely', u'precision', u'preclude', u'precludes', u'predecessors', u'predict', u'predicted', u'predicting', u'prediction', u'predictions', u'predominantly', u'preface', u'prefer', u'preferably', u'prefered', u'preference', u'preferred', u'prefix', u'pregnancy', u'pregnant', u'prejudice', u'preliminary', u'prelude', u'prematurely', u'premier', u'premise', u'premium', u'preparation', u'prepare', u'prepared', u'preparing', u'presbyterian', u'prescribed', u'prescription', u'presence', u'present', u'presentation', u'presentations', u'presented', u'presenting', u'presently', u'presents', u'preservation', u'preserve', u'preserved', u'preserving', u'president', u'presidential', u'presidents', u'press', u'pressed', u'pressing', u'pressure', u'pressures', u'presumably', u'presume', u'presumed', u'presumptuous', u'pretend', u'pretending', u'pretty', u'prevail', u'prevailing', u'prevent', u'prevented', u'preventing', u'prevention', u'prevents', u'preview', u'previewer', u'previous', u'previously', u'prez', u'price', u'priced', u'prices', u'pricey', u'pricing', u'pride', u'priest', u'priesthood', u'priests', u'primarily', u'primary', u'prime', u'primitive', u'prince', u'princes', u'princeton', u'principal', u'principle', u'principles', u'print', u'printed', u'printer', u'printers', u'printf', u'printing', u'printout', u'prints', u'prior', u'priorities', u'priority', u'prison', u'prisons', u'privacy', u'private', u'privately', u'privilege', u'prix', u'prize', u'prj', u'pro', u'pro-choice', u'pro-israel', u'pro-life', u'prob', u'probability', u'probable', u'probablility', u'probably', u'probe', u'probert', u'probes', u'problem', u'problematic', u'problems', u'procedural', u'procedure', u'procedures', u'proceed', u'proceeded', u'proceedings', u'process', u'processes', u'processing', u'processor', u'processors', u'proclaim', u'proclaimed', u'proctor', u'procurement', u'produce', u'produced', u'produces', u'producing', u'product', u'production', u'productive', u'products', u'prof', u'professional', u'professionally', u'professionals', u'professor', u'professors', u'profit', u'profound', u'profs', u'profusely', u'program', u'programmable', u'programme', u'programmed', u'programmer', u'programmers', u'programming', u'programs', u'progress', u'progresses', u'progression', u'progressive', u'prohibit', u'prohibited', u'prohibiting', u'project', u'projected', u'projection', u'projections', u'projector', u'projects', u'promise', u'promised', u'promises', u'promising', u'promote', u'promoting', u'prompt', u'prompted', u'promptly', u'prone', u'pronoun', u'pronounced', u'proof', u'propaganda', u'propellant', u'propellants', u'proper', u'properly', u'properties', u'property', u'prophecies', u'prophecy', u'prophet', u'prophets', u'propoganda', u'proponents', u'proportion', u'proportional', u'proportions', u'proposal', u'proposals', u'propose', u'proposed', u'proposes', u'proposing', u'proposition', u'propp', u'proprietary', u'propulsion', u'pros', u'prosecute', u'prosecuted', u'prosecuter', u'prospect', u'prospective', u'protect', u'protected', u'protecting', u'protection', u'protectionism', u'protective', u'protects', u'protein', u'proteins', u'protest', u'protestant', u'protestants', u'protesting', u'protocol', u'protocols', u'proton', u'proud', u'prove', u'proved', u'proven', u'proverb', u'proves', u'provide', u'provided', u'providence', u'provider', u'providers', u'provides', u'providing', u'province', u'provinces', u'provision', u'provo', u'provocative', u'provoked', u'ps', u'ps/2', u'psa', u'psalm', u'psalms', u'psuvm.psu.edu', u'psychological', u'psychologically', u'psychology', u'pt', u'pts', u'pu', u'pub', u'pub/pc/win3', u'pub/rtrace', u'public', u'public-key', u'publically', u'publication', u'publications', u'publicize', u'publicly', u'publish', u'published', u'publishers', u'publishing', u'puck', u'puckett', u'pull', u'pulled', u'pulling', u'pulses', u'pump', u'pumping', u'pumps', u'punch', u'punched', u'punches', u'punching', u'pundits', u'punishable', u'punished', u'punishment', u'puppet', u'purchase', u'purchased', u'purchasing', u'purdue', u'pure', u'purely', u'purgatory', u'purging', u'purity', u'purple', u'purpose', u'purposes', u'pursuant', u'pursue', u'pursuing', u'pursuit', u'push', u'pushed', u'pushes', u'pushing', u'put', u'puts', u'putting', u'puzzle', u'puzzled', u'pyramid', u'q', u'q1', u'q2', u'q3', u'q4', u'q800', u'qa', u'qb', u'qm', u'qq', u'qt', u'quack', u'quacks', u'quadra', u'quadra-specific', u'quadras', u'quadratic', u'quakers', u'qualified', u'qualify', u'qualifying', u'qualities', u'quality', u'quantization', u'quantum', u'quarrel', u'quarter', u'quarters', u'que', u'quebec', u'queen', u'queens', u'queer', u'query', u'quest', u'question', u'questionable', u'questioned', u'questioning', u'questionnaire', u'questionnaires', u'questions', u'queue', u'quick', u'quicker', u'quickly', u'quicktime', u'quiet', u'quietly', u'quintana', u'quit', u'quite', u'quitting', u'quo', u'quotations', u'quote', u'quoted', u'quotes', u'quoting', u\"qur'an\", u'r', u'r4', u'r5', u'r75/6', u'ra', u'rabbi', u'rabbit', u'race', u'racers', u'races', u'racial', u'racing', u'racism', u'racist', u'rack', u'radar', u'radial', u'radiation', u'radiator', u'radical', u'radicals', u'radio', u'radios', u'radius', u'raffle', u'rage', u'raid', u'raiders', u'rail', u'rain', u'raines', u'raise', u'raised', u'raises', u'raitanen', u'rally', u'ralph', u'ram', u'ramifications', u'ramps', u'ran', u'rand', u'rand.org', u'random', u'randomly', u'randy', u'range', u'ranger', u'rangers', u'ranges', u'ranging', u'ranheim', u'rank', u'ranked', u'ranking', u'ranks', u'rant', u'ranting', u'rape', u'raped', u'rapes', u'rapid', u'rapidly', u'rare', u'rarely', u'rascal.ics.utexas.edu', u'rash', u'rashly', u'raster', u'rat', u'rate', u'rated', u'rates', u'rather', u'rating', u'ratings', u'ratio', u'rational', u'rationale', u'rationalize', u'rationally', u'rats', u'ratushny', u'rauli', u'rave', u'raw', u'ray', u'ray-tracing', u'raymond', u'raytracer', u'rb', u'rbi', u'rbis', u'rc', u'rd', u'rdd', u're', u're-post', u'reach', u'reached', u'reaches', u'reaching', u'react', u'reacted', u'reaction', u'reactor', u'read', u'read/write', u'readable', u'reader', u'readers', u'readily', u'reading', u'reading/writing', u'readme', u'readmes', u'reads', u'ready', u'reagan', u'real', u'real-time', u'realistic', u'realities', u'reality', u'realization', u'realize', u'realized', u'realizes', u'really', u'realy', u'reams', u'rear', u'reason', u'reasonable', u'reasonably', u'reasoned', u'reasoning', u'reasons', u'reassure', u'rebate', u'reboot', u'rebooting', u'rebound', u'rebuild', u'rebuilt', u'rec', u'rec.motorcycles', u'rec.sport.hockey', u'recall', u'recalled', u'recchi', u'receive', u'received', u'receiver', u'receivers', u'receiving', u'recent', u'recently', u'reception', u'recipe', u'recipient', u'reckless', u'recognise', u'recognize', u'recognized', u'recognizing', u'recommend', u'recommendation', u'recommendations', u'recommended', u'recommends', u'reconcile', u'reconciled', u'record', u'recorded', u'recorder', u'recording', u'records', u'recover', u'recovered', u'recovery', u'rectangular', u'recurrent', u'red', u'reddish', u'reddy', u'redemption', u'redirection', u'redraws', u'reds', u'reduce', u'reduced', u'reduces', u'reducing', u'reduction', u'reductions', u'redwood', u'reed', u'ref', u'refer', u'refered', u'referee', u'reference', u'references', u'refering', u'referred', u'referring', u'refers', u'reflect', u'reflecting', u'reflective', u'reflects', u'reform', u'refrain', u'refresh', u'refuge', u'refugees', u'refusal', u'refuse', u'refused', u'refuses', u'refusing', u'regained', u'regal', u'regard', u'regarded', u'regarding', u'regardless', u'regards', u'reggie', u'regime', u'region', u'regional', u'regions', u'register', u'registered', u'registers', u'registration', u'regret', u'regular', u'regular-season', u'regularly', u'regulars', u'regulate', u'regulated', u'regulating', u'regulation', u'regulations', u'regulator', u'regulatory', u'rehire', u'reich', u'reichel', u'reid', u'reiterated', u'reitman', u'reject', u'rejected', u'rejecting', u'rejection', u'rejects', u'relate', u'related', u'relates', u'relating', u'relation', u'relations', u'relationship', u'relationships', u'relative', u'relatively', u'relatives', u'relaxation', u'relays', u'release', u'released', u'releases', u'releasing', u'relentless', u'relevant', u'reliability', u'reliable', u'relics', u'relief', u'relies', u'relieved', u'religion', u'religions', u'religious', u'reloaded', u'reluctant', u'reluctantly', u'rely', u'relying', u'rem', u'remain', u'remainder', u'remained', u'remaining', u'remains', u'remark', u'remarkable', u'remarks', u'remeber', u'remedy', u'remember', u'remembered', u'remembering', u'remind', u'reminded', u'reminder', u'reminds', u'remote', u'remotely', u'remotest', u'removable', u'removal', u'remove', u'removed', u'removing', u'rename', u'rend386', u'render', u'rendered', u'renderer', u'renderers', u'rendering', u'renderman', u'renders', u'renewal', u'renewed', u'renewing', u'reno', u'rent', u'rental', u'rented', u'rep', u'repair', u'repairs', u'repeat', u'repeated', u'repeatedly', u'repeating', u'repeats', u'repentance', u'repetitive', u'replace', u'replaced', u'replacement', u'replacements', u'replaces', u'replacing', u'replay', u'replied', u'replies', u'reply', u'reply-to', u'report', u'reported', u'reporter', u'reporters', u'reporting', u'reports', u'repository', u'repost', u'reposted', u'represent', u'representation', u'representations', u'representative', u'representatives', u'represented', u'represents', u'reprint', u'reproduce', u'reproduced', u'republic', u'republican', u'republicans', u'reputable', u'reputation', u'request', u'requested', u'requester', u'requesting', u'requests', u'require', u'required', u'requirement', u'requirements', u'requires', u'requiring', u'research', u'researcher', u'researchers', u'resemble', u'resembling', u'resent', u'resentful', u'reservations', u'reserve', u'reserved', u'reset', u'reside', u'residence', u'resident', u'residents', u'resides', u'residue', u'resign', u'resist', u'resistance', u'resistant', u'resistor', u'resistors', u'resolution', u'resolutions', u'resolve', u'resolved', u'resolving', u'resort', u'resorts', u'resource', u'resources', u'respect', u'respectable', u'respected', u'respective', u'respectively', u'respects', u'respiratory', u'respond', u'responded', u'responding', u'responds', u'response', u'responses', u'responsibilities', u'responsibility', u'responsible', u'rest', u'restaurant', u'restaurants', u'resticted', u'resting', u'reston', u'restore', u'restored', u'restoring', u'restrict', u'restricted', u'restricting', u'restriction', u'restrictions', u'result', u'resultant', u'resulted', u'resulting', u'results', u'resurrection', u'retain', u'retalliates', u'retalliation', u'retired', u'retirement', u'retract', u'retreat', u'retrieve', u'retrieved', u'return', u'returned', u'returning', u'returns', u'reusable', u'reuse', u'rev', u'reveal', u'revealed', u'revealing', u'revelation', u'revenge', u'revenue', u'reverend', u'reverse', u'revert', u'review', u'reviewed', u'reviews', u'revised', u'revision', u'revolt', u'revolution', u'revolutions', u'revolve', u'revs', u'revving', u'reward', u'rewarded', u'rewrite', u'rf', u'rfd', u'rgb', u'rh', u'rhetoric', u'rhetorical', u'rhode', u'rhodes', u'ri', u'rice', u'rich', u'richard', u'richardson', u'richer', u'richmond', u'rick', u'rickey', u'rid', u'riddle', u'ride', u'rider', u'riders', u'rides', u'ridge', u'ridiculous', u'ridiculously', u'riding', u'rifle', u'rifles', u'right', u'righteous', u'righteousness', u'rightly', u'rights', u'rims', u'ring', u'rings', u'riot', u'rip', u'ripem', u'ripken', u'ripped', u'risc', u'rise', u'risen', u'rising', u'risk', u'risks', u'risp', u'rite', u'rites', u'ritual', u'river', u'rivers', u'rj', u'rkba', u'rl', u'rle', u'rll', u'rlogin', u'rm', u'rna', u'road', u'roads', u'roar', u'rob', u'robb', u'robbed', u'robbery', u'robbie', u'robbins', u'robert', u'roberto', u'roberts', u'robertson', u'robin', u'robinson', u'robitaille', u'robot', u'robotics', u'robust', u'rochester', u'rock', u'rocket', u'rockets', u'rocketshare', u'rockies', u'rocks', u'rockwell', u'rocky', u'rod', u'rode', u'roehm', u'roenick', u'roger', u'rogers', u'role', u'roles', u'roll', u'rolled', u'rolling', u'rolls', u'rom', u'roman', u'romance', u'romans', u'romantic', u'rome', u'romeo', u'roms', u'ron', u'ronald', u'ronning', u'roof', u'roofs', u'rookie', u'room', u'roomate', u'roommate', u'rooms', u'root', u'roots', u'rose', u'rosen', u'roster', u'rotary', u'rotate', u'rotating', u'rotation', u'rotor', u'rotten', u'rough', u'roughing', u'roughly', u'round', u'rounding', u'rounds', u'route', u'router', u'routine', u'routinely', u'routines', u'rover', u'row', u'rows', u'roy', u'royal', u'royce', u'rp', u'rpc', u'rpm', u'rr', u'rrn', u'rs', u'rs/6000', u'rs6000', u'rsa', u'rstevew', u'rsw', u'rt', u'rtfm.mit.edu', u'rtn', u'rtrace', u'rub', u'rubber', u'rubin', u'rudolf', u'ruff', u'rug', u'ruined', u'ruins', u'rule', u'ruled', u'rulers', u'rules', u'ruling', u'rumor', u'run', u'run-time', u'runners', u'running', u'runs', u'runway', u'rural', u'rus', u'rush', u'russel', u'russell', u'russia', u'russian', u'russians', u'rust', u'ruth', u'ruthless', u'rv', u'ryan', u'ryan.cousineau', u'rychel', u'rz', u'rz350', u's', u's/w', u's1', u's2', u's3', u's4', u'sa', u'saab', u'sabbath', u'sabra', u'sabres', u'sac', u'sacred', u'sacrifice', u'sacrificed', u'sacrifices', u'sacrilege', u'sad', u'saddam', u'saddened', u'sadly', u'safe', u'safely', u'safer', u'safest', u'safety', u'sagan', u'said', u'saint', u'saints', u'sake', u'salami', u'sale', u'sales', u'salesman', u'salt', u'salvation', u'sam', u'same', u'sample', u'samples', u'sampling', u'samuel', u'san', u'sanctions', u'sanctuary', u'sand', u'sanders', u'sanderson', u'sandstrom', u'sandy', u'sang', u'sanity', u'sank', u'sans', u'santa', u'sarah', u'sarcasm', u'sat', u'satan', u'satanic', u'satellite', u'satellites', u'satire', u'satisfaction', u'satisfactory', u'satisfied', u'satisfies', u'satisfy', u'saturday', u'saturn', u\"saturn's\", u'saturnian', u'saudi', u'saunders', u'savage', u'save', u'saved', u'saves', u'saving', u'savings', u'savior', u'saw', u'sawed-off', u'say', u'saying', u'sayings', u'says', u'sb', u'sc', u'scale', u'scaled', u'scaling', u'scan', u'scandinavian', u'scanner', u'scanners', u'scanning', u'scans', u'scant', u'scare', u'scared', u'scares', u'scarf', u'scary', u'scattered', u'scenario', u'scene', u'scenery', u'scenes', u'scenic', u'schedule', u'scheduled', u'schedules', u'schematic', u'schematics', u'scheme', u'schemes', u'schmidt', u'scholar', u'scholarly', u'scholars', u'school', u'schools', u'schriever', u'sci', u'sci.astro', u'sci.physics.research', u'sci.space', u'science', u'sciences', u'scientific', u'scientist', u'scientists', u'sco', u'scoop', u'scope', u'scopes', u'score', u'scored', u'scoreless', u'scoring', u'scott', u'scrap', u'scratched', u'scratches', u'screamed', u'screaming', u'screen', u'screens', u'screw', u'screwed', u'screwing', u'screws', u'scribes', u'script', u'scriptural', u'scripture', u'scriptures', u'scroll', u'scrolling', u'scrolls', u'scrutiny', u'scsi', u'scsi-1', u'scsi-2', u'scst83', u'sculptor', u'scum', u'sd', u'sda', u'sdio', u'sdk', u'se', u'se/30', u'sea', u'sealed', u'seals', u'sean', u'search', u'searched', u'searches', u'searching', u'season', u'seasons', u'seat', u'seats', u'seattle', u'sec', u'second', u'secondary', u'secondly', u'seconds', u'secrecy', u'secret', u'secretary', u'secretive', u'secrets', u'section', u'sections', u'sector', u'sectors', u'secular', u'secure', u'security', u'sedan', u'see', u'seed', u'seeing', u'seek', u'seeking', u'seeks', u'seem', u'seemed', u'seems', u'seen', u'sees', u'segment', u'segments', u'seizure', u'seizures', u'sel', u'selanne', u'seldom', u'select', u'selected', u'selecting', u'selection', u'selections', u'selective', u'self', u'self-defence', u'self-defense', u'self-defenses', u'self-righteous', u'selfish', u'selig', u'sell', u'selling', u'sells', u'semen', u'semi', u'semi-automatic', u'semiconductor', u'semiconductors', u'seminar', u'semper', u'senate', u'senator', u'senators', u'send', u'sender', u'sending', u'sends', u'senior', u'sensation', u'sense', u'sensed', u'senseless', u'senses', u'sensible', u'sensing', u'sensitive', u'sensor', u'sensors', u'sent', u'sentence', u'sentenced', u'sentra', u'sep', u'separate', u'separated', u'separately', u'separation', u'seperate', u'september', u'sequence', u'sequences', u'sequentially', u'serbian', u'serbs', u'serdar', u'serial', u'series', u'serious', u'seriously', u'sermon', u'serpent', u'serve', u'served', u'server', u'servers', u'serves', u'service', u'services', u'serving', u'session', u'set', u'set-up', u'seth', u'sets', u'setting', u'settings', u'settle', u'settled', u'setup', u'seven', u'seventh', u'several', u'severe', u'severely', u'sevres', u'sex', u'sexism', u'sexist', u'sexual', u'sexuality', u'sexually', u'sez', u'sf', u'sfu.ca', u'sg', u'sgi', u'sgi.com', u'sh', u'shack', u'shade', u'shading', u'shadow', u'shadows', u'shaft', u'shahmuradian', u'shake', u'shall', u'shalom', u'shame', u'shameful', u'shamir', u'shanahan', u'shannon', u'shape', u'shaped', u'share', u'shared', u'sharen', u'shares', u'shareware', u'sharing', u'sharon', u'sharp', u'sharply', u'shatila', u'shawn', u'she', u'shearson.com', u'shed', u'sheep', u'sheesh', u'sheet', u'sheets', u'shelf', u'shell', u'shelling', u'shells', u'shelter', u'sheltered', u'shepherd', u'shield', u'shielding', u'shift', u'shifted', u'shifting', u'ship', u'shipped', u'shipping', u'ships', u'shirley', u'shirt', u'shit', u'shitless', u'sho', u'shock', u'shocked', u'shocking', u'shocks', u'shook', u'shoot', u'shooting', u'shootings', u'shoots', u'shop', u'shopper', u'shopping', u'shops', u'short', u'shortage', u'shortcomings', u'shorted', u'shortened', u'shorter', u'shortly', u'shorts', u'shot', u'shotgun', u'shots', u'should', u'shoulder', u'shoulders', u'shout', u'shouting', u'shouts', u'shove', u'shoved', u'shovel', u'show', u'showed', u'showing', u'shown', u'shows', u'shrapnel', u'shred', u'shrewd', u'shrink', u'shut', u'shutout', u'shutouts', u'shutter', u'shuttle', u'si', u'sic', u'sick', u'sickness', u'side', u'sides', u'siemens', u'sieve', u'sig', u'siggraph', u'sigh', u'sight', u'sign', u'signal', u'signal-to-noise', u'signals', u'signature', u'signed', u'significance', u'significant', u'significantly', u'signing', u'signs', u'silent', u'silicon', u'silly', u'silver', u'similar', u'similarities', u'similarly', u'simm', u'simmons', u'simms', u'simon', u'simple', u'simpler', u'simplicity', u'simplified', u'simplify', u'simplistic', u'simply', u'simulate', u'simulated', u'simulation', u'simulations', u'simulator', u'simulators', u'simultaneously', u'sin', u'since', u'sincere', u'sincerely', u'sinful', u'sinfulness', u'sing', u'singing', u'single', u'sink', u'sinking', u'sinned', u'sinner', u'sinners', u'sins', u'sir', u'sister', u'sisters', u'sit', u'site', u'sites', u'sits', u'sitting', u'situation', u'situational', u'situations', u'six', u'sixteen', u'sixth', u'size', u'sized', u'sizes', u'sj', u'sk', u'skate', u'skater', u'skates', u'skating', u'skeptical', u'skepticism', u'skewed', u'ski', u'skid', u'skill', u'skills', u'skin', u'skip', u'skipjack', u'skrudland', u'sky', u'slamming', u'slams', u'slander', u'slap', u'slashing', u'slaughter', u'slave', u'slaveowners', u'slavery', u'slaves', u'sleep', u'sleeping', u'sleeves', u'slew', u'slg', u'slick', u'slide', u'sliding', u'slight', u'slightest', u'slightly', u'slime', u'slingshot', u'slip', u'slipped', u'slippery', u'slmr', u'sloan', u'slope', u'slot', u'slots', u'slow', u'slowed', u'slower', u'slowing', u'slowly', u'slows', u'slugging', u'small', u'small-minded', u'smaller', u'smallest', u'smart', u'smartdrive', u'smartdrv', u'smehlik', u'smell', u'smiling', u'smith', u'smoke', u'smoked', u'smokeless', u'smokers', u'smoking', u'smooth', u'smoothly', u'smp', u'smudge', u'smythe', u'snail', u'snail-mail', u'snakes', u'sneak', u'snip', u'sniper', u'snm6394', u'snooping', u'snot', u'snow', u'snows', u'snug', u'so', u'so-called', u'soak', u'sob', u'sobered', u'soc.religion.islam', u'soccer', u'social', u'socialism', u'socialist', u'socialized', u'societies', u'society', u'socket', u'socketed', u'socrates', u'soda', u'soderstrom', u'soft', u'softly', u'software', u'soil', u'sol', u'solar', u'solaris', u'sold', u'solder', u'soldered', u'soldier', u'soldiers', u'sole', u'solely', u'solemnly', u'solicited', u'solid', u'solidly', u'solids', u'solomon', u'solution', u'solutions', u'solve', u'solved', u'solving', u'some', u'somebody', u'someday', u'somehow', u'someone', u'something', u'sometime', u'sometimes', u'somewhat', u'somewhere', u'son', u'song', u'songs', u'sons', u'sony', u'soon', u'sooner', u'soooo', u'sophisticated', u'sophistication', u'sophistry', u'sorry', u'sort', u'sorts', u'sought', u'soul', u'souls', u'sound', u'sound.exe', u'soundblaster', u'sounded', u'sounding', u'sounds', u'soup', u'source', u'sources', u'south', u'southern', u'southwestern', u'soviet', u'sox', u'soyuz', u'sp', u'space', u'spacecraft', u'spaced', u'spaceflight', u'spanking', u'sparc', u'spare', u'spare-tire', u'spared', u'spark', u'spatial', u'speak', u'speaker', u'speakers', u'speaking', u'speaks', u'spec', u'special', u'specialist', u'specialists', u'specialized', u'specially', u'specialty', u'species', u'specific', u'specifically', u'specification', u'specifications', u'specifics', u'specified', u'specifies', u'specify', u'specifying', u'specs', u'specter', u'spectral', u'spectre', u'spectrometer', u'spectrum', u'speculate', u'speculation', u'speculative', u'speech', u'speed', u'speeding', u'speedometer', u'speeds', u'speedstar', u'speedup', u'spell', u'spelling', u'spencer', u'spend', u'spending', u'spent', u'sphere', u'spherical', u'spice', u'spill', u'spinning', u'spinoffs', u'spirit', u'spiritual', u'spiritually', u'spite', u'spleen', u'splines', u'split', u'spoiled', u'spoke', u'spoken', u'spokesman', u'sponsor', u'sponsored', u'sponsoring', u'spontaneous', u'spooks', u'sport', u'sporting', u'sports', u'spot', u'spots', u'spouse', u'spouting', u'spray', u'sprayed', u'spread', u'spreading', u'spring', u'springfield', u'springs', u'sprinkled', u'sprite', u'sprites', u'sprouts', u'spun', u'spy', u'square', u'squares', u'squeeze', u'squeezed', u'squid', u'sram', u'srb', u'ss', u'ssn-21', u'ssrt', u'st', u'st.louis', u'stab', u'stabbed', u'stable', u'stack', u'stacker', u'stadium', u'staff', u'stage', u'stages', u'stairs', u'stake', u'stalin', u'stalk', u'stall', u'stamp', u'stamped', u'stamps', u'stan', u'stand', u'stand-alone', u'standard', u'standards', u'standing', u'standings', u'standpoint', u'stands', u'stanford', u'stanley', u'star', u'starflight', u'stark', u'stars', u'start', u'started', u'starter', u'starters', u'starting', u'starts', u'startup', u'stat', u'state', u'state-of-the-art', u'stated', u'statement', u'statements', u'states', u'static', u'stating', u'station', u'stationed', u'stations', u'statistic', u'statistical', u'statistically', u'statistics', u'stats', u'statue', u'status', u'statute', u'stauber', u'stay', u'stayed', u'staying', u'stays', u'stdio.h', u'stdlib.h', u'steady', u'steal', u'stealing', u'stealth', u'steam', u'steel', u'steen', u'steer', u'steering', u'stefan', u'stein', u'steiner', u'stellar', u'step', u'stephen', u'stepping', u'steps', u'stereo', u'stereotype', u'sterling', u'stern', u'steroid', u'steroids', u'steve', u'steveh', u'steven', u'stewart', u'stick', u'sticker', u'stickers', u'sticking', u'sticks', u'stiff', u'still', u'stimulate', u'stimulus', u'stipends', u'stir', u'stirred', u'stl', u'stock', u'stockholm', u'stockings', u'stockpile', u'stocks', u'stole', u'stolen', u'stomach', u'stone', u'stones', u'stoning', u'stood', u'stop', u'stopped', u'stopping', u'stops', u'storage', u'store', u'stored', u'stores', u'stories', u'storing', u'storm', u'storming', u'story', u'stove', u'stow', u'straight', u'straighten', u'straightforward', u'stranded', u'strange', u'strangely', u'stranger', u'strap', u'straps', u'strategic', u'strategies', u'strategy', u'strawberry', u'stream', u'streams', u'street', u'streets', u'strength', u'strengths', u'stress', u'stretch', u'stretching', u'strict', u'strictly', u'strike', u'strikes', u'striking', u'string', u'stringent', u'strings', u'strip', u'stripe', u'strips', u'strive', u'stroke', u'strong', u'stronger', u'strongest', u'strongly', u'struck', u'structural', u'structure', u'structures', u'struggle', u'struggling', u'sts', u'stuck', u'student', u'students', u'studied', u'studies', u'studio', u'study', u'studying', u'stuff', u'stumbling', u'stupid', u'stupidity', u'sturdy', u'style', u'sub', u'subaru', u'subdirectory', u'subject', u'subjected', u'subjective', u'subjects', u'sublease', u'subliminal', u'submission', u'submit', u'submitted', u'subordinate', u'subpart', u'subroutine', u'subscribe', u'subscription', u'subsequent', u'subset', u'subsidizing', u'substance', u'substances', u'substantial', u'substantially', u'substitute', u'subsystem', u'subtle', u'suburban', u'suburbs', u'succeed', u'succeeded', u'succeeds', u'success', u'successful', u'successfully', u'succession', u'successor', u'such', u'suchlike', u'sucked', u'sucker', u'sucks', u'sudden', u'suddenly', u'sue', u'sued', u'suffer', u'suffered', u'suffering', u'suffers', u'suffice', u'sufficient', u'sufficiently', u'sugar', u'suggest', u'suggested', u'suggesting', u'suggestion', u'suggestions', u'suggests', u'suhonen', u'suicide', u'suicides', u'suit', u'suitable', u'suite', u'suits', u'sulk', u'sum', u'sumgait', u'summarize', u'summary', u'summer', u'sun', u'sunday', u'sunee.uwaterloo.ca', u'sunk', u'sunlight', u'sunni', u'sunnyvale', u'sunos', u'sunroof', u'sunview', u'super', u'superficial', u'superior', u'supermarket', u'superset', u'supersonic', u'superstar', u'superstars', u'superstition', u'supervisor', u'supplement', u'supplied', u'supplies', u'supply', u'support', u'supported', u'supporting', u'supportive', u'supports', u'suppose', u'supposed', u'supposedly', u'suppress', u'suppressed', u'supra', u'supreme', u'suprise', u'sure', u'surely', u'surface', u'surfaces', u'surgery', u'surgical', u'surname', u'surplus', u'surprise', u'surprised', u'surprises', u'surprising', u'surprisingly', u'surrender', u'surround', u'surrounded', u'surrounding', u'surroundings', u'surveillance', u'survey', u'survival', u'survivalist', u'survive', u'survived', u'surviving', u'survivor', u'survivors', u'susan', u'suspect', u'suspected', u'suspend', u'suspended', u'suspension', u'suspicion', u'suspicious', u'suspiciously', u'sustain', u'sustainable', u'sustained', u'sutcliffe', u'suter', u'suzuki', u'svga', u'sw', u'swap', u'swears', u'sweat', u'sweden', u'swedes', u'swedish', u'sweep', u'sweeping', u'sweeps', u'sweet', u'swelling', u'swept', u'swiftly', u'swimming', u'swing', u'swiss', u'switch', u'switched', u'switches', u'switching', u'switzerland', u'swollen', u'swords', u'sx', u'sydney', u'sylvia', u'symantec', u'symbol', u'symbolic', u'symbols', u'symmetric', u'sympathy', u'symptom', u'symptoms', u'sync', u'synchronized', u'synchronous', u'syndrome', u'synonym', u'synonymous', u'syntax', u'synthesis', u'synthetic', u'syquest', u'syria', u'syrian', u'sysadmin', u'sysop', u'system', u'systematically', u'systemic', u'systems', u'szabo', u't', u't.p.g', u't1', u't2', u'ta', u'tab', u'table', u'tables', u'tabs', u'tackle', u'tactical', u'tactics', u'tag', u'tail', u'take', u'taken', u'takeoff', u'takes', u'taking', u'tale', u'talent', u'talk', u'talk.politics.guns', u'talked', u'talking', u'talks', u'tall', u'talon', u'tampa', u'tan', u'tandem', u'tandy', u'tangent', u'tangible', u'tank', u'tanks', u'tap', u'tape', u'tapes', u'tappable', u'tapped', u'tapping', u'targa', u'target', u'targeted', u'targets', u'tartabull', u'task', u'tasks', u'tasmania', u'taste', u'tastes', u'tatars', u'tatoos', u'taught', u'taurus', u'tax', u'taxes', u'taxpayers', u'taylor', u'tb', u'tcp/ip', u'td', u'tdi', u'te', u'tea', u'teach', u'teacher', u'teachers', u'teaches', u'teaching', u'teachings', u'team', u'teams', u'tear', u'tearing', u'tech', u'technical', u'technically', u'technician', u'technique', u'techniques', u'technological', u'technologies', u'technology', u'ted', u'tee', u'teel', u'teeth', u'teh', u'tek', u'tektronix', u'tel', u'telecast', u'telecom', u'telecommunications', u'telemetry', u'telephone', u'telescope', u'television', u'tell', u'telling', u'tells', u'telnet', u'temp', u'temper', u'temperature', u'temperatures', u'tempers', u'tempest', u'temple', u'temporal', u'temporarily', u'temporary', u'temptation', u'ten', u'tenants', u'tend', u'tended', u'tendency', u'tender', u'tends', u'tennessee', u'tens', u'tension', u'tenth', u'ter', u'term', u'terminal', u'terminated', u'terminator', u'terminology', u'terms', u'terrible', u'terribly', u'terrified', u'territories', u'territory', u'terror', u'terrorism', u'terrorist', u'terrorists', u'terrritory', u'terry', u'tesla', u'test', u'testament', u'tested', u'testimony', u'testing', u'tests', u'tettleton', u'tex', u'texas', u'text', u'textbook', u'texts', u'texture', u'tga', u'th', u'than', u'thank', u'thankful', u'thankfully', u'thanks', u'thankyou', u'thanx', u\"that's\", u'thats', u'theater', u'theatre', u'theft', u'their', u'theirs', u'theists', u'them', u'theme', u'themself', u'themselves', u'then', u'theodore', u'theologians', u'theological', u'theology', u'theoretical', u'theoretically', u'theories', u'theorist', u'theory', u'ther', u'therapies', u'therapy', u'there', u\"there's\", u'thereby', u'therefore', u'thereof', u'thermal', u'thermometer', u'thermostat', u'thesaurus', u'these', u'thesis', u\"they're\", u'thicker', u'thicknet', u'thier', u'thigh', u'thin', u'thing', u'things', u'think', u'thinking', u'thinks', u'thinner', u'third', u'third-party', u'thirty', u'tho', u'thomas', u'thompson', u'thon', u'thor', u'thor.isc-br.com', u'thorne', u'thorough', u'thoroughly', u'those', u'thou', u'though', u'thought', u'thoughtful', u'thoughts', u'thousand', u'thousands', u'thread', u'threaded', u'threads', u'threat', u'threaten', u'threatened', u'threatening', u'threats', u'three', u'three-dimensional', u'threshold', u'threw', u'thrill', u'thrilled', u'throat', u'throttle', u'through', u'throughout', u'throughput', u'throw', u'throwing', u'thrown', u'throws', u'thru', u'thrust', u'thruster', u'thrusters', u'thugs', u'thumb', u'thunder', u'thundering', u'thunk', u'thursday', u'thus', u'thx', u'ti', u'tia', u'ticket', u'tickets', u'tickle', u'tie', u'tied', u'ties', u'tiff', u'tiger', u'tight', u'tighter', u'tightly', u'tightness', u'tikkanen', u'till', u'tim', u'time', u'timely', u'timeout', u'timer', u'times', u'timing', u'timmons', u'timo', u'tiny', u'tio2', u'tip', u'tipped', u'tips', u'tire', u'tire-medallion', u'tired', u'tires', u'titan', u'title', u'titled', u'titles', u'tm', u'tn', u'tnt', u'to/from', u'toaster', u'tobacco', u'tocchet', u'today', u\"today's\", u'todd', u'toe', u'together', u'toilet', u'token', u'told', u'tolerance', u'tolerant', u'tolerate', u'tolerated', u'toll', u'toll-free', u'tom', u'tomb', u'tommorrow', u'tommy', u'tomorrow', u'ton', u'tone', u'tongue', u'tonight', u'tons', u'tony', u'too', u'took', u'tool', u'toolbox', u'toolkit', u'toolkits', u'tools', u'top', u'topic', u'topics', u'toplevel', u'topped', u'tops', u'tor', u'torah', u'tore', u'torment', u'torn', u'toronto', u'torque', u'torture', u'tortured', u'toshiba', u'toss', u'tossing', u'total', u'totalitarian', u'totally', u'totals', u'touch', u'touched', u'touching', u'tough', u'touring', u'tours', u'toward', u'towards', u'tower', u'towers', u'towing', u'town', u'towns', u'toxic', u'toyota', u'toys', u'tp', u'tpa', u'trace', u'traces', u'tracing', u'track', u'tracking', u'tracks', u'tract', u'tractor', u'trade', u'traded', u'trademark', u'trading', u'tradition', u'traditional', u'traditionally', u'traditions', u'traffic', u'tragedy', u'tragic', u'trail', u'trails', u'train', u'trained', u'training', u'trajectories', u'trajectory', u'tranny', u'tranquilizer', u'trans', u'transaction', u'transactions', u'transciever', u'transfer', u'transferring', u'transfers', u'transform', u'transformation', u'transformations', u'transformer', u'transistor', u'transit', u'transitions', u'translate', u'translated', u'translation', u'translations', u'translators', u'transmission', u'transmissions', u'transmit', u'transmitted', u'transmitter', u'transmitting', u'transparent', u'transplant', u'transport', u'transportation', u'transported', u'transporter', u'trap', u'trapdoors', u'trapped', u'trappings', u'traps', u'trash', u'trashing', u'trauma', u'travel', u'travelers', u'tray', u'tread', u'treason', u'treasury', u'treat', u'treated', u'treaties', u'treating', u'treatment', u'treatments', u'treats', u'treaty', u'treble', u'tree', u'trek', u'tremendous', u'trenches', u'trend', u'trendy', u'tri-university', u'trial', u'trials', u'triangle', u'triangulated', u'tribal', u'tribe', u'tribute', u'trick', u'trickier', u'tricky', u'trident', u'tried', u'tries', u'trig', u'trigger', u'trillion', u'trim', u'trimmed', u'trinitron', u'trip', u'tripe', u'triple', u'triple-des', u'tripped', u'trips', u'triumf', u'trivial', u'troop', u'troops', u'trouble', u'troubles', u'trout', u'truck', u'trucks', u'true', u'truetype', u'truly', u'trump', u'trumpet', u'trunk', u'trust', u'trusted', u'trusting', u'truth', u'truths', u'try', u'trying', u'tseng', u'tsiel', u'tsn', u'tsr', u'tt', u'tte', u'ttl', u'tty', u'tuba', u'tube', u'tubes', u'tue', u'tuesday', u'tufts', u'tuition', u'tumor', u'tumors', u'tune', u'tune-up', u'tuned', u'turbine', u'turbo', u'turk', u'turkey', u'turkish', u'turkiye', u'turks', u'turn', u'turnaround', u'turned', u'turning', u'turns', u'turtles', u'tutored', u'tutorial', u'tv', u'tvtwm', u'twang', u'twelve', u'twenty', u'twice', u'twist', u'twisted', u'twm', u'two', u'two-goal', u'two-way', u'tx', u'ty', u'tying', u'type', u'typed', u'types', u'typical', u'typically', u'typing', u'tyranny', u'tyrant', u'u', u'u.k', u'u.s', u'u1', u'u2', u'ubc', u'ubvms.cc.buffalo.edu', u'ugly', u'uicvm.uic.edu', u'uk', u'uk.ac.liv.csc', u'ultb.isc.rit.edu', u'ultimate', u'ultimately', u'ultra', u'ultrastor', u'ultraviolet', u'ultrix', u'umf', u'un', u'unable', u'unambiguously', u'unapproved', u'unarmed', u'unavailable', u'unbelievable', u'uncertain', u'unchanged', u'unclassified', u'uncle', u'unclear', u'uncomfortable', u'uncompress', u'unconditional', u'unconnected', u'undeniable', u'under', u'under-report', u'underdog', u'underdogs', u'underestimate', u'undergo', u'undergoes', u'undergone', u'underground', u'underlying', u'understand', u'understandable', u'understanding', u'understands', u'understatement', u'understood', u'undertook', u'undesirable', u'undoubtedly', u'unemployment', u'unexpected', u'unexpectedly', u'unfair', u'unfortunate', u'unfortunately', u'unhappy', u'unheard', u'uni', u'unidentified', u'uniform', u'uniforms', u'union', u'unique', u'unisys', u'unit', u'united', u'units', u'univ', u'universal', u'universe', u'universities', u'university', u'unix', u'unixware', u'unjust', u'unknowingly', u'unknown', u'unlawful', u'unless', u'unlike', u'unlikely', u'unlimited', u'unload', u'unloaded', u'unlock', u'unmanned', u'unmoderated', u'unnecessary', u'unpleasant', u'unplug', u'unreasonable', u'unregistered', u'unrepresentative', u'unscrambled', u'unscrupulous', u'unseen', u'unsigned', u'unstable', u'untenable', u'unthinkable', u'until', u'unto', u'untrustworthy', u'unusual', u'unwanted', u'unwilling', u'unworthy', u'up', u'up-to-date', u'upcoming', u'update', u'updated', u'updates', u'upgrade', u'upgraded', u'upgrades', u'upgrading', u'upheld', u'upload', u'upon', u'upper', u'upright', u'ups', u'upset', u'upstairs', u'upwards', u'uranus', u'urban', u'urge', u'urged', u'urging', u'us', u'usa', u'usable', u'usage', u'use', u'used', u'useful', u'usefulness', u'useless', u'usenet', u'user', u'username', u'users', u'uses', u'using', u'usmail', u'ussr', u'usual', u'usually', u'ut', u'utah', u'utilities', u'utility', u'utilize', u'utilizes', u'utilizing', u'utils', u'utopian', u'utter', u'utterly', u'uu', u'uucp', u'uunet', u'uunet.uu.net', u'uv', u'v', u'v2', u'v32bis', u'v4', u'v6', u'v6t', u'va', u'vaccine', u'vacuum', u'vague', u'vain', u'vainly', u'valentine', u'valid', u'validate', u'validity', u'valuable', u'value', u'values', u'valve', u'valves', u'van', u'vancouver', u'vanessa', u'vaporized', u'variable', u'variables', u'variant', u'variation', u'variations', u'variaty', u'varies', u'variety', u'various', u'variously', u'vary', u'varying', u'vassilios', u'vast', u'vastly', u'vaughn', u'vaunted', u'vax', u'vc', u'vcr', u've', u'vector', u'vegetables', u'vehicle', u'vehicles', u'velcro', u'velocity', u'vendor', u'vendors', u'venerable', u'venom', u'vent', u'ventilation', u'venting', u'venture', u'venus', u'ver', u'vera', u'veracity', u'verbally', u'verdict', u'verification', u'verified', u'verify', u'vernon', u'versailles', u'verse', u'verses', u'version', u'versions', u'versus', u'vertical', u'vertigo', u'very', u'vesa', u'veteran', u'veto', u'vga', u'vhs', u'vi', u'via', u'viable', u'vibration', u'vice', u'vice-versa', u'vice.ico.tek.com', u'vices', u'vicious', u'victim', u'victimization', u'victimless', u'victims', u'victoria', u'victory', u'video', u'vietnam', u'view', u'viewed', u'viewer', u'viewing', u'viewpoint', u'views', u'vii', u'viking', u'village', u'villagers', u'villages', u'vinyl', u'viola', u'violate', u'violated', u'violates', u'violation', u'violations', u'violence', u'violent', u'virgin', u'virginia', u'virginia.edu', u'virile', u'virtual', u'virtually', u'virtue', u'virus', u'viruses', u'viscosity', u'visible', u'vision', u'vision-3d', u'visit', u'visited', u'visiting', u'visitors', u'visits', u'visual', u'visualization', u'vit', u'vital', u'vizquel', u'vladimir', u'vlb', u'vm', u'vme', u'vms', u'vms.huji.ac.il', u'vnet.ibm.com', u'vocal', u'vogue', u'voice', u'voices', u'void', u'voids', u'vol', u'volt', u'voltage', u'voltmeter', u'volts', u'volume', u'volumes', u'voluntary', u'volunteer', u'volunteers', u'vomit', u'von', u'vote', u'voted', u'voters', u'votes', u'voting', u'vowed', u'voyager', u'vp', u'vr', u'vram', u'vs', u'vtssi.vt.edu', u'vulnerable', u'vw', u'w', u'w-net', u'w/100', u'w/o', u'w1', u'w4wg', u'w5', u'w7', u'wa', u'waaaay', u'wacko', u'wackos', u'waco', u'wages', u'wagner', u'wagon', u'wait', u'waited', u'waiting', u'wake', u'wakefield', u'wales', u'walk', u'walked', u'walker', u'walking', u'walks', u'wall', u'wallet', u'wallets', u'walls', u'walz', u'wan', u'want', u'wanted', u'wanting', u'wants', u'war', u'ward', u'wardrobe', u'warfare', u'warm', u'warming', u'warmly', u'warn', u'warning', u'warnings', u'warns', u'warped', u'warping', u'warrant', u'warranted', u'warrantee', u'warrants', u'warranty', u'warren', u'warriors', u'wars', u'was', u'wash', u'washed', u'washers', u'washing', u'washington', u\"wasn't\", u'wasp', u'waste', u'wasted', u'wasting', u'watch', u'watched', u'watching', u'water', u'waterloo', u'waterproof', u'waters', u'watson', u'watt', u'watts', u'wave', u'waved', u'wavelength', u'waves', u'wax', u'way', u'wayne', u'ways', u'wb', u'wb3ffv.ampr.org', u'wc', u'wd', u'we', u\"we're\", u'weak', u'weaken', u'weakness', u'weaknesses', u'wealth', u'weapon', u'weaponry', u'weapons', u'wear', u'wearing', u'wears', u'weather', u'weaver', u'web', u'webster', u'wednesday', u'wee', u'week', u'weekend', u'weekends', u'weekly', u'weeks', u'weigh', u'weight', u'weights', u'weird', u'weiss', u'welcome', u'welcomed', u'welfare', u'well', u'well-defined', u'well.sf.ca.us', u'wells', u'went', u'were', u'were/are', u'wesbrook', u'wessels', u'west', u'western', u'westerners', u'wet', u'wether', u'wh', u'what', u'whatever', u'whats', u'whatsoever', u'wheel', u'wheelie', u'wheels', u'when', u'whenever', u'where', u'whereas', u'whereby', u'wherever', u'whether', u'whew', u'which', u'whichever', u'while', u'whine', u'white', u'whites', u'whitewash', u'whitewater', u'who', u'whoever', u'whole', u'wholesale', u'wholly', u'whom', u'whoops', u'whose', u'why', u'wi', u'wibbled', u'wicked', u'wide', u'widely', u'wider', u'widespread', u'widest', u'widget', u'widgets', u'width', u'wife', u'wil', u'wild', u'wilkerson', u'will', u'william', u'williams', u'willing', u'willingly', u'willingness', u'willis', u'wilson', u'win', u'win3.1', u'win31', u'winchester', u'wind', u'window', u'windows', u'winds', u'windshield', u'wine', u'winfield', u'wing', u'wings', u'winner', u'winners', u'winning', u'winnipeg', u'winqwk', u'wins', u'winter', u'winters', u'wipe', u'wiped', u'wire', u'wired', u'wireframe', u'wires', u'wiretap', u'wiretapping', u'wiretaps', u'wiring', u'wisconsin', u'wisdom', u'wise', u'wish', u'wishes', u'wishful', u'with-gun', u'witha', u'withdraw', u'withdrawal', u'within', u'without', u'witness', u'witnesses', u'witnessing', u'wits', u'wives', u'wk', u'wm', u'wn', u'wo', u'woken', u'wolf', u'wolfe', u'wolves', u'woman', u'womb', u'women', u'won', u\"won't\", u'wonder', u'wondered', u'wonderful', u'wondering', u'wong', u'wood', u'wooden', u'word', u'worden', u'wordperfect', u'words', u'wore', u'work', u'workable', u'worked', u'worker', u'workers', u'working', u'workings', u'works', u'workshop', u'workshops', u'workspace', u'workspaces', u'workstation', u'workstations', u'world', u'world-wide', u'world.std.com', u'worlds', u'worldwide', u'worn', u'worried', u'worry', u'worse', u'worship', u'worst', u'worth', u'worthless', u'worthwhile', u'worthy', u'would', u\"wouldn't\", u'wound', u'wounded', u'wounds', u'wow', u'wp', u'wq', u'wr', u'wrap', u'wrapped', u'wrath', u'wrecked', u'wrecking', u'wrench', u'wrigley', u'write', u'writer', u'writers', u'writes', u'writing', u'writings', u'written', u'wrong', u'wrongly', u'wrote', u'wu', u'wuarchive', u'wuarchive.wustl.edu', u'ww', u'x', u'x-1', u'x-15', u'x-based', u'x-mailer', u'x-ray', u'x-rays', u'x-windows', u'x.400', u'x/motif', u'x1', u'x11', u'x11r4', u'x11r5', u'x3', u'x8', u'x86', u'x^2', u'xavier', u'xcreategc', u'xdefaults', u'xdm', u'xerox', u'xfree86', u'xhost', u'xian', u'xl', u'xlib', u'xm', u'xmas', u'xmodmap', u'xor', u'xputimage', u'xr', u'xstorecolor', u'xt', u'xtdisplay', u'xterm', u'xterminal', u'xtian', u'xtianity', u'xtwindow', u'xv', u'xview', u'xview3', u'xw', u'xwindows', u'xx', u'xxx', u'xz550', u'y', u\"y'all\", u\"y'know\", u'y.h', u'y1', u'y2', u'y3', u'ya', u'yale', u'yamada', u'yamaha', u'yankee', u'yard', u'yards', u'yassin', u'yawney', u'ye', u'yeager', u'yeah', u'year', u'yearly', u'years', u'yeast', u'yelena', u'yelling', u'yellow', u'yeltsin', u'yep', u'yer', u'yerevan', u'yes', u'yesterday', u'yet', u'yield', u'yo', u'yogurt', u'yom', u'york', u'yoshiro', u\"you'd\", u\"you're\", u'young', u'younger', u'yount', u'your', u'yours', u'yourself', u'youth', u'yr', u'yrs', u'yscvax.ysc.go.jp', u'ysebaert', u'yup', u'yuri', u'yushkevich', u'yzerman', u'z', u'zamuner', u'zbib', u'zealand', u'zenith', u'zeos', u'zero', u'zeus', u'zhamnov', u'zhitnik', u'zionism', u'zionists', u'zombo', u'zone', u'zoom', u'zupcic', u'zv', u'zx-11', u'zyxel']\n"
     ]
    }
   ],
   "source": [
    "bow_transformer = CountVectorizer(analyzer=split_into_tokens, min_df=0.001, max_df=0.3)\n",
    "bow_transformer.fit(data_samples)\n",
    "data_bow = bow_transformer.transform(data_samples)\n",
    "\n",
    "print(len(bow_transformer.vocabulary_))\n",
    "#print(bow_transformer.vocabulary_)\n",
    "#print(bow_transformer.get_feature_names())\n",
    "#print(type(data_bow))"
   ]
  },
  {
   "cell_type": "markdown",
   "metadata": {},
   "source": [
    "## Training a non-negative matrix factorization (NMF) model\n",
    "\n",
    "The NMF can be trained by"
   ]
  },
  {
   "cell_type": "code",
   "execution_count": 12,
   "metadata": {},
   "outputs": [
    {
     "data": {
      "text/plain": [
       "NMF(alpha=0.1, beta=1, eta=0.1, init=None, l1_ratio=0.5, max_iter=200,\n",
       "  n_components=20, nls_max_iter=2000, random_state=1, shuffle=False,\n",
       "  solver='cd', sparseness=None, tol=0.0001, verbose=0)"
      ]
     },
     "execution_count": 12,
     "metadata": {},
     "output_type": "execute_result"
    }
   ],
   "source": [
    "nmf = NMF(n_components=n_topics, random_state=1, alpha=.1, l1_ratio=.5).fit(data_bow)\n",
    "nmf"
   ]
  },
  {
   "cell_type": "markdown",
   "metadata": {},
   "source": [
    "Now we can look at the topics. We first define a function that prints the top 20 words of all topics"
   ]
  },
  {
   "cell_type": "code",
   "execution_count": 14,
   "metadata": {
    "collapsed": true
   },
   "outputs": [],
   "source": [
    "def print_top_words(model, feature_names, n_top_words):\n",
    "    for topic_idx, topic in enumerate(model.components_):\n",
    "        print(\"Topic #%d:\" % topic_idx)\n",
    "        print(\" \".join([feature_names[i]\n",
    "                        for i in topic.argsort()[:-n_top_words - 1:-1]]))\n",
    "    print()"
   ]
  },
  {
   "cell_type": "markdown",
   "metadata": {},
   "source": [
    "An then use it for our topic model..."
   ]
  },
  {
   "cell_type": "code",
   "execution_count": 15,
   "metadata": {},
   "outputs": [
    {
     "name": "stdout",
     "output_type": "stream",
     "text": [
      "\n",
      "Topics in NMF model:\n",
      "Topic #0:\n",
      "m p t x s l h 8 b r z w f 0 9 n c u o v\n",
      "Topic #1:\n",
      "was were there we me he she what did my people all had them out one our said her who\n",
      "Topic #2:\n",
      "1 2 3 each 4 6 copies vs 5 w copy print annual new cover issue left 10 8 rider\n",
      "Topic #3:\n",
      "disk drives hard bios drive rom controller 2 feature card system supports floppy will up 16 interface systems must cylinders\n",
      "Topic #4:\n",
      "graphics send mail ray 3d also objects image by files there package stuff file etc format message images many available\n",
      "Topic #5:\n",
      "your my me what so does one would all about which just no 'm any only than other get how\n",
      "Topic #6:\n",
      "was first probe mars lunar surface probes moon space orbit mission venus missions mariner by earth its were into pioneer\n",
      "Topic #7:\n",
      "any section firearm weapon military license shall by dangerous person division application which means device use following under issued other\n",
      "Topic #8:\n",
      "hiv aids health will by care said children medical new patients disease other 1993 information no research were national april\n",
      "Topic #9:\n",
      "version machines contact type comments ftp anonymous available general mac commercial phone lisp ibm purpose by pc theory pc-dos number\n",
      "Topic #10:\n",
      "he god his would was who will had him what people about good no does by jesus them has their\n",
      "Topic #11:\n",
      "xfree86 server what support file will should under these by binaries which information vga supported get about more svga other\n",
      "Topic #12:\n",
      "car q oil brake there may some tires will by your braking when abs more system cars has much these\n",
      "Topic #13:\n",
      "1 0 2 3 period pp 4 power play pts g 7 vancouver 6 5 philadelphia calgary 8 courtnall los\n",
      "Topic #14:\n",
      "by were was their been greek all which turkish there who greeks had cyprus has during one children people its\n",
      "Topic #15:\n",
      "flyers he was his got up play recchi points game lindros all season goal team leafs power puck get period\n",
      "Topic #16:\n",
      "was my we he were had out our when armenians one parents there people baku karabagh who home up later\n",
      "Topic #17:\n",
      "will by santa barbara university program conference rates no available 1993 call all campus crypto 805 chair research regular registration\n",
      "Topic #18:\n",
      "we people our would who think what more some will about jobs president other there so all their now government\n",
      "Topic #19:\n",
      "shots 3 7 4 period 10 saves 11 pp 6 van det 8 5 min tor 0 26 chi bos\n",
      "\n"
     ]
    }
   ],
   "source": [
    "print(\"\\nTopics in NMF model:\")\n",
    "feature_names = bow_transformer.get_feature_names()\n",
    "print_top_words(nmf, feature_names, n_top_words)"
   ]
  },
  {
   "cell_type": "markdown",
   "metadata": {
    "collapsed": true
   },
   "source": [
    "As we can see, the quality of our topics is quite poor. We have to do some more preprocessing. "
   ]
  },
  {
   "cell_type": "markdown",
   "metadata": {},
   "source": [
    "## Excercise 2: Stemming and lower case words\n",
    "\n",
    "Repeat the previous experiment for training an NMF, but this time, use stemming as preprocessing step. Also, convert all words to lower case. Did your vocabulary size decrease? Print the first element of data_samples in the Bag-of-word representation. Can you interpret this vector?"
   ]
  },
  {
   "cell_type": "code",
   "execution_count": 16,
   "metadata": {
    "collapsed": true
   },
   "outputs": [],
   "source": [
    "def split_into_lemmas(message):\n",
    "    # convert to lower case\n",
    "    message = message.lower()\n",
    "    words = TextBlob(message).words\n",
    "    # for each word, take its \"base form\" = lemma \n",
    "    words = [word.lemma for word in words]\n",
    "    return words\n"
   ]
  },
  {
   "cell_type": "code",
   "execution_count": 17,
   "metadata": {},
   "outputs": [
    {
     "name": "stdout",
     "output_type": "stream",
     "text": [
      "11141\n"
     ]
    }
   ],
   "source": [
    "bow_transformer = CountVectorizer(analyzer=split_into_lemmas, min_df=0.001, max_df=0.3)\n",
    "bow_transformer.fit(data_samples)\n",
    "data_bow = bow_transformer.transform(data_samples)\n",
    "\n",
    "print(len(bow_transformer.vocabulary_))"
   ]
  },
  {
   "cell_type": "code",
   "execution_count": 18,
   "metadata": {},
   "outputs": [
    {
     "name": "stdout",
     "output_type": "stream",
     "text": [
      "\n",
      "Topics in NMF model:\n",
      "Topic #0:\n",
      "m p t x s l h r 8 b z w 0 f 9 n c q v u\n",
      "Topic #1:\n",
      "wa were there we me he what she did my people all had them one out our know said her\n",
      "Topic #2:\n",
      "drive disk system hard bios controller rom support feature 2 card floppy will up 16 interface head must cylinder speed\n",
      "Topic #3:\n",
      "1 2 3 copy each 4 6 v 5 comic w cover print annual new issue left 10 8 price\n",
      "Topic #4:\n",
      "file image graphic send mail ray object 3d format also package by system server there stuff message etc site many\n",
      "Topic #5:\n",
      "car brake tire fluid oil q system may there some by will your braking ab when more driver manufacturer ha\n",
      "Topic #6:\n",
      "probe wa mission first mar lunar surface moon space orbit venus mariner by planet earth were into pioneer image soviet\n",
      "Topic #7:\n",
      "any section firearm weapon military license shall by person dangerous division application device which mean explosive state use following under\n",
      "Topic #8:\n",
      "hiv aid health will by disease child vaccine trial care said medical patient new study number other service 1993 information\n",
      "Topic #9:\n",
      "version machine contact type comment ftp anonymous available system general number program mac phone commercial lisp ibm by purpose pc\n",
      "Topic #10:\n",
      "god he his would who wa will what him had people say about good doe no by jesus ha them\n",
      "Topic #11:\n",
      "flyer he wa game his point got play goal up recchi team lindros season leaf all year power record puck\n",
      "Topic #12:\n",
      "xfree86 server file support what binary will should under these mode by which information vga supported get about source more\n",
      "Topic #13:\n",
      "1 0 2 3 pp period 4 power play pt scorer g 7 vancouver 6 5 philadelphia calgary 8 courtnall\n",
      "Topic #14:\n",
      "by were wa greek their been all turkish which there cyprus cypriot had child we during who people ha one\n",
      "Topic #15:\n",
      "we people our job who would think more president some about what will there other year their all now thing\n",
      "Topic #16:\n",
      "wa my we he had were out armenian our when parent one baku karabagh people who later up home there\n",
      "Topic #17:\n",
      "will by rate santa barbara program university conference no available hotel 1993 call all campus crypto paper 805 abstract chair\n",
      "Topic #18:\n",
      "your my me so what one would doe key which all about get just other only no any than ha\n",
      "Topic #19:\n",
      "shot 3 7 4 period 10 11 save pp 6 van det 8 5 min tor 0 26 chi bos\n",
      "\n"
     ]
    }
   ],
   "source": [
    "nmf = NMF(n_components=n_topics, random_state=1, alpha=.1, l1_ratio=.5).fit(data_bow)\n",
    "nmf\n",
    "\n",
    "print(\"\\nTopics in NMF model:\")\n",
    "feature_names = bow_transformer.get_feature_names()\n",
    "print_top_words(nmf, feature_names, n_top_words)"
   ]
  },
  {
   "cell_type": "markdown",
   "metadata": {},
   "source": [
    "## Excercise 3: Pruning numbers and short words\n",
    "We still low quality topics, with numbers or only single letters. We want to prune this vocabulary. In your \n",
    "preprocessing step, remove all words that contain digits or that have less then 3 letters from the vocabulary.\n",
    "\n",
    "Hint:\n",
    "- you can query a string whether it contain a digit with .isalpha(). It returns true if the string does not contain a digit.\n",
    "- the following pattern might help you: \n",
    "        words = [word for word in words if *put your code here *]\n",
    "        \n",
    "How large is your vocabulary? Again train the topic model and print the topics. \n",
    "    "
   ]
  },
  {
   "cell_type": "code",
   "execution_count": 19,
   "metadata": {
    "collapsed": true
   },
   "outputs": [],
   "source": [
    "def split_into_lemmas(message):\n",
    "    # convert to lower case\n",
    "    message = message.lower()\n",
    "    words = TextBlob(message).words\n",
    "    # for each word, take its \"base form\" = lemma \n",
    "    words = [word.lemma for word in words]\n",
    "    words = [word for word in words if  word.isalpha() and len(word) >= 3]\n",
    "    return words\n"
   ]
  },
  {
   "cell_type": "code",
   "execution_count": 20,
   "metadata": {},
   "outputs": [
    {
     "name": "stdout",
     "output_type": "stream",
     "text": [
      "9438\n"
     ]
    }
   ],
   "source": [
    "bow_transformer = CountVectorizer(analyzer=split_into_lemmas, min_df=0.001, max_df=0.3)\n",
    "bow_transformer.fit(data_samples)\n",
    "data_bow = bow_transformer.transform(data_samples)\n",
    "\n",
    "print(len(bow_transformer.vocabulary_))"
   ]
  },
  {
   "cell_type": "code",
   "execution_count": 21,
   "metadata": {},
   "outputs": [
    {
     "name": "stdout",
     "output_type": "stream",
     "text": [
      "\n",
      "Topics in NMF model:\n",
      "Topic #0:\n",
      "were there what she did all people had them one out our know said her who something just mamma say\n",
      "Topic #1:\n",
      "drive disk system hard bios controller rom support feature card floppy will interface head must cylinder speed formatting board your\n",
      "Topic #2:\n",
      "image file graphic send mail ray object format also package system server there stuff etc message site many amiga available\n",
      "Topic #3:\n",
      "any section firearm weapon military license shall person dangerous division application device which mean explosive state use following under issued\n",
      "Topic #4:\n",
      "probe mission first mar lunar surface moon space orbit venus mariner planet earth were into pioneer image soviet planetary through\n",
      "Topic #5:\n",
      "were there people out had armenian them our when one crowd who went baku home karabagh his parent then said\n",
      "Topic #6:\n",
      "hiv aid health will disease child vaccine trial said care medical patient new study number other service information research were\n",
      "Topic #7:\n",
      "version machine contact type comment ftp anonymous available system general program number mac commercial phone lisp ibm purpose theory written\n",
      "Topic #8:\n",
      "car brake tire fluid oil system may there some your will braking when more driver manufacturer wheel these much than\n",
      "Topic #9:\n",
      "flyer his game point got play goal recchi lindros team leaf all season puck him power had record soderstrom eric\n",
      "Topic #10:\n",
      "server file support what binary will should under these mode which vga information get supported about source more new svga\n",
      "Topic #11:\n",
      "pope church what all there catholic command say doe his one law who thing obedience their come right point way\n",
      "Topic #12:\n",
      "were greek their turkish been which all cyprus cypriot child during had who persian member bathroom turk greece three her\n",
      "Topic #13:\n",
      "will rate barbara santa program university conference hotel available call all campus crypto abstract registration chair paper research regular room\n",
      "Topic #14:\n",
      "key law chip could clipper encryption use would will enforcement block message one which encrypted number system ripem government other\n",
      "Topic #15:\n",
      "god would his had will good him what who people been doe jesus just might when then make about them\n",
      "Topic #16:\n",
      "your what doe bible all about only own which jesus life than point one say who issue just any other\n",
      "Topic #17:\n",
      "people job who our president about think their will senator what them want other officer because package american some been\n",
      "Topic #18:\n",
      "period shot play power save goal courtnall scorer second ronning dineen third vancouver calgary blue philadelphia detroit angeles los tampa\n",
      "Topic #19:\n",
      "would year one more than like about just think some get much what time how very government all when will\n",
      "\n"
     ]
    }
   ],
   "source": [
    "nmf = NMF(n_components=n_topics, random_state=1, alpha=.1, l1_ratio=.5).fit(data_bow)\n",
    "nmf\n",
    "\n",
    "print(\"\\nTopics in NMF model:\")\n",
    "feature_names = bow_transformer.get_feature_names()\n",
    "print_top_words(nmf, feature_names, n_top_words)"
   ]
  },
  {
   "cell_type": "markdown",
   "metadata": {},
   "source": [
    "## Excercise 4: TFIDF representation\n",
    "Repeat the training with the TFIDF representation instead of the Bag-of-words representation. Can you see a difference in the topics?"
   ]
  },
  {
   "cell_type": "code",
   "execution_count": 22,
   "metadata": {},
   "outputs": [
    {
     "name": "stdout",
     "output_type": "stream",
     "text": [
      "(2000, 9438)\n"
     ]
    }
   ],
   "source": [
    "tfidf_transformer = TfidfVectorizer(analyzer=split_into_lemmas, min_df=0.001, max_df=0.3)\n",
    "tfidf_transformer.fit(data_samples)\n",
    "data_tfidf = tfidf_transformer.transform(data_samples)\n",
    "\n",
    "print(data_tfidf.shape)"
   ]
  },
  {
   "cell_type": "code",
   "execution_count": 23,
   "metadata": {},
   "outputs": [
    {
     "name": "stdout",
     "output_type": "stream",
     "text": [
      "\n",
      "Topics in NMF model:\n",
      "Topic #0:\n",
      "what all will about one people just who more some think their them like were out when get which time\n",
      "Topic #1:\n",
      "window program application using running font use manager microsoft mode workspace code problem run help memory compiler screen looking software\n",
      "Topic #2:\n",
      "god christian bible jesus his faith christ doe heaven believe him religion belief will son who sin say life lord\n",
      "Topic #3:\n",
      "key chip clipper encryption session government phone secret bit rsa use message enforcement communication secure encrypted public deposit scheme algorithm\n",
      "Topic #4:\n",
      "thanks please anyone any know doe info advance email interested anybody mail reply information looking help send appreciated hello could\n",
      "Topic #5:\n",
      "drive floppy disk hard controller problem cable mac ide scsi meg pin upgrade software external access kit digital cartridge boot\n",
      "Topic #6:\n",
      "geb chastity skepticism shameful intellect bank gordon surrender soon too blood fit nerve drop evangelist pressure pituitary disease compartment diet\n",
      "Topic #7:\n",
      "game team play baseball player season espn win fan wing leaf boy year hockey goal league flyer showing nhl heard\n",
      "Topic #8:\n",
      "car insurance mile dealer tire new brake buying model interior wheel price stereo engine chevy horn condition alarm oil exterior\n",
      "Topic #9:\n",
      "package image format standard domain interest general processing function clipping public zoom summarize imaging implement implemented net acceptable medical context\n",
      "Topic #10:\n",
      "file bmp format swap some ftp drv help exe read problem directory site copy available midi program postscript gif library\n",
      "Topic #11:\n",
      "she her staying mary mother maria propoganda sin consider stage grand child where woman design bet yeah seen care happened\n",
      "Topic #12:\n",
      "card slot vlb cache graphic controller bus modem ethernet video fpu memory design port ram accelerator vesa need fax scsi\n",
      "Topic #13:\n",
      "driver video trident info card soundblaster work ftp adaptec diamond find disc stealth purchased latest which mode tell version fine\n",
      "Topic #14:\n",
      "your why own post resent nothing enjoy life sprout forget health also stupid ask send helmet religion may try leave\n",
      "Topic #15:\n",
      "there any out map anybody available hello library bible mode andreas plenty looking also projection fat faster fastest fast fashion\n",
      "Topic #16:\n",
      "would like appreciated also might appreciate wrong fault source say exe sure however nsa more opinion tell greatly then telephone\n",
      "Topic #17:\n",
      "system objective unix our problem disk motherboard software linux claim cash beep goal royal error computer revealed only motherboards vlb\n",
      "Topic #18:\n",
      "color monitor video display image vram problem screen true using develop brighter simms mag bright vga centris rgb shadow adaptor\n",
      "Topic #19:\n",
      "right thanks abortion law people case bike animal turn riding lane bill good government mph left other unit rom tom\n",
      "\n"
     ]
    }
   ],
   "source": [
    "nmf = NMF(n_components=n_topics, random_state=1, alpha=.1, l1_ratio=.5).fit(data_tfidf)\n",
    "nmf\n",
    "\n",
    "print(\"\\nTopics in NMF model:\")\n",
    "feature_names = tfidf_transformer.get_feature_names()\n",
    "print_top_words(nmf, feature_names, n_top_words)"
   ]
  },
  {
   "cell_type": "markdown",
   "metadata": {},
   "source": [
    "## Excercise 5: Removing stop words\n",
    "Our dictionary still contains many uninformative words. Download the stopload corpora from nltk. Use the english stop-words. In your data-preprocssing step, delete all words that are contained in the stop word. Hints:\n",
    "- download the corpora: "
   ]
  },
  {
   "cell_type": "code",
   "execution_count": 24,
   "metadata": {},
   "outputs": [
    {
     "name": "stdout",
     "output_type": "stream",
     "text": [
      "[nltk_data] Downloading package stopwords to\n",
      "[nltk_data]     C:\\Users\\Mingjun\\AppData\\Roaming\\nltk_data...\n",
      "[nltk_data]   Unzipping corpora\\stopwords.zip.\n"
     ]
    },
    {
     "data": {
      "text/plain": [
       "True"
      ]
     },
     "execution_count": 24,
     "metadata": {},
     "output_type": "execute_result"
    }
   ],
   "source": [
    "import nltk\n",
    "nltk.download('stopwords') "
   ]
  },
  {
   "cell_type": "markdown",
   "metadata": {},
   "source": [
    "- get the stopwords:\n",
    "    "
   ]
  },
  {
   "cell_type": "code",
   "execution_count": 25,
   "metadata": {
    "collapsed": true
   },
   "outputs": [],
   "source": [
    "from nltk.corpus import stopwords\n",
    "stop_words = set(stopwords.words('english'))"
   ]
  },
  {
   "cell_type": "markdown",
   "metadata": {},
   "source": [
    "- Again use the function split_into_lemma for removing the stopwords. Do not use the build in function of the TFIDF vectorizer, as it does not work\n",
    "- You can check whether a word is contained in the list of stopwords with"
   ]
  },
  {
   "cell_type": "code",
   "execution_count": 26,
   "metadata": {},
   "outputs": [
    {
     "data": {
      "text/plain": [
       "True"
      ]
     },
     "execution_count": 26,
     "metadata": {},
     "output_type": "execute_result"
    }
   ],
   "source": [
    "'have'in stop_words"
   ]
  },
  {
   "cell_type": "markdown",
   "metadata": {},
   "source": [
    "Repeat the experiment and train the topic models. Do you get better topics?"
   ]
  },
  {
   "cell_type": "code",
   "execution_count": 27,
   "metadata": {},
   "outputs": [
    {
     "name": "stdout",
     "output_type": "stream",
     "text": [
      "[nltk_data] Downloading package stopwords to\n",
      "[nltk_data]     C:\\Users\\Mingjun\\AppData\\Roaming\\nltk_data...\n",
      "[nltk_data]   Package stopwords is already up-to-date!\n"
     ]
    }
   ],
   "source": [
    "import nltk\n",
    "nltk.download('stopwords')\n",
    "from nltk.corpus import stopwords\n",
    "stop_words = set(stopwords.words('english'))\n"
   ]
  },
  {
   "cell_type": "code",
   "execution_count": 28,
   "metadata": {
    "collapsed": true
   },
   "outputs": [],
   "source": [
    "def split_into_lemmas(message):\n",
    "    # convert to lower case\n",
    "    message = message.lower()\n",
    "    words = TextBlob(message).words\n",
    "    # for each word, take its \"base form\" = lemma \n",
    "    words = [word.lemma for word in words]\n",
    "    words = [word for word in words if  word.isalpha() and len(word) >= 3]\n",
    "    words = [word for word in words if not word in stop_words]\n",
    "    return words\n"
   ]
  },
  {
   "cell_type": "code",
   "execution_count": 29,
   "metadata": {},
   "outputs": [
    {
     "name": "stdout",
     "output_type": "stream",
     "text": [
      "(2000, 9355)\n"
     ]
    }
   ],
   "source": [
    "tfidf_transformer = TfidfVectorizer(analyzer=split_into_lemmas, min_df=0.001, max_df=0.3)\n",
    "tfidf_transformer.fit(data_samples)\n",
    "data_tfidf = tfidf_transformer.transform(data_samples)\n",
    "\n",
    "print(data_tfidf.shape)"
   ]
  },
  {
   "cell_type": "code",
   "execution_count": 30,
   "metadata": {},
   "outputs": [
    {
     "name": "stdout",
     "output_type": "stream",
     "text": [
      "\n",
      "Topics in NMF model:\n",
      "Topic #0:\n",
      "one people think like get time know thing year make good could well say right even way see would want\n",
      "Topic #1:\n",
      "drive disk hard controller problem ide scsi meg mac access cartridge software pin digital external boot western internal cable tape\n",
      "Topic #2:\n",
      "god christian bible jesus faith believe religion christ heaven belief son sin say life law atheism scripture satan lord love\n",
      "Topic #3:\n",
      "key chip clipper encryption session government phone secret bit rsa use message secure enforcement communication encrypted public scheme deposit algorithm\n",
      "Topic #4:\n",
      "thanks please anyone email advance know reply interested info send mail looking hello list information could someone address anybody help\n",
      "Topic #5:\n",
      "file bmp format swap ftp help drv read exe directory problem site copy available gif library postscript program midi disk\n",
      "Topic #6:\n",
      "geb chastity skepticism shameful bank intellect gordon surrender soon blood fit nerve drop evangelist pituitary disease pressure medical may female\n",
      "Topic #7:\n",
      "game team play player baseball season win espn fan leaf year wing goal hockey boy nhl league flyer brave heard\n",
      "Topic #8:\n",
      "car tire mile insurance dealer new brake model buying wheel price interior alarm engine horn chevy stereo condition civic oil\n",
      "Topic #9:\n",
      "driver video trident info color soundblaster card work adaptec diamond find disc stealth ftp purchased tell archive fine mode called\n",
      "Topic #10:\n",
      "floppy drive thing kit apple installation new junior idiot advice documentation upgrade proof cable alignment need different pay monitor chip\n",
      "Topic #11:\n",
      "card slot vlb cache graphic controller bus video modem ethernet fpu memory design ram port accelerator need vesa plenty color\n",
      "Topic #12:\n",
      "would like appreciated appreciate also might anyone fault staying wrong opinion say greatly source however consider nsa exe happen wondering\n",
      "Topic #13:\n",
      "window program application running using manager mode microsoft use workspace problem run help code memory looking screen software compiler multiple\n",
      "Topic #14:\n",
      "israel israeli arab lebanese jew state attack lebanon soldier palestinian village policy territory peace true ana water country withdraw diverted\n",
      "Topic #15:\n",
      "bike motorcycle dod insurance riding ride helmet course rode irwin cost animal know beemer good obviously patch leather recommend insure\n",
      "Topic #16:\n",
      "system objective unix claim problem disk motherboard software linux cash goal beep royal error revealed computer others question internet motherboards\n",
      "Topic #17:\n",
      "doe anyone know info anybody mean exist cub one thanks monitor guess anything asked cheat appreciated may hillary icon prez\n",
      "Topic #18:\n",
      "font truetype type atm use printer print value dpy adobe using resource code coreldraw correctly bureau anybody pure waste dortmund\n",
      "Topic #19:\n",
      "version latest stepping machine ftp rom work get title site newest software modem believe shareware seem dean available need program\n",
      "\n"
     ]
    }
   ],
   "source": [
    "nmf = NMF(n_components=n_topics, random_state=1, alpha=.1, l1_ratio=.5).fit(data_tfidf)\n",
    "nmf\n",
    "\n",
    "print(\"\\nTopics in NMF model:\")\n",
    "feature_names = tfidf_transformer.get_feature_names()\n",
    "print_top_words(nmf, feature_names, n_top_words)"
   ]
  },
  {
   "cell_type": "code",
   "execution_count": null,
   "metadata": {
    "collapsed": true
   },
   "outputs": [],
   "source": []
  }
 ],
 "metadata": {
  "kernelspec": {
   "display_name": "Python 2",
   "language": "python",
   "name": "python2"
  },
  "language_info": {
   "codemirror_mode": {
    "name": "ipython",
    "version": 2
   },
   "file_extension": ".py",
   "mimetype": "text/x-python",
   "name": "python",
   "nbconvert_exporter": "python",
   "pygments_lexer": "ipython2",
   "version": "2.7.15"
  }
 },
 "nbformat": 4,
 "nbformat_minor": 1
}
